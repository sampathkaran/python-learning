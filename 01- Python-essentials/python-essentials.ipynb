{
 "cells": [
  {
   "cell_type": "code",
   "execution_count": 1,
   "id": "8df31693-7804-44ab-b3d7-3ea17c3d3739",
   "metadata": {},
   "outputs": [
    {
     "name": "stdout",
     "output_type": "stream",
     "text": [
      "Hello World\n"
     ]
    }
   ],
   "source": [
    "print (\"Hello World\")"
   ]
  },
  {
   "cell_type": "code",
   "execution_count": null,
   "id": "8e626dcc-99f5-467a-b4ac-ca4ebc106300",
   "metadata": {},
   "outputs": [],
   "source": [
    "# Shortcuts\n",
    "# Press esc to go into command mode\n",
    "# Press a to insert a new cell above the current cell\n",
    "# Press b to insert a new cell below the current \n",
    "# d+d to delete a cell\n",
    "# m -> to convert code cell to markdown cell\n",
    "# y -> convent the markdown cell back to code cell"
   ]
  },
  {
   "cell_type": "markdown",
   "id": "4bcf6532-ad42-4b4d-81f7-2bb4a2ab29f5",
   "metadata": {},
   "source": [
    "# Python Essentials\n",
    "\n",
    "- point1\n",
    "- point2"
   ]
  },
  {
   "cell_type": "markdown",
   "id": "07f46a28-88e8-4b83-a3f8-b6f7e41ad70f",
   "metadata": {},
   "source": [
    "## Variables in Python Programming"
   ]
  },
  {
   "cell_type": "code",
   "execution_count": 2,
   "id": "5943cf3d-d218-47ae-9a88-44a09d081c39",
   "metadata": {},
   "outputs": [],
   "source": [
    "x = 100"
   ]
  },
  {
   "cell_type": "code",
   "execution_count": 3,
   "id": "639ab3f5-4df7-48ad-90a1-70f37dc1cb88",
   "metadata": {},
   "outputs": [
    {
     "data": {
      "text/plain": [
       "100"
      ]
     },
     "execution_count": 3,
     "metadata": {},
     "output_type": "execute_result"
    }
   ],
   "source": [
    "x"
   ]
  },
  {
   "cell_type": "code",
   "execution_count": 4,
   "id": "aa8e9d39-fcab-48cd-83b8-b4b1767cbac8",
   "metadata": {},
   "outputs": [
    {
     "data": {
      "text/plain": [
       "int"
      ]
     },
     "execution_count": 4,
     "metadata": {},
     "output_type": "execute_result"
    }
   ],
   "source": [
    "type(x)"
   ]
  },
  {
   "cell_type": "code",
   "execution_count": 5,
   "id": "8ba76f36-6962-4bdd-b0de-204eb0905889",
   "metadata": {},
   "outputs": [
    {
     "name": "stdout",
     "output_type": "stream",
     "text": [
      "99\n",
      "10\n"
     ]
    }
   ],
   "source": [
    "# rules of varaible\n",
    "# it is case senstivie\n",
    "x =10\n",
    "X = 99\n",
    "print(X)\n",
    "print(x)"
   ]
  },
  {
   "cell_type": "code",
   "execution_count": 6,
   "id": "a640112f-828b-4ef3-98f5-337edb4b2302",
   "metadata": {},
   "outputs": [],
   "source": [
    "x_123 = 5"
   ]
  },
  {
   "cell_type": "code",
   "execution_count": 7,
   "id": "2cb1f9a4-496f-459f-8c72-cac78c237c9f",
   "metadata": {},
   "outputs": [
    {
     "data": {
      "text/plain": [
       "5"
      ]
     },
     "execution_count": 7,
     "metadata": {},
     "output_type": "execute_result"
    }
   ],
   "source": [
    "x_123"
   ]
  },
  {
   "cell_type": "code",
   "execution_count": 8,
   "id": "2a7d64c6-fb60-4e8d-90e8-a92325283019",
   "metadata": {},
   "outputs": [
    {
     "ename": "SyntaxError",
     "evalue": "invalid decimal literal (1067945070.py, line 1)",
     "output_type": "error",
     "traceback": [
      "\u001b[0;36m  Cell \u001b[0;32mIn[8], line 1\u001b[0;36m\u001b[0m\n\u001b[0;31m    1x = 200\u001b[0m\n\u001b[0m    ^\u001b[0m\n\u001b[0;31mSyntaxError\u001b[0m\u001b[0;31m:\u001b[0m invalid decimal literal\n"
     ]
    }
   ],
   "source": [
    "1x = 200"
   ]
  },
  {
   "cell_type": "code",
   "execution_count": 9,
   "id": "756b5709-4b6b-4147-9712-402669209f20",
   "metadata": {},
   "outputs": [
    {
     "name": "stdout",
     "output_type": "stream",
     "text": [
      "['False', 'None', 'True', 'and', 'as', 'assert', 'async', 'await', 'break', 'class', 'continue', 'def', 'del', 'elif', 'else', 'except', 'finally', 'for', 'from', 'global', 'if', 'import', 'in', 'is', 'lambda', 'nonlocal', 'not', 'or', 'pass', 'raise', 'return', 'try', 'while', 'with', 'yield']\n"
     ]
    }
   ],
   "source": [
    "# Keywords are the ones that have predefined meaning\n",
    "# Variable name should not contain keywords\n",
    "import keyword\n",
    "print(keyword.kwlist)"
   ]
  },
  {
   "cell_type": "code",
   "execution_count": 10,
   "id": "c8aea107-456d-4f11-97c5-85ecbecb2b8a",
   "metadata": {},
   "outputs": [
    {
     "ename": "SyntaxError",
     "evalue": "invalid syntax (4194484637.py, line 1)",
     "output_type": "error",
     "traceback": [
      "\u001b[0;36m  Cell \u001b[0;32mIn[10], line 1\u001b[0;36m\u001b[0m\n\u001b[0;31m    if = 99\u001b[0m\n\u001b[0m       ^\u001b[0m\n\u001b[0;31mSyntaxError\u001b[0m\u001b[0;31m:\u001b[0m invalid syntax\n"
     ]
    }
   ],
   "source": [
    "if = 99"
   ]
  },
  {
   "cell_type": "code",
   "execution_count": 11,
   "id": "a4e30e0c-ed03-4ca1-b618-07a2897eb3f1",
   "metadata": {},
   "outputs": [],
   "source": [
    "# DevOps\n",
    "db_host = \"localhost\"\n",
    "db_user = \"user1\"\n",
    "port = 8080"
   ]
  },
  {
   "cell_type": "code",
   "execution_count": 13,
   "id": "ace4c7f7-907c-40f6-b4e7-126825828ee3",
   "metadata": {},
   "outputs": [],
   "source": [
    "#MLOps AIOps\n",
    "\n",
    "learning_rate = 0.001\n",
    "batch_size = 8\n",
    "num_epochs = 10"
   ]
  },
  {
   "cell_type": "code",
   "execution_count": 14,
   "id": "c9de612c-e9ff-4f6e-a485-52ea22166851",
   "metadata": {},
   "outputs": [
    {
     "data": {
      "text/plain": [
       "str"
      ]
     },
     "execution_count": 14,
     "metadata": {},
     "output_type": "execute_result"
    }
   ],
   "source": [
    "type(db_host)"
   ]
  },
  {
   "cell_type": "code",
   "execution_count": 15,
   "id": "71495a6b-a484-48d6-88b4-fe243c92d605",
   "metadata": {},
   "outputs": [
    {
     "data": {
      "text/plain": [
       "float"
      ]
     },
     "execution_count": 15,
     "metadata": {},
     "output_type": "execute_result"
    }
   ],
   "source": [
    "type(learning_rate)"
   ]
  },
  {
   "cell_type": "code",
   "execution_count": 16,
   "id": "0a832725-6112-44b8-a0b2-f18262558115",
   "metadata": {},
   "outputs": [],
   "source": [
    "is_prod = True"
   ]
  },
  {
   "cell_type": "code",
   "execution_count": 17,
   "id": "57fb18d6-2585-4147-b178-cfb690b8d4b8",
   "metadata": {},
   "outputs": [
    {
     "data": {
      "text/plain": [
       "bool"
      ]
     },
     "execution_count": 17,
     "metadata": {},
     "output_type": "execute_result"
    }
   ],
   "source": [
    "type(is_prod)"
   ]
  },
  {
   "cell_type": "code",
   "execution_count": 18,
   "id": "04902bb0-b04c-463b-88b7-43a06f3fe8ff",
   "metadata": {},
   "outputs": [],
   "source": [
    "# Python List\n",
    "# consists of collection of elements enclosed in [] brackets\n",
    "# contains elements from any datatype\n",
    "l1 = [1, 0.04, \"hello\", True]"
   ]
  },
  {
   "cell_type": "code",
   "execution_count": 19,
   "id": "d17538b5-7ec2-4101-992b-1e33b38a22fd",
   "metadata": {},
   "outputs": [
    {
     "data": {
      "text/plain": [
       "[1, 0.04, 'hello', True]"
      ]
     },
     "execution_count": 19,
     "metadata": {},
     "output_type": "execute_result"
    }
   ],
   "source": [
    "l1"
   ]
  },
  {
   "cell_type": "code",
   "execution_count": 20,
   "id": "63685703-7d7f-4936-8e07-000a1f403ab0",
   "metadata": {},
   "outputs": [
    {
     "data": {
      "text/plain": [
       "list"
      ]
     },
     "execution_count": 20,
     "metadata": {},
     "output_type": "execute_result"
    }
   ],
   "source": [
    "type(l1)"
   ]
  },
  {
   "cell_type": "code",
   "execution_count": 21,
   "id": "6c57abec-2afb-407b-9c4c-8e834acb4965",
   "metadata": {},
   "outputs": [],
   "source": [
    "# Python Tuple\n",
    "#collection of items enclosed in () brackets\n",
    "# contains elements from any datatype\n",
    "\n",
    "l1 = (5.6, 67, \"hi\", False)"
   ]
  },
  {
   "cell_type": "code",
   "execution_count": 22,
   "id": "555d4de4-5101-4790-b2fd-2ad49082c9a2",
   "metadata": {},
   "outputs": [
    {
     "data": {
      "text/plain": [
       "(5.6, 67, 'hi', False)"
      ]
     },
     "execution_count": 22,
     "metadata": {},
     "output_type": "execute_result"
    }
   ],
   "source": [
    "l1"
   ]
  },
  {
   "cell_type": "code",
   "execution_count": 23,
   "id": "42c87359-1236-4265-83f6-1a02840e07c1",
   "metadata": {},
   "outputs": [
    {
     "data": {
      "text/plain": [
       "tuple"
      ]
     },
     "execution_count": 23,
     "metadata": {},
     "output_type": "execute_result"
    }
   ],
   "source": [
    "type(l1)"
   ]
  },
  {
   "cell_type": "code",
   "execution_count": 25,
   "id": "fc4c7ebd-b1e6-47c7-89bb-d302a6655902",
   "metadata": {},
   "outputs": [],
   "source": [
    "# python dict\n",
    "# consist of key value pairs\n",
    "\n",
    "dict = {\"name\": \"John smith\", \"age\": 29, \"Married\": False}"
   ]
  },
  {
   "cell_type": "code",
   "execution_count": 26,
   "id": "9985a5fc-70e8-4bb6-ae84-cf1cb9d43f37",
   "metadata": {},
   "outputs": [
    {
     "data": {
      "text/plain": [
       "dict"
      ]
     },
     "execution_count": 26,
     "metadata": {},
     "output_type": "execute_result"
    }
   ],
   "source": [
    "type(dict)"
   ]
  },
  {
   "cell_type": "markdown",
   "id": "3b3097a8-9c4e-402e-90b2-97c197ed3dd1",
   "metadata": {},
   "source": [
    "## Comments in Python"
   ]
  },
  {
   "cell_type": "code",
   "execution_count": 27,
   "id": "0034b68c-63d8-45a8-8665-5d1c63534f7a",
   "metadata": {},
   "outputs": [],
   "source": [
    "# starting with # is a single line comment\n",
    "# Multiline comments \"\"\"or '''"
   ]
  },
  {
   "cell_type": "code",
   "execution_count": 29,
   "id": "abae4c8c-61c3-4238-924f-e7efd0c3b68a",
   "metadata": {},
   "outputs": [],
   "source": [
    "x = 10 # assiging 10 to X"
   ]
  },
  {
   "cell_type": "code",
   "execution_count": 30,
   "id": "ffd940c8-9a23-4709-957d-0c00bc257e33",
   "metadata": {},
   "outputs": [
    {
     "data": {
      "text/plain": [
       "10"
      ]
     },
     "execution_count": 30,
     "metadata": {},
     "output_type": "execute_result"
    }
   ],
   "source": [
    "x"
   ]
  },
  {
   "cell_type": "code",
   "execution_count": 34,
   "id": "41412ec7-baeb-4dbb-b6fe-b1b0610aec90",
   "metadata": {},
   "outputs": [
    {
     "data": {
      "text/plain": [
       "' \\nHello World\\nI am a Rockstar\\n'"
      ]
     },
     "execution_count": 34,
     "metadata": {},
     "output_type": "execute_result"
    }
   ],
   "source": [
    "''' \n",
    "Hello World\n",
    "I am a Rockstar\n",
    "'''"
   ]
  },
  {
   "cell_type": "markdown",
   "id": "51ba1864-ea08-4938-8fb9-de4411a95766",
   "metadata": {},
   "source": [
    "## Operators in python"
   ]
  },
  {
   "cell_type": "markdown",
   "id": "a5c34421-3cbb-4b21-9e42-4ccb1e964f4e",
   "metadata": {},
   "source": [
    "- Artihmetic Operator\n",
    "\n",
    "  x = 5\n",
    "  additon = x+y\n",
    "  subtraction = x-y\n",
    "  mutiplication = x * y\n",
    "  division = x / y\n",
    "  modulus = x % y\n",
    "  exponentiation = x ** y ie 5 ** 2 => 25\n",
    "\n",
    "- Assignment Operator\n",
    "\n",
    "  assign value to variables\n",
    "  include = += -= *= /= %= //= \n",
    "\n",
    "  eg x =10  and x+= 5 is x = x+5 ie x = 10+5 , x =15\n",
    "\n",
    "- Comparison Operator\n",
    "\n",
    "  compare between 2 values\n",
    "  output wil be True or False base on comparison\n",
    "  include == != > < >= <=\n",
    "\n",
    "\n",
    "- Logical Operator\n",
    "\n",
    "  used to combine condtional statements\n",
    "  includes and, or, not"
   ]
  },
  {
   "cell_type": "code",
   "execution_count": 36,
   "id": "1be49e5f-369f-44b3-8cb5-1cb13344e806",
   "metadata": {},
   "outputs": [
    {
     "data": {
      "text/plain": [
       "15"
      ]
     },
     "execution_count": 36,
     "metadata": {},
     "output_type": "execute_result"
    }
   ],
   "source": [
    "# Arithmetic Operator\n",
    "a =10\n",
    "b =5\n",
    "\n",
    "addition = a+b\n",
    "addition"
   ]
  },
  {
   "cell_type": "code",
   "execution_count": 38,
   "id": "5dd85f5f-ef6b-413e-abc9-ae2fd65ca18b",
   "metadata": {},
   "outputs": [
    {
     "data": {
      "text/plain": [
       "0"
      ]
     },
     "execution_count": 38,
     "metadata": {},
     "output_type": "execute_result"
    }
   ],
   "source": [
    "modulus = a % b\n",
    "modulus"
   ]
  },
  {
   "cell_type": "code",
   "execution_count": 40,
   "id": "43195a70-05f0-4051-8b5f-5c72e3984e34",
   "metadata": {},
   "outputs": [
    {
     "data": {
      "text/plain": [
       "100000"
      ]
     },
     "execution_count": 40,
     "metadata": {},
     "output_type": "execute_result"
    }
   ],
   "source": [
    "exp = a ** b\n",
    "exp"
   ]
  },
  {
   "cell_type": "code",
   "execution_count": 42,
   "id": "41e2ae04-209e-443e-90a6-4acaf0a3b949",
   "metadata": {},
   "outputs": [
    {
     "data": {
      "text/plain": [
       "(2.0, float)"
      ]
     },
     "execution_count": 42,
     "metadata": {},
     "output_type": "execute_result"
    }
   ],
   "source": [
    "div = a/b\n",
    "div, type(div) # here it is float"
   ]
  },
  {
   "cell_type": "code",
   "execution_count": 43,
   "id": "9cd3f957-0db0-4096-a60a-c7874345be61",
   "metadata": {},
   "outputs": [
    {
     "data": {
      "text/plain": [
       "(2, int)"
      ]
     },
     "execution_count": 43,
     "metadata": {},
     "output_type": "execute_result"
    }
   ],
   "source": [
    "# to get the divsion with integer value use floor divsion\n",
    "f = a // b\n",
    "f, type(f)"
   ]
  },
  {
   "cell_type": "code",
   "execution_count": 44,
   "id": "0587c802-75a0-485c-982e-208f1fe7e661",
   "metadata": {},
   "outputs": [],
   "source": [
    "# assignment Operators"
   ]
  },
  {
   "cell_type": "code",
   "execution_count": 45,
   "id": "8744695f-d7c2-4487-8934-7d09994c15dc",
   "metadata": {},
   "outputs": [],
   "source": [
    "x = 5"
   ]
  },
  {
   "cell_type": "code",
   "execution_count": 46,
   "id": "85688f31-9e64-415a-81d3-f6668921c82b",
   "metadata": {},
   "outputs": [
    {
     "data": {
      "text/plain": [
       "5"
      ]
     },
     "execution_count": 46,
     "metadata": {},
     "output_type": "execute_result"
    }
   ],
   "source": [
    "x"
   ]
  },
  {
   "cell_type": "code",
   "execution_count": 47,
   "id": "3ca5dde7-4d15-46fb-af84-13ed6f4155e1",
   "metadata": {},
   "outputs": [],
   "source": [
    "x += 1"
   ]
  },
  {
   "cell_type": "code",
   "execution_count": 49,
   "id": "3853939f-a098-4bae-98c4-e223c6552124",
   "metadata": {},
   "outputs": [
    {
     "data": {
      "text/plain": [
       "6"
      ]
     },
     "execution_count": 49,
     "metadata": {},
     "output_type": "execute_result"
    }
   ],
   "source": [
    "x"
   ]
  },
  {
   "cell_type": "code",
   "execution_count": 50,
   "id": "5c1af2cd-ef48-420b-959d-abad41b03a02",
   "metadata": {},
   "outputs": [],
   "source": [
    "x -= 3"
   ]
  },
  {
   "cell_type": "code",
   "execution_count": 51,
   "id": "984509b6-5f06-4132-9a1e-044d2fa999e6",
   "metadata": {},
   "outputs": [
    {
     "data": {
      "text/plain": [
       "3"
      ]
     },
     "execution_count": 51,
     "metadata": {},
     "output_type": "execute_result"
    }
   ],
   "source": [
    "x"
   ]
  },
  {
   "cell_type": "code",
   "execution_count": 52,
   "id": "b5145daa-452a-43f8-a29d-9e75651141cb",
   "metadata": {},
   "outputs": [],
   "source": [
    "# Comparison Operators"
   ]
  },
  {
   "cell_type": "code",
   "execution_count": 53,
   "id": "b6574d67-dd23-4e0b-9fde-bea8bfaefa3d",
   "metadata": {},
   "outputs": [
    {
     "data": {
      "text/plain": [
       "False"
      ]
     },
     "execution_count": 53,
     "metadata": {},
     "output_type": "execute_result"
    }
   ],
   "source": [
    "a = 10\n",
    "b = 5\n",
    "\n",
    "a == b"
   ]
  },
  {
   "cell_type": "code",
   "execution_count": 54,
   "id": "96654854-7b0e-44a6-93d1-5da005738e7a",
   "metadata": {},
   "outputs": [
    {
     "data": {
      "text/plain": [
       "True"
      ]
     },
     "execution_count": 54,
     "metadata": {},
     "output_type": "execute_result"
    }
   ],
   "source": [
    "a!=b"
   ]
  },
  {
   "cell_type": "code",
   "execution_count": 55,
   "id": "ef109ea9-3997-42d0-9bbd-8eb38fff87aa",
   "metadata": {},
   "outputs": [
    {
     "data": {
      "text/plain": [
       "True"
      ]
     },
     "execution_count": 55,
     "metadata": {},
     "output_type": "execute_result"
    }
   ],
   "source": [
    "a > b"
   ]
  },
  {
   "cell_type": "code",
   "execution_count": 56,
   "id": "cc4f4f9c-ca6c-44d9-8482-251723c3ef09",
   "metadata": {},
   "outputs": [
    {
     "data": {
      "text/plain": [
       "False"
      ]
     },
     "execution_count": 56,
     "metadata": {},
     "output_type": "execute_result"
    }
   ],
   "source": [
    "a < b"
   ]
  },
  {
   "cell_type": "code",
   "execution_count": 57,
   "id": "cb501033-95a6-4aad-885a-cd297e11bedd",
   "metadata": {},
   "outputs": [],
   "source": [
    "# Logical Operators"
   ]
  },
  {
   "cell_type": "code",
   "execution_count": 58,
   "id": "38047236-4bf1-462b-bf67-3299a053794f",
   "metadata": {},
   "outputs": [],
   "source": [
    "x = True\n",
    "y = True\n",
    "z = False"
   ]
  },
  {
   "cell_type": "code",
   "execution_count": 59,
   "id": "0e66a334-1ef6-43bc-b61f-638e6d67f1da",
   "metadata": {},
   "outputs": [
    {
     "data": {
      "text/plain": [
       "True"
      ]
     },
     "execution_count": 59,
     "metadata": {},
     "output_type": "execute_result"
    }
   ],
   "source": [
    "# logical and \n",
    "x and y"
   ]
  },
  {
   "cell_type": "code",
   "execution_count": 60,
   "id": "60903589-51ff-4ca1-919b-8faefceadc1f",
   "metadata": {},
   "outputs": [
    {
     "data": {
      "text/plain": [
       "False"
      ]
     },
     "execution_count": 60,
     "metadata": {},
     "output_type": "execute_result"
    }
   ],
   "source": [
    "x and z"
   ]
  },
  {
   "cell_type": "code",
   "execution_count": 61,
   "id": "5e7725f7-b469-468d-9db7-b78befa74a8f",
   "metadata": {},
   "outputs": [],
   "source": [
    "# Logical Or"
   ]
  },
  {
   "cell_type": "code",
   "execution_count": 62,
   "id": "00e022be-d6b1-4937-b03b-73d5865e41af",
   "metadata": {},
   "outputs": [
    {
     "data": {
      "text/plain": [
       "True"
      ]
     },
     "execution_count": 62,
     "metadata": {},
     "output_type": "execute_result"
    }
   ],
   "source": [
    "x or y"
   ]
  },
  {
   "cell_type": "code",
   "execution_count": 63,
   "id": "2befd0b2-6516-4dc6-ba85-c6b20dfe8c48",
   "metadata": {},
   "outputs": [
    {
     "data": {
      "text/plain": [
       "True"
      ]
     },
     "execution_count": 63,
     "metadata": {},
     "output_type": "execute_result"
    }
   ],
   "source": [
    "x or z"
   ]
  },
  {
   "cell_type": "code",
   "execution_count": 65,
   "id": "7c6f1029-17d5-4e6b-a6bb-6aaec29d736a",
   "metadata": {},
   "outputs": [
    {
     "data": {
      "text/plain": [
       "False"
      ]
     },
     "execution_count": 65,
     "metadata": {},
     "output_type": "execute_result"
    }
   ],
   "source": [
    "z or z"
   ]
  },
  {
   "cell_type": "code",
   "execution_count": 66,
   "id": "1da26860-2ceb-4917-9118-09949bbbfadf",
   "metadata": {},
   "outputs": [
    {
     "data": {
      "text/plain": [
       "False"
      ]
     },
     "execution_count": 66,
     "metadata": {},
     "output_type": "execute_result"
    }
   ],
   "source": [
    "# logical not\n",
    "# Uniary operator ie on single boolean value\n",
    "not(x)"
   ]
  },
  {
   "cell_type": "code",
   "execution_count": 1,
   "id": "7c4dcb8c-b2d5-449b-965e-ee89d65a2394",
   "metadata": {},
   "outputs": [],
   "source": [
    "## MLOPS/DEVOPS Operators use"
   ]
  },
  {
   "cell_type": "code",
   "execution_count": 1,
   "id": "887dc6e1-45d6-4cce-b28e-111b558decd4",
   "metadata": {},
   "outputs": [
    {
     "data": {
      "text/plain": [
       "15"
      ]
     },
     "execution_count": 1,
     "metadata": {},
     "output_type": "execute_result"
    }
   ],
   "source": [
    "num_records = 1000\n",
    "batch_size = 64\n",
    "\n",
    "num_batches = num_records // batch_size\n",
    "num_batches # calculate no.of batches for processing"
   ]
  },
  {
   "cell_type": "markdown",
   "id": "ef01d903-14f4-472a-984d-34f40f4adbd3",
   "metadata": {},
   "source": [
    "## Functions"
   ]
  },
  {
   "cell_type": "markdown",
   "id": "89e2b4b5-3241-499b-9341-2326be40cc94",
   "metadata": {},
   "source": [
    "Numerics Function eg max(), min(), pow()\n",
    "Strng functions eg len() upper() lower() list()\n"
   ]
  },
  {
   "cell_type": "code",
   "execution_count": 2,
   "id": "fb68d23d-b749-4652-bb31-6ec9f2b924c4",
   "metadata": {},
   "outputs": [
    {
     "data": {
      "text/plain": [
       "5.5"
      ]
     },
     "execution_count": 2,
     "metadata": {},
     "output_type": "execute_result"
    }
   ],
   "source": [
    "# Numeric Function\n",
    "x = -5.5\n",
    "abs(x)"
   ]
  },
  {
   "cell_type": "code",
   "execution_count": 3,
   "id": "eb176cca-de8d-4b13-b998-1d5c5883508b",
   "metadata": {},
   "outputs": [
    {
     "data": {
      "text/plain": [
       "6"
      ]
     },
     "execution_count": 3,
     "metadata": {},
     "output_type": "execute_result"
    }
   ],
   "source": [
    "x = [4,5,6]\n",
    "max(x)"
   ]
  },
  {
   "cell_type": "code",
   "execution_count": 4,
   "id": "cd5f1308-72d5-4073-ae86-87398b527caa",
   "metadata": {},
   "outputs": [
    {
     "data": {
      "text/plain": [
       "15625"
      ]
     },
     "execution_count": 4,
     "metadata": {},
     "output_type": "execute_result"
    }
   ],
   "source": [
    "pow(5,6)"
   ]
  },
  {
   "cell_type": "code",
   "execution_count": 5,
   "id": "80c3cf6e-0e54-44d0-b1f7-7238915d8504",
   "metadata": {},
   "outputs": [],
   "source": [
    "# Round function"
   ]
  },
  {
   "cell_type": "code",
   "execution_count": 7,
   "id": "99228bbe-520f-46a8-aeb3-109d1bff3b54",
   "metadata": {},
   "outputs": [
    {
     "data": {
      "text/plain": [
       "6"
      ]
     },
     "execution_count": 7,
     "metadata": {},
     "output_type": "execute_result"
    }
   ],
   "source": [
    "x = 5.678\n",
    "round(x)"
   ]
  },
  {
   "cell_type": "code",
   "execution_count": 8,
   "id": "30e806b1-ff34-4d38-9a54-c1cfe4f050da",
   "metadata": {},
   "outputs": [
    {
     "data": {
      "text/plain": [
       "11"
      ]
     },
     "execution_count": 8,
     "metadata": {},
     "output_type": "execute_result"
    }
   ],
   "source": [
    "# String functions\n",
    "a = \"Hello World\"\n",
    "\n",
    "len (a)"
   ]
  },
  {
   "cell_type": "code",
   "execution_count": 11,
   "id": "d7d9f86c-4dbf-44b3-971b-8d4b910ca187",
   "metadata": {},
   "outputs": [
    {
     "data": {
      "text/plain": [
       "'HELLO WORLD'"
      ]
     },
     "execution_count": 11,
     "metadata": {},
     "output_type": "execute_result"
    }
   ],
   "source": [
    "a.upper()"
   ]
  },
  {
   "cell_type": "code",
   "execution_count": 13,
   "id": "f8764c27-8344-4886-aa82-91e5a89ff42f",
   "metadata": {},
   "outputs": [
    {
     "data": {
      "text/plain": [
       "['Hello', 'World']"
      ]
     },
     "execution_count": 13,
     "metadata": {},
     "output_type": "execute_result"
    }
   ],
   "source": [
    "a.split(\" \")"
   ]
  },
  {
   "cell_type": "code",
   "execution_count": 14,
   "id": "0c0ccf71-8399-41dd-87cc-895dd5631e73",
   "metadata": {},
   "outputs": [],
   "source": [
    "# List Operations\n",
    "l1 = [1,2,3,4,5]"
   ]
  },
  {
   "cell_type": "code",
   "execution_count": 15,
   "id": "a130e592-124e-4a88-9246-e46e783a0c78",
   "metadata": {},
   "outputs": [],
   "source": [
    "l1.append(99)"
   ]
  },
  {
   "cell_type": "code",
   "execution_count": 16,
   "id": "1da77807-eb3c-4834-96f3-2734bb5048ff",
   "metadata": {},
   "outputs": [
    {
     "data": {
      "text/plain": [
       "[1, 2, 3, 4, 5, 99]"
      ]
     },
     "execution_count": 16,
     "metadata": {},
     "output_type": "execute_result"
    }
   ],
   "source": [
    "l1"
   ]
  },
  {
   "cell_type": "code",
   "execution_count": 17,
   "id": "9a28725f-4313-4577-b1b3-27623030e1bc",
   "metadata": {},
   "outputs": [],
   "source": [
    "l1.remove(2)"
   ]
  },
  {
   "cell_type": "code",
   "execution_count": 18,
   "id": "e763b846-225f-44ca-a35b-f66f4f6de850",
   "metadata": {},
   "outputs": [
    {
     "data": {
      "text/plain": [
       "[1, 3, 4, 5, 99]"
      ]
     },
     "execution_count": 18,
     "metadata": {},
     "output_type": "execute_result"
    }
   ],
   "source": [
    "l1"
   ]
  },
  {
   "cell_type": "code",
   "execution_count": 19,
   "id": "a12559a2-a8d2-4cc4-a61b-7aebbeed8b12",
   "metadata": {},
   "outputs": [],
   "source": [
    "# Dictonary functions\n",
    "d = {\"a\" : 1, \"b\": 2, \"c\":9}"
   ]
  },
  {
   "cell_type": "code",
   "execution_count": 20,
   "id": "c9e646d5-d045-4920-8eae-6e423c64657e",
   "metadata": {},
   "outputs": [
    {
     "data": {
      "text/plain": [
       "dict"
      ]
     },
     "execution_count": 20,
     "metadata": {},
     "output_type": "execute_result"
    }
   ],
   "source": [
    "type(d)"
   ]
  },
  {
   "cell_type": "code",
   "execution_count": 21,
   "id": "47ac81d9-6a88-4f01-a4a2-fc656c769847",
   "metadata": {},
   "outputs": [
    {
     "data": {
      "text/plain": [
       "dict_keys(['a', 'b', 'c'])"
      ]
     },
     "execution_count": 21,
     "metadata": {},
     "output_type": "execute_result"
    }
   ],
   "source": [
    "d.keys()"
   ]
  },
  {
   "cell_type": "code",
   "execution_count": 22,
   "id": "67df512e-86d0-4221-9c5c-e2aa06ced743",
   "metadata": {},
   "outputs": [
    {
     "data": {
      "text/plain": [
       "dict_values([1, 2, 9])"
      ]
     },
     "execution_count": 22,
     "metadata": {},
     "output_type": "execute_result"
    }
   ],
   "source": [
    "d.values()"
   ]
  },
  {
   "cell_type": "code",
   "execution_count": 23,
   "id": "8d3abe2e-a9e8-41bc-988d-ef6ee6e8d79a",
   "metadata": {},
   "outputs": [
    {
     "data": {
      "text/plain": [
       "dict_items([('a', 1), ('b', 2), ('c', 9)])"
      ]
     },
     "execution_count": 23,
     "metadata": {},
     "output_type": "execute_result"
    }
   ],
   "source": [
    "d.items()"
   ]
  },
  {
   "cell_type": "code",
   "execution_count": 25,
   "id": "84f09fdc-ca6b-4a92-b738-27afc7c6ab2c",
   "metadata": {},
   "outputs": [
    {
     "data": {
      "text/plain": [
       "str"
      ]
     },
     "execution_count": 25,
     "metadata": {},
     "output_type": "execute_result"
    }
   ],
   "source": [
    "# Type conversion function - also known as casting \n",
    "x = \"10\"\n",
    "type(x)"
   ]
  },
  {
   "cell_type": "code",
   "execution_count": 28,
   "id": "e71b8ff5-7a35-4831-93fe-d427200f7f55",
   "metadata": {},
   "outputs": [],
   "source": [
    "z = int(x)"
   ]
  },
  {
   "cell_type": "code",
   "execution_count": 29,
   "id": "828739ff-a2c2-4038-b19f-c1290fde71c1",
   "metadata": {},
   "outputs": [
    {
     "data": {
      "text/plain": [
       "int"
      ]
     },
     "execution_count": 29,
     "metadata": {},
     "output_type": "execute_result"
    }
   ],
   "source": [
    "type(z)"
   ]
  },
  {
   "cell_type": "code",
   "execution_count": 30,
   "id": "939d8ef7-fd68-4ade-ac0f-6a5be01e579e",
   "metadata": {},
   "outputs": [],
   "source": [
    "y = float(z)"
   ]
  },
  {
   "cell_type": "code",
   "execution_count": 31,
   "id": "a2c58eeb-3ef4-49ac-90c1-f2b34e24ca54",
   "metadata": {},
   "outputs": [
    {
     "data": {
      "text/plain": [
       "float"
      ]
     },
     "execution_count": 31,
     "metadata": {},
     "output_type": "execute_result"
    }
   ],
   "source": [
    "type(y)"
   ]
  },
  {
   "cell_type": "code",
   "execution_count": 32,
   "id": "b2c37661-9310-486a-b7ec-8ba2eaa5efd9",
   "metadata": {},
   "outputs": [
    {
     "data": {
      "text/plain": [
       "10.0"
      ]
     },
     "execution_count": 32,
     "metadata": {},
     "output_type": "execute_result"
    }
   ],
   "source": [
    "y"
   ]
  },
  {
   "cell_type": "code",
   "execution_count": 35,
   "id": "ffae924c-0a3f-417b-909c-0f3655ccea74",
   "metadata": {},
   "outputs": [
    {
     "data": {
      "text/plain": [
       "['a', 'b', 'c', 'd', 'e', 'f', ' ', 'g', 'h', 'j', 'i', 'j', 'k']"
      ]
     },
     "execution_count": 35,
     "metadata": {},
     "output_type": "execute_result"
    }
   ],
   "source": [
    "x = \"abcdef ghjijk\"\n",
    "y = list(x)\n",
    "y"
   ]
  },
  {
   "cell_type": "code",
   "execution_count": 37,
   "id": "45550fb2-341a-4336-be1a-6e409d98e226",
   "metadata": {},
   "outputs": [
    {
     "name": "stdin",
     "output_type": "stream",
     "text": [
      "give me a number 23\n"
     ]
    },
    {
     "data": {
      "text/plain": [
       "str"
      ]
     },
     "execution_count": 37,
     "metadata": {},
     "output_type": "execute_result"
    }
   ],
   "source": [
    "# input/output function\n",
    "\n",
    "# the input value provided will be always string\n",
    "x = input(\"give me a number\")\n",
    "type(x)\n",
    "x"
   ]
  },
  {
   "cell_type": "code",
   "execution_count": 39,
   "id": "164e2cea-494d-4900-9d42-1ea6122ef7b4",
   "metadata": {},
   "outputs": [
    {
     "data": {
      "text/plain": [
       "range(0, 5)"
      ]
     },
     "execution_count": 39,
     "metadata": {},
     "output_type": "execute_result"
    }
   ],
   "source": [
    "# misc functions\n",
    "x = range(5)\n",
    "x"
   ]
  },
  {
   "cell_type": "code",
   "execution_count": 40,
   "id": "e56c43b7-28e5-433a-a2ee-764e4b92c939",
   "metadata": {},
   "outputs": [
    {
     "data": {
      "text/plain": [
       "[0, 1, 2, 3, 4]"
      ]
     },
     "execution_count": 40,
     "metadata": {},
     "output_type": "execute_result"
    }
   ],
   "source": [
    "list(x)"
   ]
  },
  {
   "cell_type": "markdown",
   "id": "54a6ec97-c644-405d-bcb9-f9f1077af404",
   "metadata": {},
   "source": [
    "## Sequence in Python\n",
    "- Squence are ordered collection of items or elements \n",
    "- allow indexing and slicing\n",
    "- examples include string, list, tuple,range\n",
    "\n",
    "Characters of sequence\n",
    "- orderd : elements have speicfic order\n",
    "- Indexable : Elements can be accessing using index\n",
    "- Immutable/Mutable: depending on sequence type element can be modified\n",
    "- Iterable : sequence can be iterated over loops"
   ]
  },
  {
   "cell_type": "code",
   "execution_count": 41,
   "id": "ba43a17a-1732-48c1-a7b2-f77b6c7ee72b",
   "metadata": {},
   "outputs": [],
   "source": [
    "x = \"hello world\""
   ]
  },
  {
   "cell_type": "code",
   "execution_count": 42,
   "id": "c51e58a3-9378-4e67-865a-66efb650bf6c",
   "metadata": {},
   "outputs": [
    {
     "data": {
      "text/plain": [
       "11"
      ]
     },
     "execution_count": 42,
     "metadata": {},
     "output_type": "execute_result"
    }
   ],
   "source": [
    "len(x)"
   ]
  },
  {
   "cell_type": "code",
   "execution_count": 44,
   "id": "b07036b9-c6bb-44ac-8fc9-e19e6d18a5d2",
   "metadata": {},
   "outputs": [
    {
     "data": {
      "text/plain": [
       "'e'"
      ]
     },
     "execution_count": 44,
     "metadata": {},
     "output_type": "execute_result"
    }
   ],
   "source": [
    "# indexing \n",
    "# indexing starts from 0\n",
    "x[1]"
   ]
  },
  {
   "cell_type": "code",
   "execution_count": 45,
   "id": "54f91038-e468-499b-ad92-cf4cb291f400",
   "metadata": {},
   "outputs": [
    {
     "data": {
      "text/plain": [
       "'hello w'"
      ]
     },
     "execution_count": 45,
     "metadata": {},
     "output_type": "execute_result"
    }
   ],
   "source": [
    "x[:7]"
   ]
  },
  {
   "cell_type": "code",
   "execution_count": 46,
   "id": "5dc4d2b0-f58b-411f-b89b-759d5d1347d5",
   "metadata": {},
   "outputs": [],
   "source": [
    "# slicing\n",
    "# return subset [start:stop]"
   ]
  },
  {
   "cell_type": "code",
   "execution_count": 47,
   "id": "b8b15af0-db51-4ca9-ab7a-7000cf8f10c3",
   "metadata": {},
   "outputs": [
    {
     "data": {
      "text/plain": [
       "'llo'"
      ]
     },
     "execution_count": 47,
     "metadata": {},
     "output_type": "execute_result"
    }
   ],
   "source": [
    "x[2:5]"
   ]
  },
  {
   "cell_type": "code",
   "execution_count": 48,
   "id": "1a7145a3-7c65-413b-967a-df9808c22896",
   "metadata": {},
   "outputs": [
    {
     "ename": "TypeError",
     "evalue": "'str' object does not support item assignment",
     "output_type": "error",
     "traceback": [
      "\u001b[0;31m---------------------------------------------------------------------------\u001b[0m",
      "\u001b[0;31mTypeError\u001b[0m                                 Traceback (most recent call last)",
      "Cell \u001b[0;32mIn[48], line 1\u001b[0m\n\u001b[0;32m----> 1\u001b[0m x[\u001b[38;5;241m0\u001b[39m]\u001b[38;5;241m=\u001b[39m \u001b[38;5;124m'\u001b[39m\u001b[38;5;124mm\u001b[39m\u001b[38;5;124m'\u001b[39m\n",
      "\u001b[0;31mTypeError\u001b[0m: 'str' object does not support item assignment"
     ]
    }
   ],
   "source": [
    "# strings are immutable\n",
    "x[0]= 'm'"
   ]
  },
  {
   "cell_type": "code",
   "execution_count": 49,
   "id": "7bf062c2-770e-4ccc-bec8-29dfcab3805f",
   "metadata": {},
   "outputs": [
    {
     "data": {
      "text/plain": [
       "'hello world'"
      ]
     },
     "execution_count": 49,
     "metadata": {},
     "output_type": "execute_result"
    }
   ],
   "source": [
    "x"
   ]
  },
  {
   "cell_type": "code",
   "execution_count": 50,
   "id": "b9e1ee38-de6d-4967-8ce1-c59efee3e052",
   "metadata": {},
   "outputs": [
    {
     "data": {
      "text/plain": [
       "True"
      ]
     },
     "execution_count": 50,
     "metadata": {},
     "output_type": "execute_result"
    }
   ],
   "source": [
    "'e' in x"
   ]
  },
  {
   "cell_type": "code",
   "execution_count": 51,
   "id": "01ccd157-de52-43e0-9637-cc488d1633aa",
   "metadata": {},
   "outputs": [],
   "source": [
    "# list sequence"
   ]
  },
  {
   "cell_type": "code",
   "execution_count": 52,
   "id": "0be9acae-5456-478a-8641-5d01dcfc3e6a",
   "metadata": {},
   "outputs": [],
   "source": [
    "x = [1,2,3,4,5,6,7,8]"
   ]
  },
  {
   "cell_type": "code",
   "execution_count": 53,
   "id": "d48e6b12-c693-4fbd-94eb-eaa3cb310293",
   "metadata": {},
   "outputs": [
    {
     "data": {
      "text/plain": [
       "[1, 2, 3, 4, 5, 6, 7, 8]"
      ]
     },
     "execution_count": 53,
     "metadata": {},
     "output_type": "execute_result"
    }
   ],
   "source": [
    "x"
   ]
  },
  {
   "cell_type": "code",
   "execution_count": 54,
   "id": "e8374d59-240f-4ca9-b938-7326441399ee",
   "metadata": {},
   "outputs": [
    {
     "data": {
      "text/plain": [
       "[3, 4, 5]"
      ]
     },
     "execution_count": 54,
     "metadata": {},
     "output_type": "execute_result"
    }
   ],
   "source": [
    "x[2:5]"
   ]
  },
  {
   "cell_type": "code",
   "execution_count": 55,
   "id": "f92058e5-bece-450a-9b92-cf891f54e6a0",
   "metadata": {},
   "outputs": [],
   "source": [
    "x[1] = 'a'"
   ]
  },
  {
   "cell_type": "code",
   "execution_count": 56,
   "id": "ca79c004-82ca-4ef0-bd0a-00e112ea152f",
   "metadata": {},
   "outputs": [
    {
     "data": {
      "text/plain": [
       "[1, 'a', 3, 4, 5, 6, 7, 8]"
      ]
     },
     "execution_count": 56,
     "metadata": {},
     "output_type": "execute_result"
    }
   ],
   "source": [
    "x"
   ]
  },
  {
   "cell_type": "code",
   "execution_count": 58,
   "id": "92bac1e6-7eda-4fcd-aa1b-e0f32afc91ac",
   "metadata": {},
   "outputs": [
    {
     "data": {
      "text/plain": [
       "True"
      ]
     },
     "execution_count": 58,
     "metadata": {},
     "output_type": "execute_result"
    }
   ],
   "source": [
    "'a' in x"
   ]
  },
  {
   "cell_type": "code",
   "execution_count": 60,
   "id": "9f746a14-0805-48fa-a99d-cdbff9bd0d14",
   "metadata": {},
   "outputs": [
    {
     "data": {
      "text/plain": [
       "4"
      ]
     },
     "execution_count": 60,
     "metadata": {},
     "output_type": "execute_result"
    }
   ],
   "source": [
    "x.pop(3)"
   ]
  },
  {
   "cell_type": "code",
   "execution_count": 61,
   "id": "e0c21871-0d2e-4da0-9d71-28c732c36c7b",
   "metadata": {},
   "outputs": [
    {
     "data": {
      "text/plain": [
       "[1, 'a', 3, 5, 6, 7, 8]"
      ]
     },
     "execution_count": 61,
     "metadata": {},
     "output_type": "execute_result"
    }
   ],
   "source": [
    "x"
   ]
  },
  {
   "cell_type": "code",
   "execution_count": 62,
   "id": "4e535788-7e47-423e-bd68-679eab6f2648",
   "metadata": {},
   "outputs": [],
   "source": [
    "# Python Tuples"
   ]
  },
  {
   "cell_type": "code",
   "execution_count": 63,
   "id": "ed3aa380-8485-49a9-a723-0152a4b17ca2",
   "metadata": {},
   "outputs": [],
   "source": [
    "t = (1,2,3,4,5)"
   ]
  },
  {
   "cell_type": "code",
   "execution_count": 65,
   "id": "bbb2d568-a8b2-41db-b837-528437b42508",
   "metadata": {},
   "outputs": [
    {
     "data": {
      "text/plain": [
       "tuple"
      ]
     },
     "execution_count": 65,
     "metadata": {},
     "output_type": "execute_result"
    }
   ],
   "source": [
    "type(t)"
   ]
  },
  {
   "cell_type": "code",
   "execution_count": 66,
   "id": "6c6673a9-8ec0-4f25-97c1-e16eeefe5586",
   "metadata": {},
   "outputs": [
    {
     "data": {
      "text/plain": [
       "4"
      ]
     },
     "execution_count": 66,
     "metadata": {},
     "output_type": "execute_result"
    }
   ],
   "source": [
    "t[3]"
   ]
  },
  {
   "cell_type": "code",
   "execution_count": 67,
   "id": "e61de354-15a2-493a-b3db-0eb3947d2a4a",
   "metadata": {},
   "outputs": [
    {
     "data": {
      "text/plain": [
       "(1, 2, 3, 4)"
      ]
     },
     "execution_count": 67,
     "metadata": {},
     "output_type": "execute_result"
    }
   ],
   "source": [
    "t[:4]"
   ]
  },
  {
   "cell_type": "code",
   "execution_count": 68,
   "id": "9587686c-5dbb-499b-81eb-c8401eb31ffe",
   "metadata": {},
   "outputs": [
    {
     "data": {
      "text/plain": [
       "(1, 2, 3, 4, 5)"
      ]
     },
     "execution_count": 68,
     "metadata": {},
     "output_type": "execute_result"
    }
   ],
   "source": [
    "t"
   ]
  },
  {
   "cell_type": "code",
   "execution_count": 69,
   "id": "bebcf6eb-cbf7-4b59-97d3-c09cf1632364",
   "metadata": {},
   "outputs": [
    {
     "ename": "TypeError",
     "evalue": "'tuple' object does not support item assignment",
     "output_type": "error",
     "traceback": [
      "\u001b[0;31m---------------------------------------------------------------------------\u001b[0m",
      "\u001b[0;31mTypeError\u001b[0m                                 Traceback (most recent call last)",
      "Cell \u001b[0;32mIn[69], line 1\u001b[0m\n\u001b[0;32m----> 1\u001b[0m t[\u001b[38;5;241m4\u001b[39m] \u001b[38;5;241m=\u001b[39m \u001b[38;5;124m'\u001b[39m\u001b[38;5;124ma\u001b[39m\u001b[38;5;124m'\u001b[39m\n",
      "\u001b[0;31mTypeError\u001b[0m: 'tuple' object does not support item assignment"
     ]
    }
   ],
   "source": [
    "# like string tuple is immutablr\n",
    "t[4] = 'a'"
   ]
  },
  {
   "cell_type": "code",
   "execution_count": 70,
   "id": "bcffe71e-b7c4-4c16-bfae-6ca5ee578243",
   "metadata": {},
   "outputs": [],
   "source": [
    "# Dict sequence"
   ]
  },
  {
   "cell_type": "code",
   "execution_count": 71,
   "id": "534ce0f8-d139-4a6d-9e64-cf1b85c45024",
   "metadata": {},
   "outputs": [],
   "source": [
    "p = {\"age\": 45, \"name\": \"sam\", \"married\": True}"
   ]
  },
  {
   "cell_type": "code",
   "execution_count": 72,
   "id": "6973530a-12c0-4cea-8c6d-06705d4062b1",
   "metadata": {},
   "outputs": [
    {
     "data": {
      "text/plain": [
       "dict"
      ]
     },
     "execution_count": 72,
     "metadata": {},
     "output_type": "execute_result"
    }
   ],
   "source": [
    "type(p)"
   ]
  },
  {
   "cell_type": "code",
   "execution_count": 74,
   "id": "cad5a681-8118-4d69-805c-920ac25a1633",
   "metadata": {},
   "outputs": [
    {
     "data": {
      "text/plain": [
       "dict_keys(['age', 'name', 'married'])"
      ]
     },
     "execution_count": 74,
     "metadata": {},
     "output_type": "execute_result"
    }
   ],
   "source": [
    "p.keys()"
   ]
  },
  {
   "cell_type": "code",
   "execution_count": 75,
   "id": "c028d905-7d23-4768-a7cb-61290d12c5c6",
   "metadata": {},
   "outputs": [
    {
     "data": {
      "text/plain": [
       "dict_values([45, 'sam', True])"
      ]
     },
     "execution_count": 75,
     "metadata": {},
     "output_type": "execute_result"
    }
   ],
   "source": [
    "p.values()"
   ]
  },
  {
   "cell_type": "code",
   "execution_count": 76,
   "id": "0c5b499d-9085-4700-b071-14fd0b3f6ec2",
   "metadata": {},
   "outputs": [],
   "source": [
    "p[\"degree\"] = \"BE\""
   ]
  },
  {
   "cell_type": "code",
   "execution_count": 77,
   "id": "44673213-a840-47d4-b349-b015776ff63d",
   "metadata": {},
   "outputs": [
    {
     "data": {
      "text/plain": [
       "{'age': 45, 'name': 'sam', 'married': True, 'degree': 'BE'}"
      ]
     },
     "execution_count": 77,
     "metadata": {},
     "output_type": "execute_result"
    }
   ],
   "source": [
    "p"
   ]
  },
  {
   "cell_type": "code",
   "execution_count": 78,
   "id": "06fbf6ff-8a62-4419-b19e-fb7baffe6d6e",
   "metadata": {},
   "outputs": [
    {
     "data": {
      "text/plain": [
       "45"
      ]
     },
     "execution_count": 78,
     "metadata": {},
     "output_type": "execute_result"
    }
   ],
   "source": [
    "p.pop('age')"
   ]
  },
  {
   "cell_type": "code",
   "execution_count": 79,
   "id": "88be8887-2c0a-4981-a9c9-b382b7cde052",
   "metadata": {},
   "outputs": [
    {
     "data": {
      "text/plain": [
       "{'name': 'sam', 'married': True, 'degree': 'BE'}"
      ]
     },
     "execution_count": 79,
     "metadata": {},
     "output_type": "execute_result"
    }
   ],
   "source": [
    "p"
   ]
  },
  {
   "cell_type": "code",
   "execution_count": 80,
   "id": "01bd9338-2d2e-4994-9b7f-127b3385cde5",
   "metadata": {},
   "outputs": [],
   "source": [
    "# in dict slicing and indexing by number not allowed as indexing is doen by key"
   ]
  },
  {
   "cell_type": "code",
   "execution_count": 81,
   "id": "e7a93759-db86-493b-8727-47203592311e",
   "metadata": {},
   "outputs": [
    {
     "ename": "KeyError",
     "evalue": "1",
     "output_type": "error",
     "traceback": [
      "\u001b[0;31m---------------------------------------------------------------------------\u001b[0m",
      "\u001b[0;31mKeyError\u001b[0m                                  Traceback (most recent call last)",
      "Cell \u001b[0;32mIn[81], line 1\u001b[0m\n\u001b[0;32m----> 1\u001b[0m p[\u001b[38;5;241m1\u001b[39m]\n",
      "\u001b[0;31mKeyError\u001b[0m: 1"
     ]
    }
   ],
   "source": [
    "p[1]"
   ]
  },
  {
   "cell_type": "code",
   "execution_count": 82,
   "id": "9c996563-fa4a-4445-b728-6a5ed884a4b1",
   "metadata": {},
   "outputs": [
    {
     "data": {
      "text/plain": [
       "'sam'"
      ]
     },
     "execution_count": 82,
     "metadata": {},
     "output_type": "execute_result"
    }
   ],
   "source": [
    "p['name']"
   ]
  },
  {
   "cell_type": "code",
   "execution_count": 83,
   "id": "a9cea1eb-3cf3-44d2-841d-98e86019c7f2",
   "metadata": {},
   "outputs": [],
   "source": [
    "# sequence of set"
   ]
  },
  {
   "cell_type": "code",
   "execution_count": 84,
   "id": "39ea4f03-1f8a-4df3-81c5-20e7c8554793",
   "metadata": {},
   "outputs": [],
   "source": [
    "# set is colllection of unique values and unordered collection"
   ]
  },
  {
   "cell_type": "code",
   "execution_count": 85,
   "id": "b37986e0-cfe3-4b84-8fd7-f1043242b4ac",
   "metadata": {},
   "outputs": [],
   "source": [
    "# enclosing inside curly braces\n",
    "s1 = {1,2,3,4,5}"
   ]
  },
  {
   "cell_type": "code",
   "execution_count": 86,
   "id": "cf9af812-8c7b-4f98-b67f-f4806d1b8a10",
   "metadata": {},
   "outputs": [
    {
     "data": {
      "text/plain": [
       "set"
      ]
     },
     "execution_count": 86,
     "metadata": {},
     "output_type": "execute_result"
    }
   ],
   "source": [
    "type(s1)"
   ]
  },
  {
   "cell_type": "code",
   "execution_count": 87,
   "id": "ebd48873-fb35-49ae-aa28-e042c5f1e360",
   "metadata": {},
   "outputs": [
    {
     "ename": "TypeError",
     "evalue": "'set' object is not subscriptable",
     "output_type": "error",
     "traceback": [
      "\u001b[0;31m---------------------------------------------------------------------------\u001b[0m",
      "\u001b[0;31mTypeError\u001b[0m                                 Traceback (most recent call last)",
      "Cell \u001b[0;32mIn[87], line 1\u001b[0m\n\u001b[0;32m----> 1\u001b[0m s1[\u001b[38;5;241m3\u001b[39m]\n",
      "\u001b[0;31mTypeError\u001b[0m: 'set' object is not subscriptable"
     ]
    }
   ],
   "source": [
    "s1[3]"
   ]
  },
  {
   "cell_type": "code",
   "execution_count": 88,
   "id": "3e3ded42-d373-4f3b-828d-a9650d8c94af",
   "metadata": {},
   "outputs": [],
   "source": [
    "s1 = {1,2,3,4,5,5,3,9,10}"
   ]
  },
  {
   "cell_type": "code",
   "execution_count": 89,
   "id": "3af08f0d-8f29-40d6-a43f-bad52b748a30",
   "metadata": {},
   "outputs": [
    {
     "data": {
      "text/plain": [
       "{1, 2, 3, 4, 5, 9, 10}"
      ]
     },
     "execution_count": 89,
     "metadata": {},
     "output_type": "execute_result"
    }
   ],
   "source": [
    "s1"
   ]
  },
  {
   "cell_type": "code",
   "execution_count": 90,
   "id": "3a03f68e-1a17-4ee5-a56e-d1282c0240d8",
   "metadata": {},
   "outputs": [],
   "source": [
    "# here above the duplicates are removed"
   ]
  },
  {
   "cell_type": "code",
   "execution_count": 91,
   "id": "96a0774b-da4c-4f17-ada0-89705c0c3fa4",
   "metadata": {},
   "outputs": [],
   "source": [
    "# set is mutable"
   ]
  },
  {
   "cell_type": "code",
   "execution_count": 92,
   "id": "22789a66-4ed4-4e63-bcbb-c97d8aefee76",
   "metadata": {},
   "outputs": [],
   "source": [
    "s1.add(99)"
   ]
  },
  {
   "cell_type": "code",
   "execution_count": 93,
   "id": "6400a3ec-6acf-4e96-8a83-0d4c273fd72b",
   "metadata": {},
   "outputs": [
    {
     "data": {
      "text/plain": [
       "{1, 2, 3, 4, 5, 9, 10, 99}"
      ]
     },
     "execution_count": 93,
     "metadata": {},
     "output_type": "execute_result"
    }
   ],
   "source": [
    "s1"
   ]
  },
  {
   "cell_type": "markdown",
   "id": "92d55901-08c7-4747-9255-9f5ec91eea7e",
   "metadata": {},
   "source": [
    "## Execution control\n",
    "This will control flow of execution in python program\n",
    "It will involes decisions, repititions, handling execptions\n",
    "\n",
    "Type of exectuin control\n",
    "\n",
    "- Conditional Statement  eg if, elif, else \n",
    "- Loops - eg for, while\n",
    "- Execption Handling\n"
   ]
  },
  {
   "cell_type": "markdown",
   "id": "dd076402-c0b5-44c0-84a2-96caab7eb4e1",
   "metadata": {},
   "source": [
    "# Conditional Statment \n",
    "\n",
    "syntax \n",
    "\n",
    "``` python \n",
    "\n",
    "if  condition1:\n",
    "    statement(s)\n",
    "elif conditon2:\n",
    "    statement(s)\n",
    ".\n",
    ".\n",
    ".\n",
    "else:\n",
    "    statement(s)\n",
    "```"
   ]
  },
  {
   "cell_type": "code",
   "execution_count": 2,
   "id": "f62535cb-a8bc-42f7-a9d9-df9edddceb88",
   "metadata": {},
   "outputs": [
    {
     "name": "stdout",
     "output_type": "stream",
     "text": [
      "X is grater than 5\n"
     ]
    }
   ],
   "source": [
    "x =10 \n",
    "\n",
    "if x > 5:\n",
    "    print(\"X is grater than 5\")"
   ]
  },
  {
   "cell_type": "code",
   "execution_count": 5,
   "id": "e5202910-c7da-4547-884e-2494f555f42c",
   "metadata": {},
   "outputs": [
    {
     "name": "stdout",
     "output_type": "stream",
     "text": [
      "x is grater than 5\n",
      "inside the block\n",
      "outside block\n"
     ]
    }
   ],
   "source": [
    "x =10 \n",
    "\n",
    "if x > 5:\n",
    "    print(\"x is grater than 5\")\n",
    "    print(\"inside the block\")\n",
    "print(\"outside block\")"
   ]
  },
  {
   "cell_type": "code",
   "execution_count": 6,
   "id": "1d3a55c1-ccf0-46d5-b040-bb9182218fa4",
   "metadata": {},
   "outputs": [
    {
     "name": "stdout",
     "output_type": "stream",
     "text": [
      "outside block\n"
     ]
    }
   ],
   "source": [
    "x =10 \n",
    "\n",
    "if x < 5:\n",
    "    print(\"x is grater than 5\")\n",
    "    print(\"inside the block\")\n",
    "print(\"outside block\")"
   ]
  },
  {
   "cell_type": "code",
   "execution_count": 8,
   "id": "ac4d345e-174c-4187-bd63-542ca25a8248",
   "metadata": {},
   "outputs": [
    {
     "name": "stdout",
     "output_type": "stream",
     "text": [
      "X is greater than 5\n",
      "inside the block\n",
      "outside block\n"
     ]
    }
   ],
   "source": [
    "x =10 \n",
    "\n",
    "if x < 5:\n",
    "    print(\"x is less than 5\")\n",
    "    print(\"inside the block\")\n",
    "else:\n",
    "    print(\"X is greater than 5\")\n",
    "    print(\"inside the block\")\n",
    "print(\"outside block\")"
   ]
  },
  {
   "cell_type": "code",
   "execution_count": 10,
   "id": "3bbbb88b-5ff2-44f2-b0f8-fad757895e4e",
   "metadata": {},
   "outputs": [
    {
     "name": "stdout",
     "output_type": "stream",
     "text": [
      "x i  greater than 7\n",
      "inside the elif block\n",
      "outside block\n"
     ]
    }
   ],
   "source": [
    "x =10 \n",
    "\n",
    "if x < 5:\n",
    "    print(\"x is less than 5\")\n",
    "    print(\"inside the block\")\n",
    "elif x > 7:\n",
    "    print(\"x i  greater than 7\")\n",
    "    print(\"inside the elif block\")\n",
    "else:\n",
    "    print(\"X is greater than 5\")\n",
    "    print(\"inside the block\")\n",
    "print(\"outside block\")"
   ]
  },
  {
   "cell_type": "code",
   "execution_count": 11,
   "id": "aa1021d0-e9b2-4bac-90cf-ccc1955478a4",
   "metadata": {},
   "outputs": [
    {
     "name": "stdout",
     "output_type": "stream",
     "text": [
      "X is greater than 5\n",
      "inside the block\n",
      "outside block\n"
     ]
    }
   ],
   "source": [
    "x =5 \n",
    "\n",
    "if x < 5:\n",
    "    print(\"x is less than 5\")\n",
    "    print(\"inside the block\")\n",
    "elif x > 7:\n",
    "    print(\"x i  greater than 7\")\n",
    "    print(\"inside the elif block\")\n",
    "else:\n",
    "    print(\"X is greater than 5\")\n",
    "    print(\"inside the block\")\n",
    "print(\"outside block\")"
   ]
  },
  {
   "cell_type": "code",
   "execution_count": 12,
   "id": "54a1930b-f964-44a0-9192-cce962a611cd",
   "metadata": {},
   "outputs": [
    {
     "name": "stdout",
     "output_type": "stream",
     "text": [
      "it is greater than 5 and odd\n"
     ]
    }
   ],
   "source": [
    "# logical operators can be used on conditional statement\n",
    "\n",
    "x =20\n",
    "\n",
    "if x > 5 and x % 2 == 0:\n",
    "    print (\"it is greater than 5 and odd\")\n",
    "else:\n",
    "    print(\"do nothinh\")\n",
    "\n"
   ]
  },
  {
   "cell_type": "markdown",
   "id": "63cc5d1b-f64a-4fb4-acdc-5c41692c7a7f",
   "metadata": {},
   "source": [
    "## For loops"
   ]
  },
  {
   "cell_type": "markdown",
   "id": "15ad69f3-8926-43c0-b377-9c2fcd069987",
   "metadata": {},
   "source": [
    "``` python\n",
    "  for variable in iterable:\n",
    "      statement(s)\n",
    "```"
   ]
  },
  {
   "cell_type": "code",
   "execution_count": 13,
   "id": "1f2a3509-0145-43ae-9186-cb2f1e6066bd",
   "metadata": {},
   "outputs": [],
   "source": [
    "l1 = [1,2,3,4,5]"
   ]
  },
  {
   "cell_type": "code",
   "execution_count": 16,
   "id": "9f171bf4-4d07-48d5-90cd-51c21b4be82f",
   "metadata": {},
   "outputs": [
    {
     "name": "stdout",
     "output_type": "stream",
     "text": [
      "hello 1\n",
      "hello 2\n",
      "hello 3\n",
      "hello 4\n",
      "hello 5\n"
     ]
    }
   ],
   "source": [
    "for i in l1:\n",
    "    print (f\"hello {i}\")"
   ]
  },
  {
   "cell_type": "markdown",
   "id": "5952cf26-ce58-4229-8130-e297b4e8b678",
   "metadata": {},
   "source": [
    "## While Loops"
   ]
  },
  {
   "cell_type": "markdown",
   "id": "a44bc050-ec48-4b7a-94b1-8e99bcc233d1",
   "metadata": {},
   "source": [
    "``` python \n",
    "  while(condition):\n",
    "      statements(s)\n",
    "\n",
    "```"
   ]
  },
  {
   "cell_type": "markdown",
   "id": "610a0f05-a204-4555-bedd-0d09b9c24ad3",
   "metadata": {},
   "source": [
    "## Loop Control Statements"
   ]
  },
  {
   "cell_type": "code",
   "execution_count": 23,
   "id": "eb928242-4d61-4e27-8b07-0398e4e51117",
   "metadata": {},
   "outputs": [
    {
     "name": "stdout",
     "output_type": "stream",
     "text": [
      "0\n",
      "1\n",
      "2\n",
      "3\n",
      "4\n",
      "5\n",
      "-6\n",
      "negative number -6\n"
     ]
    }
   ],
   "source": [
    "# break\n",
    "num = [0, 1,2,3,4,5,-6, 7, 8]\n",
    "for i in num:\n",
    "    print(i)\n",
    "    if i < 0:\n",
    "        print (\"negative number\", i)\n",
    "        break"
   ]
  },
  {
   "cell_type": "code",
   "execution_count": 24,
   "id": "16ba6c49-8474-4981-a209-c1502cc086cd",
   "metadata": {},
   "outputs": [
    {
     "name": "stdout",
     "output_type": "stream",
     "text": [
      "1\n",
      "3\n",
      "5\n",
      "7\n",
      "9\n"
     ]
    }
   ],
   "source": [
    "# continue - it will skip the current iternton if it does not meet condition\n",
    "# print only odd numbers\n",
    "\n",
    "for i in range(1,11):\n",
    "    if i % 2 == 0 :\n",
    "        continue\n",
    "    print(i)"
   ]
  },
  {
   "cell_type": "markdown",
   "id": "a0ddab27-4739-465d-be8c-574ba1d1f6e6",
   "metadata": {},
   "source": [
    "### Exception Handling"
   ]
  },
  {
   "cell_type": "markdown",
   "id": "86ae6254-4597-4bee-bb26-8ebd70ec9347",
   "metadata": {},
   "source": [
    "- use to handle errors during execution\n",
    "- try,except, finally are exception handling"
   ]
  },
  {
   "cell_type": "code",
   "execution_count": 25,
   "id": "e9d5f001-e790-46e6-9ddd-1a7cd08b6e9a",
   "metadata": {},
   "outputs": [
    {
     "ename": "ZeroDivisionError",
     "evalue": "division by zero",
     "output_type": "error",
     "traceback": [
      "\u001b[0;31m---------------------------------------------------------------------------\u001b[0m",
      "\u001b[0;31mZeroDivisionError\u001b[0m                         Traceback (most recent call last)",
      "Cell \u001b[0;32mIn[25], line 1\u001b[0m\n\u001b[0;32m----> 1\u001b[0m result \u001b[38;5;241m=\u001b[39m \u001b[38;5;241m10\u001b[39m\u001b[38;5;241m/\u001b[39m\u001b[38;5;241m0\u001b[39m\n",
      "\u001b[0;31mZeroDivisionError\u001b[0m: division by zero"
     ]
    }
   ],
   "source": [
    "result = 10/0"
   ]
  },
  {
   "cell_type": "code",
   "execution_count": 26,
   "id": "377f9eea-3884-488f-8460-667e140cf0ef",
   "metadata": {},
   "outputs": [
    {
     "name": "stdout",
     "output_type": "stream",
     "text": [
      "i m replacing system error with my custom message\n"
     ]
    }
   ],
   "source": [
    "try:\n",
    "    result = 10/0\n",
    "except ZeroDivisionError:\n",
    "    print (\"i m replacing system error with my custom message\")"
   ]
  },
  {
   "cell_type": "markdown",
   "id": "21d970f6-9731-431d-85cd-a83c9f263f8a",
   "metadata": {},
   "source": [
    "## User defined Function"
   ]
  },
  {
   "cell_type": "raw",
   "id": "b688ac79-b3cc-4232-b3cf-11a691d3dee4",
   "metadata": {},
   "source": [
    "- created by user to perform a task"
   ]
  },
  {
   "cell_type": "markdown",
   "id": "a5bf77ba-8e97-44a4-9122-999b0766d2cd",
   "metadata": {},
   "source": [
    "``` python \n",
    "def function_name(parameters):\n",
    "    .\n",
    "    .\n",
    "\n",
    "    return [expression]\n",
    "\n",
    "```\n",
    "\n",
    "parameters - are inputs and optional\n",
    "return -- will retrun value"
   ]
  },
  {
   "cell_type": "code",
   "execution_count": 28,
   "id": "56cb32a0-7626-448f-89cd-4d93e841f6cd",
   "metadata": {},
   "outputs": [],
   "source": [
    "def greet(name):\n",
    "    return f\"Hello {name}\""
   ]
  },
  {
   "cell_type": "code",
   "execution_count": 30,
   "id": "bb825004-7aab-4a5d-81b0-7a41d89fc406",
   "metadata": {},
   "outputs": [
    {
     "data": {
      "text/plain": [
       "'Hello sam'"
      ]
     },
     "execution_count": 30,
     "metadata": {},
     "output_type": "execute_result"
    }
   ],
   "source": [
    "greet(\"sam\")"
   ]
  },
  {
   "cell_type": "markdown",
   "id": "0c5c7b44-05db-468a-86f6-ada646ae5453",
   "metadata": {},
   "source": [
    "Parameters are one define in function where name is parameter\n",
    "Argument is the value where sam is argument"
   ]
  },
  {
   "cell_type": "code",
   "execution_count": 31,
   "id": "3670ff83-a846-4228-863e-915729454c7f",
   "metadata": {},
   "outputs": [],
   "source": [
    "def example():\n",
    "    print(\"good morning\")"
   ]
  },
  {
   "cell_type": "code",
   "execution_count": 32,
   "id": "7afe9ed0-8939-42b5-abfc-29ac44eec616",
   "metadata": {},
   "outputs": [
    {
     "name": "stdout",
     "output_type": "stream",
     "text": [
      "good morning\n"
     ]
    }
   ],
   "source": [
    "example()"
   ]
  },
  {
   "cell_type": "code",
   "execution_count": 33,
   "id": "ff4e6cc1-792f-44bb-bca0-65af37044a91",
   "metadata": {},
   "outputs": [],
   "source": [
    "def example():\n",
    "    print(\"good morning\")\n",
    "    print(\"good afternnon\")\n",
    "    print(\"good night\")"
   ]
  },
  {
   "cell_type": "code",
   "execution_count": 34,
   "id": "a0e9bc64-d5ff-49d3-9690-7ae6c95511e9",
   "metadata": {},
   "outputs": [
    {
     "name": "stdout",
     "output_type": "stream",
     "text": [
      "good morning\n",
      "good afternnon\n",
      "good night\n"
     ]
    }
   ],
   "source": [
    "example()"
   ]
  },
  {
   "cell_type": "code",
   "execution_count": 35,
   "id": "effa4632-1b09-49ec-aada-f97ee0f63375",
   "metadata": {},
   "outputs": [],
   "source": [
    "# create a function to accept 2 numbers and print sum of two numbers"
   ]
  },
  {
   "cell_type": "code",
   "execution_count": 36,
   "id": "4e2f72c7-7297-450b-9fda-65978ee344fb",
   "metadata": {},
   "outputs": [],
   "source": [
    "def sum(x,y):\n",
    "    result = x + y\n",
    "    return result"
   ]
  },
  {
   "cell_type": "code",
   "execution_count": 38,
   "id": "84af7cee-675c-4161-8848-1ada406b3542",
   "metadata": {},
   "outputs": [
    {
     "data": {
      "text/plain": [
       "30"
      ]
     },
     "execution_count": 38,
     "metadata": {},
     "output_type": "execute_result"
    }
   ],
   "source": [
    "sum(10,20) # Positional arguments"
   ]
  },
  {
   "cell_type": "code",
   "execution_count": 39,
   "id": "97c35738-c899-4fd5-8f4b-e1f790e964d5",
   "metadata": {},
   "outputs": [
    {
     "ename": "TypeError",
     "evalue": "sum() missing 1 required positional argument: 'y'",
     "output_type": "error",
     "traceback": [
      "\u001b[0;31m---------------------------------------------------------------------------\u001b[0m",
      "\u001b[0;31mTypeError\u001b[0m                                 Traceback (most recent call last)",
      "Cell \u001b[0;32mIn[39], line 1\u001b[0m\n\u001b[0;32m----> 1\u001b[0m \u001b[38;5;28msum\u001b[39m(\u001b[38;5;241m10\u001b[39m)\n",
      "\u001b[0;31mTypeError\u001b[0m: sum() missing 1 required positional argument: 'y'"
     ]
    }
   ],
   "source": [
    "sum(10)"
   ]
  },
  {
   "cell_type": "code",
   "execution_count": 40,
   "id": "b580e12b-a026-45c0-a3ed-31ad60396619",
   "metadata": {},
   "outputs": [
    {
     "data": {
      "text/plain": [
       "21"
      ]
     },
     "execution_count": 40,
     "metadata": {},
     "output_type": "execute_result"
    }
   ],
   "source": [
    "sum(y=20, x=1) # keyworded arguments"
   ]
  },
  {
   "cell_type": "code",
   "execution_count": 41,
   "id": "98afe19b-b969-4748-91a6-5bbf0553003f",
   "metadata": {},
   "outputs": [],
   "source": [
    "# default parameter value"
   ]
  },
  {
   "cell_type": "code",
   "execution_count": 42,
   "id": "70a25f15-4cfc-4586-9299-95b4bbed948a",
   "metadata": {},
   "outputs": [],
   "source": [
    "def sum(x,y=10):\n",
    "    result = x + y\n",
    "    return result"
   ]
  },
  {
   "cell_type": "code",
   "execution_count": 43,
   "id": "4ea4dc83-90c9-4a95-bcb8-d323280db95f",
   "metadata": {},
   "outputs": [
    {
     "data": {
      "text/plain": [
       "30"
      ]
     },
     "execution_count": 43,
     "metadata": {},
     "output_type": "execute_result"
    }
   ],
   "source": [
    "sum(20)"
   ]
  },
  {
   "cell_type": "code",
   "execution_count": 44,
   "id": "0ff04c66-3e4a-46b2-83bc-bdf23de2a8ea",
   "metadata": {},
   "outputs": [
    {
     "data": {
      "text/plain": [
       "21"
      ]
     },
     "execution_count": 44,
     "metadata": {},
     "output_type": "execute_result"
    }
   ],
   "source": [
    "sum(20, 1)"
   ]
  },
  {
   "cell_type": "code",
   "execution_count": 45,
   "id": "4333aa25-d89a-4691-8e00-8745159308a8",
   "metadata": {},
   "outputs": [],
   "source": [
    "out = sum(20, 30)"
   ]
  },
  {
   "cell_type": "code",
   "execution_count": 46,
   "id": "dc6fbc22-2bf8-42b1-be5a-712dd0bad5d0",
   "metadata": {},
   "outputs": [
    {
     "data": {
      "text/plain": [
       "50"
      ]
     },
     "execution_count": 46,
     "metadata": {},
     "output_type": "execute_result"
    }
   ],
   "source": [
    "out"
   ]
  },
  {
   "cell_type": "code",
   "execution_count": 49,
   "id": "d047d1a9-7741-4bec-9f27-3f286a6dd26f",
   "metadata": {},
   "outputs": [],
   "source": [
    "# variable number of postional arguments\n",
    "\n",
    "def sum(x=20,y=1,*args):\n",
    "    print(f\"x is {x}\")\n",
    "    print(f\"y is {y}\")\n",
    "    print(f\"values in {args}\")\n",
    "    print(f\"dattpyes in {type(args)}\")"
   ]
  },
  {
   "cell_type": "code",
   "execution_count": 48,
   "id": "b815dfb5-ab84-47e7-a94c-720bdfeac00f",
   "metadata": {},
   "outputs": [
    {
     "name": "stdout",
     "output_type": "stream",
     "text": [
      "values in (3, 4, 5, 6, 7)\n",
      "dattpyes in <class 'tuple'>\n"
     ]
    }
   ],
   "source": [
    "sum(1,2,3,4,5,6,7)"
   ]
  },
  {
   "cell_type": "code",
   "execution_count": 50,
   "id": "b75a265c-e565-4fb4-a099-a0da4c6570c2",
   "metadata": {},
   "outputs": [],
   "source": [
    "def sum(x=20, y=1, *args):\n",
    "    print(f\"x is {x}\")\n",
    "    print(f\"y is {y}\")\n",
    "    print(f\"values in {args}\")\n",
    "    print(f\"datatypes in {type(args)}\")"
   ]
  },
  {
   "cell_type": "code",
   "execution_count": 51,
   "id": "67467be7-8615-485d-8473-5ef1ef916a86",
   "metadata": {},
   "outputs": [
    {
     "name": "stdout",
     "output_type": "stream",
     "text": [
      "x is 1\n",
      "y is 2\n",
      "values in (3, 4, 5, 6, 7)\n",
      "datatypes in <class 'tuple'>\n"
     ]
    }
   ],
   "source": [
    "sum(1,2,3,4,5,6,7)"
   ]
  },
  {
   "cell_type": "markdown",
   "id": "4b929b9e-ed7a-47fc-a2c9-51db5fe854ee",
   "metadata": {},
   "source": [
    "### Lambda \n",
    "- anyonymoous function known as Lamdbda function\n",
    "- which are defined without any name\n",
    "\n",
    "``` python \n",
    "lambda arguments: expression\n",
    "\n",
    "```\n",
    "\n",
    "Consits of a single expression, but any no.of parameters\n",
    "\n",
    "Example\n",
    "\n",
    "regrular function \n",
    "\n",
    "def square(x):\n",
    "  return x**2\n",
    "\n",
    "Lambda function\n",
    "\n",
    "lambda x:x**2\n"
   ]
  },
  {
   "cell_type": "code",
   "execution_count": 1,
   "id": "a06855c1-c84d-475b-8b3c-d34cfc6b7a1d",
   "metadata": {},
   "outputs": [],
   "source": [
    "f = lambda a: a**2"
   ]
  },
  {
   "cell_type": "code",
   "execution_count": 2,
   "id": "fdbdc5be-8b73-4368-a8e9-fd2371063fd8",
   "metadata": {},
   "outputs": [
    {
     "data": {
      "text/plain": [
       "9"
      ]
     },
     "execution_count": 2,
     "metadata": {},
     "output_type": "execute_result"
    }
   ],
   "source": [
    "f(3)"
   ]
  },
  {
   "cell_type": "code",
   "execution_count": 3,
   "id": "469a576d-f303-401e-8d7a-1ed05f68c87a",
   "metadata": {},
   "outputs": [],
   "source": [
    "# write lambda functon to take 2 numbers and return multiplication of it \n",
    "\n",
    "m = lambda a,b : a*b"
   ]
  },
  {
   "cell_type": "code",
   "execution_count": 4,
   "id": "00e213b6-2b73-435c-a615-cb53ee8e1a6e",
   "metadata": {},
   "outputs": [
    {
     "data": {
      "text/plain": [
       "6"
      ]
     },
     "execution_count": 4,
     "metadata": {},
     "output_type": "execute_result"
    }
   ],
   "source": [
    "m(3,2)"
   ]
  },
  {
   "cell_type": "markdown",
   "id": "faf05d74-98f9-4c90-afb3-01985d8d6506",
   "metadata": {},
   "source": [
    "## Advanced functons - map, filter, list & dict comprehension"
   ]
  },
  {
   "cell_type": "markdown",
   "id": "bae1d1e4-9e40-4ed5-95ca-3025b715f173",
   "metadata": {},
   "source": [
    "## map function\n",
    "\n",
    "- Returns a modfiled list where every element of original list has been changed based on a funcion"
   ]
  },
  {
   "cell_type": "code",
   "execution_count": 5,
   "id": "7abad3c0-3c9e-469b-8487-4100484a238f",
   "metadata": {},
   "outputs": [
    {
     "data": {
      "text/plain": [
       "<map at 0x1049523e0>"
      ]
     },
     "execution_count": 5,
     "metadata": {},
     "output_type": "execute_result"
    }
   ],
   "source": [
    "l1 = [1,2,3,4,5]\n",
    "map(lambda x: x*2, l1)"
   ]
  },
  {
   "cell_type": "code",
   "execution_count": 7,
   "id": "cec03195-bf41-4a0e-a5aa-c007371ceb44",
   "metadata": {},
   "outputs": [
    {
     "data": {
      "text/plain": [
       "[2, 4, 6, 8, 10]"
      ]
     },
     "execution_count": 7,
     "metadata": {},
     "output_type": "execute_result"
    }
   ],
   "source": [
    "list(map(lambda x: x*2, l1))"
   ]
  },
  {
   "cell_type": "markdown",
   "id": "4e9de389-259e-40c1-b78e-e563aa8d4771",
   "metadata": {},
   "source": [
    "# filter "
   ]
  },
  {
   "cell_type": "code",
   "execution_count": 9,
   "id": "d64fb2b2-ff02-437c-b2cc-3e84249ec037",
   "metadata": {},
   "outputs": [
    {
     "data": {
      "text/plain": [
       "<filter at 0x104952e90>"
      ]
     },
     "execution_count": 9,
     "metadata": {},
     "output_type": "execute_result"
    }
   ],
   "source": [
    "l1 = [1,2,3,4,5,6,7,8]\n",
    "filter(lambda x: x%2 ==0, l1)"
   ]
  },
  {
   "cell_type": "code",
   "execution_count": 10,
   "id": "06599edf-ef61-4daf-abfb-f218c2b71eb6",
   "metadata": {},
   "outputs": [
    {
     "data": {
      "text/plain": [
       "[2, 4, 6, 8]"
      ]
     },
     "execution_count": 10,
     "metadata": {},
     "output_type": "execute_result"
    }
   ],
   "source": [
    "list(filter(lambda x: x%2 ==0, l1))"
   ]
  },
  {
   "cell_type": "markdown",
   "id": "66a3eccd-1275-45b5-b0be-e14268f35e3b",
   "metadata": {},
   "source": [
    "## List comprehension\n",
    "\n",
    "syntax:\n",
    "\n",
    "``` python \n",
    "     [expression for item in iterable]\n",
    "```"
   ]
  },
  {
   "cell_type": "code",
   "execution_count": 11,
   "id": "c6b331ce-af42-4f62-b9f2-af7e03116340",
   "metadata": {},
   "outputs": [],
   "source": [
    "l1 = [1,2,3,4,5,6,7,8,9]"
   ]
  },
  {
   "cell_type": "code",
   "execution_count": 12,
   "id": "3660f705-cab3-49e4-b1eb-073e7e74fcec",
   "metadata": {},
   "outputs": [
    {
     "data": {
      "text/plain": [
       "[2, 4, 6, 8, 10, 12, 14, 16, 18]"
      ]
     },
     "execution_count": 12,
     "metadata": {},
     "output_type": "execute_result"
    }
   ],
   "source": [
    "[i*2 for i in l1]"
   ]
  },
  {
   "cell_type": "markdown",
   "id": "d46e797d-1e29-4a96-93da-4a53337de78b",
   "metadata": {},
   "source": [
    "## Dict Comprehension\n",
    "\n",
    "syntan\n",
    "\n",
    "``` python\n",
    "    {key_expression : value_expression for vaule in iterable}\n",
    "  \n",
    "```"
   ]
  },
  {
   "cell_type": "code",
   "execution_count": 14,
   "id": "f445828e-e2be-417a-bd0c-6768cc5814c1",
   "metadata": {},
   "outputs": [
    {
     "data": {
      "text/plain": [
       "[1, 2, 3, 4, 5, 6, 7, 8, 9]"
      ]
     },
     "execution_count": 14,
     "metadata": {},
     "output_type": "execute_result"
    }
   ],
   "source": [
    "l1"
   ]
  },
  {
   "cell_type": "code",
   "execution_count": 15,
   "id": "3b33af6e-c68f-403a-ab55-665174cf9d88",
   "metadata": {},
   "outputs": [
    {
     "data": {
      "text/plain": [
       "{2: 1, 4: 4, 6: 9, 8: 16, 10: 25, 12: 36, 14: 49, 16: 64, 18: 81}"
      ]
     },
     "execution_count": 15,
     "metadata": {},
     "output_type": "execute_result"
    }
   ],
   "source": [
    "{i*2:i**2 for i in l1}"
   ]
  },
  {
   "cell_type": "markdown",
   "id": "fc332158-351d-4130-b4a0-e32126ce1266",
   "metadata": {},
   "source": [
    "## Modules in Python "
   ]
  },
  {
   "cell_type": "markdown",
   "id": "3f825a50-4319-4a22-a9e1-2f702eceb2d9",
   "metadata": {},
   "source": [
    "- modules are python file that contains python code, functions and variables\n",
    "- they provide to organize and reuse code\n",
    "- pythond have exstenvie library of modules\n",
    "\n",
    "why to use moduls?\n",
    "- code organization\n",
    "- code reusability\n",
    "- namespace isolation\n",
    "\n",
    "import is the way to use module\n",
    "to access functuons and variables within the module use module name with dot notation\n",
    "\n",
    "eg \n",
    "\n",
    "import math\n",
    "print (math.pi)"
   ]
  },
  {
   "cell_type": "code",
   "execution_count": 16,
   "id": "e3e40809-de43-40f6-95e6-fb442d0b2ebb",
   "metadata": {},
   "outputs": [],
   "source": [
    "import math"
   ]
  },
  {
   "cell_type": "code",
   "execution_count": 17,
   "id": "31b2efc4-6518-43ea-b8e4-5463517654da",
   "metadata": {},
   "outputs": [
    {
     "data": {
      "text/plain": [
       "3.141592653589793"
      ]
     },
     "execution_count": 17,
     "metadata": {},
     "output_type": "execute_result"
    }
   ],
   "source": [
    "math.pi"
   ]
  },
  {
   "cell_type": "markdown",
   "id": "0f72b3cb-d4ae-47d4-9d9d-9b2ede8e034c",
   "metadata": {},
   "source": [
    "we can import module name with using alias \n",
    "\n",
    "instead of importing everything and wanted to import one specific function from a module use \n",
    "\n",
    "from math import pi, sqrt\n",
    "print(pi)\n",
    "\n",
    "- python search for module in directories list in sys.path\n",
    "\n",
    "eg:\n",
    "\n",
    "import sys\n",
    "sys.path.append(\"path to custom module\")"
   ]
  },
  {
   "cell_type": "code",
   "execution_count": 18,
   "id": "749ec936-d549-4aae-ad51-3c8a2eefec2f",
   "metadata": {},
   "outputs": [],
   "source": [
    "# import custom module\n",
    "\n",
    "import mymodule"
   ]
  },
  {
   "cell_type": "code",
   "execution_count": 19,
   "id": "f3b876ee-d385-4981-92d7-9dac4c3a1169",
   "metadata": {},
   "outputs": [
    {
     "data": {
      "text/plain": [
       "'Hello sam'"
      ]
     },
     "execution_count": 19,
     "metadata": {},
     "output_type": "execute_result"
    }
   ],
   "source": [
    "mymodule.greet(\"sam\")"
   ]
  },
  {
   "cell_type": "code",
   "execution_count": 20,
   "id": "7556962d-a852-4754-aa3e-b4cf8576c329",
   "metadata": {},
   "outputs": [
    {
     "data": {
      "text/plain": [
       "100"
      ]
     },
     "execution_count": 20,
     "metadata": {},
     "output_type": "execute_result"
    }
   ],
   "source": [
    "mymodule.square(10)"
   ]
  },
  {
   "cell_type": "code",
   "execution_count": 21,
   "id": "240cab00-a1e7-4be7-a570-944d87a384b0",
   "metadata": {},
   "outputs": [
    {
     "data": {
      "text/plain": [
       "1000"
      ]
     },
     "execution_count": 21,
     "metadata": {},
     "output_type": "execute_result"
    }
   ],
   "source": [
    "mymodule.cube(10)"
   ]
  },
  {
   "cell_type": "code",
   "execution_count": 22,
   "id": "c5764ebe-0dac-4187-a8ca-c035a8a64d93",
   "metadata": {},
   "outputs": [
    {
     "data": {
      "text/plain": [
       "['tflflow', 'pytorch']"
      ]
     },
     "execution_count": 22,
     "metadata": {},
     "output_type": "execute_result"
    }
   ],
   "source": [
    "mymodule.my_list"
   ]
  },
  {
   "cell_type": "code",
   "execution_count": 24,
   "id": "b2cd0e07-dfd1-4117-b476-4c96b1cfb695",
   "metadata": {},
   "outputs": [],
   "source": [
    "# import specific elements \n",
    "\n",
    "from mymodule import my_list"
   ]
  },
  {
   "cell_type": "code",
   "execution_count": 25,
   "id": "a3af18ae-cf11-45e0-9988-7d28bee8551b",
   "metadata": {},
   "outputs": [
    {
     "data": {
      "text/plain": [
       "['tflflow', 'pytorch']"
      ]
     },
     "execution_count": 25,
     "metadata": {},
     "output_type": "execute_result"
    }
   ],
   "source": [
    "my_list"
   ]
  },
  {
   "cell_type": "code",
   "execution_count": 26,
   "id": "4c6c4b82-4a9c-4655-a8f8-d72b820ddeb8",
   "metadata": {},
   "outputs": [],
   "source": [
    "# import using alias name\n",
    "import mymodule as m"
   ]
  },
  {
   "cell_type": "code",
   "execution_count": 27,
   "id": "2085bbde-42c2-42fd-8c71-83562bda620e",
   "metadata": {},
   "outputs": [
    {
     "data": {
      "text/plain": [
       "'Hello sam'"
      ]
     },
     "execution_count": 27,
     "metadata": {},
     "output_type": "execute_result"
    }
   ],
   "source": [
    "m.greet(\"sam\")"
   ]
  },
  {
   "cell_type": "markdown",
   "id": "f0a462e3-0888-4269-a7bb-15f0ad5dc296",
   "metadata": {},
   "source": [
    "### Module search path"
   ]
  },
  {
   "cell_type": "code",
   "execution_count": 28,
   "id": "b9a505fe-13c8-416e-8e6a-116d97f825fb",
   "metadata": {},
   "outputs": [
    {
     "data": {
      "text/plain": [
       "['/opt/anaconda3/lib/python313.zip',\n",
       " '/opt/anaconda3/lib/python3.13',\n",
       " '/opt/anaconda3/lib/python3.13/lib-dynload',\n",
       " '',\n",
       " '/opt/anaconda3/lib/python3.13/site-packages',\n",
       " '/opt/anaconda3/lib/python3.13/site-packages/aeosa']"
      ]
     },
     "execution_count": 28,
     "metadata": {},
     "output_type": "execute_result"
    }
   ],
   "source": [
    "import sys\n",
    "sys.path"
   ]
  },
  {
   "cell_type": "code",
   "execution_count": 29,
   "id": "e1d02bfe-c49b-49ba-9ced-cf07609bc507",
   "metadata": {},
   "outputs": [],
   "source": [
    "# sys.path.append(specify the location)"
   ]
  },
  {
   "cell_type": "markdown",
   "id": "6397c68f-5ab7-4330-8f2e-9fd717be3532",
   "metadata": {},
   "source": [
    "## Regular Expressions"
   ]
  },
  {
   "cell_type": "markdown",
   "id": "52a13477-e6f8-42df-ae5a-69e25c5dd8d7",
   "metadata": {},
   "source": [
    "- regex are sequences of characters to search a pattern\n",
    "- used for strin manipulation, pattern matching\n",
    "\n",
    "Syntax\n",
    "- literal characters - match the exact characters specfied\n",
    "- meta characters - special characters with meaning\n",
    "\n",
    "\n",
    "eg\n",
    "import re # regrular expression module\n",
    "\n",
    "text = \"I like apples and oranges\"\n",
    "pattern = r\"apple\" ## here r refers raw string and it treats special characters as string\n",
    "\n",
    "match = re.search(pattern,text)\n"
   ]
  },
  {
   "cell_type": "code",
   "execution_count": 30,
   "id": "6668a40c-3291-4e43-bdca-b0f116a77ba5",
   "metadata": {},
   "outputs": [],
   "source": [
    "import re"
   ]
  },
  {
   "cell_type": "code",
   "execution_count": 31,
   "id": "530a5422-6989-4932-a1cd-17a5f7228465",
   "metadata": {},
   "outputs": [
    {
     "name": "stdout",
     "output_type": "stream",
     "text": [
      "Help on package re:\n",
      "\n",
      "NAME\n",
      "    re - Support for regular expressions (RE).\n",
      "\n",
      "MODULE REFERENCE\n",
      "    https://docs.python.org/3.13/library/re.html\n",
      "\n",
      "    The following documentation is automatically generated from the Python\n",
      "    source files.  It may be incomplete, incorrect or include features that\n",
      "    are considered implementation detail and may vary between Python\n",
      "    implementations.  When in doubt, consult the module reference at the\n",
      "    location listed above.\n",
      "\n",
      "DESCRIPTION\n",
      "    This module provides regular expression matching operations similar to\n",
      "    those found in Perl.  It supports both 8-bit and Unicode strings; both\n",
      "    the pattern and the strings being processed can contain null bytes and\n",
      "    characters outside the US ASCII range.\n",
      "\n",
      "    Regular expressions can contain both special and ordinary characters.\n",
      "    Most ordinary characters, like \"A\", \"a\", or \"0\", are the simplest\n",
      "    regular expressions; they simply match themselves.  You can\n",
      "    concatenate ordinary characters, so last matches the string 'last'.\n",
      "\n",
      "    The special characters are:\n",
      "        \".\"      Matches any character except a newline.\n",
      "        \"^\"      Matches the start of the string.\n",
      "        \"$\"      Matches the end of the string or just before the newline at\n",
      "                 the end of the string.\n",
      "        \"*\"      Matches 0 or more (greedy) repetitions of the preceding RE.\n",
      "                 Greedy means that it will match as many repetitions as possible.\n",
      "        \"+\"      Matches 1 or more (greedy) repetitions of the preceding RE.\n",
      "        \"?\"      Matches 0 or 1 (greedy) of the preceding RE.\n",
      "        *?,+?,?? Non-greedy versions of the previous three special characters.\n",
      "        {m,n}    Matches from m to n repetitions of the preceding RE.\n",
      "        {m,n}?   Non-greedy version of the above.\n",
      "        \"\\\\\"     Either escapes special characters or signals a special sequence.\n",
      "        []       Indicates a set of characters.\n",
      "                 A \"^\" as the first character indicates a complementing set.\n",
      "        \"|\"      A|B, creates an RE that will match either A or B.\n",
      "        (...)    Matches the RE inside the parentheses.\n",
      "                 The contents can be retrieved or matched later in the string.\n",
      "        (?aiLmsux) The letters set the corresponding flags defined below.\n",
      "        (?:...)  Non-grouping version of regular parentheses.\n",
      "        (?P<name>...) The substring matched by the group is accessible by name.\n",
      "        (?P=name)     Matches the text matched earlier by the group named name.\n",
      "        (?#...)  A comment; ignored.\n",
      "        (?=...)  Matches if ... matches next, but doesn't consume the string.\n",
      "        (?!...)  Matches if ... doesn't match next.\n",
      "        (?<=...) Matches if preceded by ... (must be fixed length).\n",
      "        (?<!...) Matches if not preceded by ... (must be fixed length).\n",
      "        (?(id/name)yes|no) Matches yes pattern if the group with id/name matched,\n",
      "                           the (optional) no pattern otherwise.\n",
      "\n",
      "    The special sequences consist of \"\\\\\" and a character from the list\n",
      "    below.  If the ordinary character is not on the list, then the\n",
      "    resulting RE will match the second character.\n",
      "        \\number  Matches the contents of the group of the same number.\n",
      "        \\A       Matches only at the start of the string.\n",
      "        \\Z       Matches only at the end of the string.\n",
      "        \\b       Matches the empty string, but only at the start or end of a word.\n",
      "        \\B       Matches the empty string, but not at the start or end of a word.\n",
      "        \\d       Matches any decimal digit; equivalent to the set [0-9] in\n",
      "                 bytes patterns or string patterns with the ASCII flag.\n",
      "                 In string patterns without the ASCII flag, it will match the whole\n",
      "                 range of Unicode digits.\n",
      "        \\D       Matches any non-digit character; equivalent to [^\\d].\n",
      "        \\s       Matches any whitespace character; equivalent to [ \\t\\n\\r\\f\\v] in\n",
      "                 bytes patterns or string patterns with the ASCII flag.\n",
      "                 In string patterns without the ASCII flag, it will match the whole\n",
      "                 range of Unicode whitespace characters.\n",
      "        \\S       Matches any non-whitespace character; equivalent to [^\\s].\n",
      "        \\w       Matches any alphanumeric character; equivalent to [a-zA-Z0-9_]\n",
      "                 in bytes patterns or string patterns with the ASCII flag.\n",
      "                 In string patterns without the ASCII flag, it will match the\n",
      "                 range of Unicode alphanumeric characters (letters plus digits\n",
      "                 plus underscore).\n",
      "                 With LOCALE, it will match the set [0-9_] plus characters defined\n",
      "                 as letters for the current locale.\n",
      "        \\W       Matches the complement of \\w.\n",
      "        \\\\       Matches a literal backslash.\n",
      "\n",
      "    This module exports the following functions:\n",
      "        match     Match a regular expression pattern to the beginning of a string.\n",
      "        fullmatch Match a regular expression pattern to all of a string.\n",
      "        search    Search a string for the presence of a pattern.\n",
      "        sub       Substitute occurrences of a pattern found in a string.\n",
      "        subn      Same as sub, but also return the number of substitutions made.\n",
      "        split     Split a string by the occurrences of a pattern.\n",
      "        findall   Find all occurrences of a pattern in a string.\n",
      "        finditer  Return an iterator yielding a Match object for each match.\n",
      "        compile   Compile a pattern into a Pattern object.\n",
      "        purge     Clear the regular expression cache.\n",
      "        escape    Backslash all non-alphanumerics in a string.\n",
      "\n",
      "    Each function other than purge and escape can take an optional 'flags' argument\n",
      "    consisting of one or more of the following module constants, joined by \"|\".\n",
      "    A, L, and U are mutually exclusive.\n",
      "        A  ASCII       For string patterns, make \\w, \\W, \\b, \\B, \\d, \\D\n",
      "                       match the corresponding ASCII character categories\n",
      "                       (rather than the whole Unicode categories, which is the\n",
      "                       default).\n",
      "                       For bytes patterns, this flag is the only available\n",
      "                       behaviour and needn't be specified.\n",
      "        I  IGNORECASE  Perform case-insensitive matching.\n",
      "        L  LOCALE      Make \\w, \\W, \\b, \\B, dependent on the current locale.\n",
      "        M  MULTILINE   \"^\" matches the beginning of lines (after a newline)\n",
      "                       as well as the string.\n",
      "                       \"$\" matches the end of lines (before a newline) as well\n",
      "                       as the end of the string.\n",
      "        S  DOTALL      \".\" matches any character at all, including the newline.\n",
      "        X  VERBOSE     Ignore whitespace and comments for nicer looking RE's.\n",
      "        U  UNICODE     For compatibility only. Ignored for string patterns (it\n",
      "                       is the default), and forbidden for bytes patterns.\n",
      "\n",
      "    This module also defines exception 'PatternError', aliased to 'error' for\n",
      "    backward compatibility.\n",
      "\n",
      "PACKAGE CONTENTS\n",
      "    _casefix\n",
      "    _compiler\n",
      "    _constants\n",
      "    _parser\n",
      "\n",
      "CLASSES\n",
      "    builtins.Exception(builtins.BaseException)\n",
      "        PatternError\n",
      "    builtins.object\n",
      "        Match\n",
      "        Pattern\n",
      "    enum.IntFlag(builtins.int, enum.ReprEnum, enum.Flag)\n",
      "        RegexFlag\n",
      "\n",
      "    class Match(builtins.object)\n",
      "     |  The result of re.match() and re.search().\n",
      "     |  Match objects always have a boolean value of True.\n",
      "     |\n",
      "     |  Methods defined here:\n",
      "     |\n",
      "     |  __copy__(self, /)\n",
      "     |\n",
      "     |  __deepcopy__(self, memo, /)\n",
      "     |\n",
      "     |  __getitem__(self, key, /)\n",
      "     |      Return self[key].\n",
      "     |\n",
      "     |  __repr__(self, /)\n",
      "     |      Return repr(self).\n",
      "     |\n",
      "     |  end(self, group=0, /)\n",
      "     |      Return index of the end of the substring matched by group.\n",
      "     |\n",
      "     |  expand(self, /, template)\n",
      "     |      Return the string obtained by doing backslash substitution on the string template, as done by the sub() method.\n",
      "     |\n",
      "     |  group(...)\n",
      "     |      group([group1, ...]) -> str or tuple.\n",
      "     |      Return subgroup(s) of the match by indices or names.\n",
      "     |      For 0 returns the entire match.\n",
      "     |\n",
      "     |  groupdict(self, /, default=None)\n",
      "     |      Return a dictionary containing all the named subgroups of the match, keyed by the subgroup name.\n",
      "     |\n",
      "     |      default\n",
      "     |        Is used for groups that did not participate in the match.\n",
      "     |\n",
      "     |  groups(self, /, default=None)\n",
      "     |      Return a tuple containing all the subgroups of the match, from 1.\n",
      "     |\n",
      "     |      default\n",
      "     |        Is used for groups that did not participate in the match.\n",
      "     |\n",
      "     |  span(self, group=0, /)\n",
      "     |      For match object m, return the 2-tuple (m.start(group), m.end(group)).\n",
      "     |\n",
      "     |  start(self, group=0, /)\n",
      "     |      Return index of the start of the substring matched by group.\n",
      "     |\n",
      "     |  ----------------------------------------------------------------------\n",
      "     |  Class methods defined here:\n",
      "     |\n",
      "     |  __class_getitem__(object, /)\n",
      "     |      See PEP 585\n",
      "     |\n",
      "     |  ----------------------------------------------------------------------\n",
      "     |  Data descriptors defined here:\n",
      "     |\n",
      "     |  endpos\n",
      "     |      The index into the string beyond which the RE engine will not go.\n",
      "     |\n",
      "     |  lastgroup\n",
      "     |      The name of the last matched capturing group.\n",
      "     |\n",
      "     |  lastindex\n",
      "     |      The integer index of the last matched capturing group.\n",
      "     |\n",
      "     |  pos\n",
      "     |      The index into the string at which the RE engine started looking for a match.\n",
      "     |\n",
      "     |  re\n",
      "     |      The regular expression object.\n",
      "     |\n",
      "     |  regs\n",
      "     |\n",
      "     |  string\n",
      "     |      The string passed to match() or search().\n",
      "\n",
      "    class Pattern(builtins.object)\n",
      "     |  Compiled regular expression object.\n",
      "     |\n",
      "     |  Methods defined here:\n",
      "     |\n",
      "     |  __copy__(self, /)\n",
      "     |\n",
      "     |  __deepcopy__(self, memo, /)\n",
      "     |\n",
      "     |  __eq__(self, value, /)\n",
      "     |      Return self==value.\n",
      "     |\n",
      "     |  __ge__(self, value, /)\n",
      "     |      Return self>=value.\n",
      "     |\n",
      "     |  __gt__(self, value, /)\n",
      "     |      Return self>value.\n",
      "     |\n",
      "     |  __hash__(self, /)\n",
      "     |      Return hash(self).\n",
      "     |\n",
      "     |  __le__(self, value, /)\n",
      "     |      Return self<=value.\n",
      "     |\n",
      "     |  __lt__(self, value, /)\n",
      "     |      Return self<value.\n",
      "     |\n",
      "     |  __ne__(self, value, /)\n",
      "     |      Return self!=value.\n",
      "     |\n",
      "     |  __repr__(self, /)\n",
      "     |      Return repr(self).\n",
      "     |\n",
      "     |  findall(self, /, string, pos=0, endpos=9223372036854775807)\n",
      "     |      Return a list of all non-overlapping matches of pattern in string.\n",
      "     |\n",
      "     |  finditer(self, /, string, pos=0, endpos=9223372036854775807)\n",
      "     |      Return an iterator over all non-overlapping matches for the RE pattern in string.\n",
      "     |\n",
      "     |      For each match, the iterator returns a match object.\n",
      "     |\n",
      "     |  fullmatch(self, /, string, pos=0, endpos=9223372036854775807)\n",
      "     |      Matches against all of the string.\n",
      "     |\n",
      "     |  match(self, /, string, pos=0, endpos=9223372036854775807)\n",
      "     |      Matches zero or more characters at the beginning of the string.\n",
      "     |\n",
      "     |  scanner(self, /, string, pos=0, endpos=9223372036854775807)\n",
      "     |\n",
      "     |  search(self, /, string, pos=0, endpos=9223372036854775807)\n",
      "     |      Scan through string looking for a match, and return a corresponding match object instance.\n",
      "     |\n",
      "     |      Return None if no position in the string matches.\n",
      "     |\n",
      "     |  split(self, /, string, maxsplit=0)\n",
      "     |      Split string by the occurrences of pattern.\n",
      "     |\n",
      "     |  sub(self, /, repl, string, count=0)\n",
      "     |      Return the string obtained by replacing the leftmost non-overlapping occurrences of pattern in string by the replacement repl.\n",
      "     |\n",
      "     |  subn(self, /, repl, string, count=0)\n",
      "     |      Return the tuple (new_string, number_of_subs_made) found by replacing the leftmost non-overlapping occurrences of pattern with the replacement repl.\n",
      "     |\n",
      "     |  ----------------------------------------------------------------------\n",
      "     |  Class methods defined here:\n",
      "     |\n",
      "     |  __class_getitem__(object, /)\n",
      "     |      See PEP 585\n",
      "     |\n",
      "     |  ----------------------------------------------------------------------\n",
      "     |  Data descriptors defined here:\n",
      "     |\n",
      "     |  flags\n",
      "     |      The regex matching flags.\n",
      "     |\n",
      "     |  groupindex\n",
      "     |      A dictionary mapping group names to group numbers.\n",
      "     |\n",
      "     |  groups\n",
      "     |      The number of capturing groups in the pattern.\n",
      "     |\n",
      "     |  pattern\n",
      "     |      The pattern string from which the RE object was compiled.\n",
      "\n",
      "    class PatternError(builtins.Exception)\n",
      "     |  PatternError(msg, pattern=None, pos=None)\n",
      "     |\n",
      "     |  Exception raised for invalid regular expressions.\n",
      "     |\n",
      "     |  Attributes:\n",
      "     |\n",
      "     |      msg: The unformatted error message\n",
      "     |      pattern: The regular expression pattern\n",
      "     |      pos: The index in the pattern where compilation failed (may be None)\n",
      "     |      lineno: The line corresponding to pos (may be None)\n",
      "     |      colno: The column corresponding to pos (may be None)\n",
      "     |\n",
      "     |  Method resolution order:\n",
      "     |      PatternError\n",
      "     |      builtins.Exception\n",
      "     |      builtins.BaseException\n",
      "     |      builtins.object\n",
      "     |\n",
      "     |  Methods defined here:\n",
      "     |\n",
      "     |  __init__(self, msg, pattern=None, pos=None) from re._constants.PatternError\n",
      "     |      Initialize self.  See help(type(self)) for accurate signature.\n",
      "     |\n",
      "     |  ----------------------------------------------------------------------\n",
      "     |  Data descriptors defined here:\n",
      "     |\n",
      "     |  __weakref__\n",
      "     |      list of weak references to the object\n",
      "     |\n",
      "     |  ----------------------------------------------------------------------\n",
      "     |  Static methods inherited from builtins.Exception:\n",
      "     |\n",
      "     |  __new__(*args, **kwargs) class method of builtins.Exception\n",
      "     |      Create and return a new object.  See help(type) for accurate signature.\n",
      "     |\n",
      "     |  ----------------------------------------------------------------------\n",
      "     |  Methods inherited from builtins.BaseException:\n",
      "     |\n",
      "     |  __getattribute__(self, name, /)\n",
      "     |      Return getattr(self, name).\n",
      "     |\n",
      "     |  __reduce__(self, /)\n",
      "     |      Helper for pickle.\n",
      "     |\n",
      "     |  __repr__(self, /)\n",
      "     |      Return repr(self).\n",
      "     |\n",
      "     |  __setstate__(self, object, /)\n",
      "     |\n",
      "     |  __str__(self, /)\n",
      "     |      Return str(self).\n",
      "     |\n",
      "     |  add_note(self, object, /)\n",
      "     |      Exception.add_note(note) --\n",
      "     |      add a note to the exception\n",
      "     |\n",
      "     |  with_traceback(self, object, /)\n",
      "     |      Exception.with_traceback(tb) --\n",
      "     |      set self.__traceback__ to tb and return self.\n",
      "     |\n",
      "     |  ----------------------------------------------------------------------\n",
      "     |  Data descriptors inherited from builtins.BaseException:\n",
      "     |\n",
      "     |  __cause__\n",
      "     |      exception cause\n",
      "     |\n",
      "     |  __context__\n",
      "     |      exception context\n",
      "     |\n",
      "     |  __dict__\n",
      "     |\n",
      "     |  __suppress_context__\n",
      "     |\n",
      "     |  __traceback__\n",
      "     |\n",
      "     |  args\n",
      "\n",
      "    class RegexFlag(enum.IntFlag)\n",
      "     |  RegexFlag(*values)\n",
      "     |\n",
      "     |  An enumeration.\n",
      "     |\n",
      "     |  Method resolution order:\n",
      "     |      RegexFlag\n",
      "     |      enum.IntFlag\n",
      "     |      builtins.int\n",
      "     |      enum.ReprEnum\n",
      "     |      enum.Flag\n",
      "     |      enum.Enum\n",
      "     |      builtins.object\n",
      "     |\n",
      "     |  Methods defined here:\n",
      "     |\n",
      "     |  __and__(self, other) from enum.Flag\n",
      "     |\n",
      "     |  __format__(self, format_spec, /) from builtins.int\n",
      "     |      Convert to a string according to format_spec.\n",
      "     |\n",
      "     |  __invert__(self) from enum.Flag\n",
      "     |\n",
      "     |  __new__(cls, value) from enum.Enum\n",
      "     |      Create and return a new object.  See help(type) for accurate signature.\n",
      "     |\n",
      "     |  __or__(self, other) from enum.Flag\n",
      "     |      Return self|value.\n",
      "     |\n",
      "     |  __rand__ = __and__(self, other)\n",
      "     |\n",
      "     |  __repr__ = global_flag_repr(self) from enum\n",
      "     |      use module.flag_name instead of class.flag_name\n",
      "     |\n",
      "     |      the module is the last module in case of a multi-module name\n",
      "     |\n",
      "     |  __ror__ = __or__(self, other)\n",
      "     |\n",
      "     |  __rxor__ = __xor__(self, other)\n",
      "     |\n",
      "     |  __str__(self, /) from builtins.object\n",
      "     |      Return str(self).\n",
      "     |\n",
      "     |  __xor__(self, other) from enum.Flag\n",
      "     |\n",
      "     |  ----------------------------------------------------------------------\n",
      "     |  Data and other attributes defined here:\n",
      "     |\n",
      "     |  ASCII = re.ASCII\n",
      "     |\n",
      "     |  DEBUG = re.DEBUG\n",
      "     |\n",
      "     |  DOTALL = re.DOTALL\n",
      "     |\n",
      "     |  IGNORECASE = re.IGNORECASE\n",
      "     |\n",
      "     |  LOCALE = re.LOCALE\n",
      "     |\n",
      "     |  MULTILINE = re.MULTILINE\n",
      "     |\n",
      "     |  UNICODE = re.UNICODE\n",
      "     |\n",
      "     |  VERBOSE = re.VERBOSE\n",
      "     |\n",
      "     |  ----------------------------------------------------------------------\n",
      "     |  Methods inherited from builtins.int:\n",
      "     |\n",
      "     |  __abs__(self, /)\n",
      "     |      abs(self)\n",
      "     |\n",
      "     |  __add__(self, value, /)\n",
      "     |      Return self+value.\n",
      "     |\n",
      "     |  __bool__(self, /)\n",
      "     |      True if self else False\n",
      "     |\n",
      "     |  __ceil__(self, /)\n",
      "     |      Ceiling of an Integral returns itself.\n",
      "     |\n",
      "     |  __divmod__(self, value, /)\n",
      "     |      Return divmod(self, value).\n",
      "     |\n",
      "     |  __eq__(self, value, /)\n",
      "     |      Return self==value.\n",
      "     |\n",
      "     |  __float__(self, /)\n",
      "     |      float(self)\n",
      "     |\n",
      "     |  __floor__(self, /)\n",
      "     |      Flooring an Integral returns itself.\n",
      "     |\n",
      "     |  __floordiv__(self, value, /)\n",
      "     |      Return self//value.\n",
      "     |\n",
      "     |  __ge__(self, value, /)\n",
      "     |      Return self>=value.\n",
      "     |\n",
      "     |  __getattribute__(self, name, /)\n",
      "     |      Return getattr(self, name).\n",
      "     |\n",
      "     |  __getnewargs__(self, /)\n",
      "     |\n",
      "     |  __gt__(self, value, /)\n",
      "     |      Return self>value.\n",
      "     |\n",
      "     |  __hash__(self, /)\n",
      "     |      Return hash(self).\n",
      "     |\n",
      "     |  __index__(self, /)\n",
      "     |      Return self converted to an integer, if self is suitable for use as an index into a list.\n",
      "     |\n",
      "     |  __int__(self, /)\n",
      "     |      int(self)\n",
      "     |\n",
      "     |  __le__(self, value, /)\n",
      "     |      Return self<=value.\n",
      "     |\n",
      "     |  __lshift__(self, value, /)\n",
      "     |      Return self<<value.\n",
      "     |\n",
      "     |  __lt__(self, value, /)\n",
      "     |      Return self<value.\n",
      "     |\n",
      "     |  __mod__(self, value, /)\n",
      "     |      Return self%value.\n",
      "     |\n",
      "     |  __mul__(self, value, /)\n",
      "     |      Return self*value.\n",
      "     |\n",
      "     |  __ne__(self, value, /)\n",
      "     |      Return self!=value.\n",
      "     |\n",
      "     |  __neg__(self, /)\n",
      "     |      -self\n",
      "     |\n",
      "     |  __pos__(self, /)\n",
      "     |      +self\n",
      "     |\n",
      "     |  __pow__(self, value, mod=None, /)\n",
      "     |      Return pow(self, value, mod).\n",
      "     |\n",
      "     |  __radd__(self, value, /)\n",
      "     |      Return value+self.\n",
      "     |\n",
      "     |  __rdivmod__(self, value, /)\n",
      "     |      Return divmod(value, self).\n",
      "     |\n",
      "     |  __rfloordiv__(self, value, /)\n",
      "     |      Return value//self.\n",
      "     |\n",
      "     |  __rlshift__(self, value, /)\n",
      "     |      Return value<<self.\n",
      "     |\n",
      "     |  __rmod__(self, value, /)\n",
      "     |      Return value%self.\n",
      "     |\n",
      "     |  __rmul__(self, value, /)\n",
      "     |      Return value*self.\n",
      "     |\n",
      "     |  __round__(self, ndigits=<unrepresentable>, /)\n",
      "     |      Rounding an Integral returns itself.\n",
      "     |\n",
      "     |      Rounding with an ndigits argument also returns an integer.\n",
      "     |\n",
      "     |  __rpow__(self, value, mod=None, /)\n",
      "     |      Return pow(value, self, mod).\n",
      "     |\n",
      "     |  __rrshift__(self, value, /)\n",
      "     |      Return value>>self.\n",
      "     |\n",
      "     |  __rshift__(self, value, /)\n",
      "     |      Return self>>value.\n",
      "     |\n",
      "     |  __rsub__(self, value, /)\n",
      "     |      Return value-self.\n",
      "     |\n",
      "     |  __rtruediv__(self, value, /)\n",
      "     |      Return value/self.\n",
      "     |\n",
      "     |  __sizeof__(self, /)\n",
      "     |      Returns size in memory, in bytes.\n",
      "     |\n",
      "     |  __sub__(self, value, /)\n",
      "     |      Return self-value.\n",
      "     |\n",
      "     |  __truediv__(self, value, /)\n",
      "     |      Return self/value.\n",
      "     |\n",
      "     |  __trunc__(self, /)\n",
      "     |      Truncating an Integral returns itself.\n",
      "     |\n",
      "     |  as_integer_ratio(self, /)\n",
      "     |      Return a pair of integers, whose ratio is equal to the original int.\n",
      "     |\n",
      "     |      The ratio is in lowest terms and has a positive denominator.\n",
      "     |\n",
      "     |      >>> (10).as_integer_ratio()\n",
      "     |      (10, 1)\n",
      "     |      >>> (-10).as_integer_ratio()\n",
      "     |      (-10, 1)\n",
      "     |      >>> (0).as_integer_ratio()\n",
      "     |      (0, 1)\n",
      "     |\n",
      "     |  bit_count(self, /)\n",
      "     |      Number of ones in the binary representation of the absolute value of self.\n",
      "     |\n",
      "     |      Also known as the population count.\n",
      "     |\n",
      "     |      >>> bin(13)\n",
      "     |      '0b1101'\n",
      "     |      >>> (13).bit_count()\n",
      "     |      3\n",
      "     |\n",
      "     |  bit_length(self, /)\n",
      "     |      Number of bits necessary to represent self in binary.\n",
      "     |\n",
      "     |      >>> bin(37)\n",
      "     |      '0b100101'\n",
      "     |      >>> (37).bit_length()\n",
      "     |      6\n",
      "     |\n",
      "     |  conjugate(self, /)\n",
      "     |      Returns self, the complex conjugate of any int.\n",
      "     |\n",
      "     |  is_integer(self, /)\n",
      "     |      Returns True. Exists for duck type compatibility with float.is_integer.\n",
      "     |\n",
      "     |  to_bytes(self, /, length=1, byteorder='big', *, signed=False)\n",
      "     |      Return an array of bytes representing an integer.\n",
      "     |\n",
      "     |      length\n",
      "     |        Length of bytes object to use.  An OverflowError is raised if the\n",
      "     |        integer is not representable with the given number of bytes.  Default\n",
      "     |        is length 1.\n",
      "     |      byteorder\n",
      "     |        The byte order used to represent the integer.  If byteorder is 'big',\n",
      "     |        the most significant byte is at the beginning of the byte array.  If\n",
      "     |        byteorder is 'little', the most significant byte is at the end of the\n",
      "     |        byte array.  To request the native byte order of the host system, use\n",
      "     |        sys.byteorder as the byte order value.  Default is to use 'big'.\n",
      "     |      signed\n",
      "     |        Determines whether two's complement is used to represent the integer.\n",
      "     |        If signed is False and a negative integer is given, an OverflowError\n",
      "     |        is raised.\n",
      "     |\n",
      "     |  ----------------------------------------------------------------------\n",
      "     |  Class methods inherited from builtins.int:\n",
      "     |\n",
      "     |  from_bytes(bytes, byteorder='big', *, signed=False)\n",
      "     |      Return the integer represented by the given array of bytes.\n",
      "     |\n",
      "     |      bytes\n",
      "     |        Holds the array of bytes to convert.  The argument must either\n",
      "     |        support the buffer protocol or be an iterable object producing bytes.\n",
      "     |        Bytes and bytearray are examples of built-in objects that support the\n",
      "     |        buffer protocol.\n",
      "     |      byteorder\n",
      "     |        The byte order used to represent the integer.  If byteorder is 'big',\n",
      "     |        the most significant byte is at the beginning of the byte array.  If\n",
      "     |        byteorder is 'little', the most significant byte is at the end of the\n",
      "     |        byte array.  To request the native byte order of the host system, use\n",
      "     |        sys.byteorder as the byte order value.  Default is to use 'big'.\n",
      "     |      signed\n",
      "     |        Indicates whether two's complement is used to represent the integer.\n",
      "     |\n",
      "     |  ----------------------------------------------------------------------\n",
      "     |  Data descriptors inherited from builtins.int:\n",
      "     |\n",
      "     |  denominator\n",
      "     |      the denominator of a rational number in lowest terms\n",
      "     |\n",
      "     |  imag\n",
      "     |      the imaginary part of a complex number\n",
      "     |\n",
      "     |  numerator\n",
      "     |      the numerator of a rational number in lowest terms\n",
      "     |\n",
      "     |  real\n",
      "     |      the real part of a complex number\n",
      "     |\n",
      "     |  ----------------------------------------------------------------------\n",
      "     |  Methods inherited from enum.Flag:\n",
      "     |\n",
      "     |  __contains__(self, other)\n",
      "     |      Returns True if self has at least the same flags set as other.\n",
      "     |\n",
      "     |  __iter__(self)\n",
      "     |      Returns flags in definition order.\n",
      "     |\n",
      "     |  __len__(self)\n",
      "     |      Return the number of members (no aliases)\n",
      "     |\n",
      "     |  ----------------------------------------------------------------------\n",
      "     |  Methods inherited from enum.Enum:\n",
      "     |\n",
      "     |  __dir__(self)\n",
      "     |      Returns public methods and other interesting attributes.\n",
      "     |\n",
      "     |  __init__(self, *args, **kwds)\n",
      "     |      Initialize self.  See help(type(self)) for accurate signature.\n",
      "     |\n",
      "     |  __reduce_ex__(self, proto)\n",
      "     |      Helper for pickle.\n",
      "     |\n",
      "     |  ----------------------------------------------------------------------\n",
      "     |  Data descriptors inherited from enum.Enum:\n",
      "     |\n",
      "     |  name\n",
      "     |      The name of the Enum member.\n",
      "     |\n",
      "     |  value\n",
      "     |      The value of the Enum member.\n",
      "     |\n",
      "     |  ----------------------------------------------------------------------\n",
      "     |  Static methods inherited from enum.EnumType:\n",
      "     |\n",
      "     |  __getitem__(name)\n",
      "     |      Return the member matching `name`.\n",
      "     |\n",
      "     |  ----------------------------------------------------------------------\n",
      "     |  Readonly properties inherited from enum.EnumType:\n",
      "     |\n",
      "     |  __members__\n",
      "     |      Returns a mapping of member name->value.\n",
      "     |\n",
      "     |      This mapping lists all enum members, including aliases. Note that this\n",
      "     |      is a read-only view of the internal mapping.\n",
      "\n",
      "    error = class PatternError(builtins.Exception)\n",
      "     |  error(msg, pattern=None, pos=None)\n",
      "     |\n",
      "     |  Exception raised for invalid regular expressions.\n",
      "     |\n",
      "     |  Attributes:\n",
      "     |\n",
      "     |      msg: The unformatted error message\n",
      "     |      pattern: The regular expression pattern\n",
      "     |      pos: The index in the pattern where compilation failed (may be None)\n",
      "     |      lineno: The line corresponding to pos (may be None)\n",
      "     |      colno: The column corresponding to pos (may be None)\n",
      "     |\n",
      "     |  Method resolution order:\n",
      "     |      PatternError\n",
      "     |      builtins.Exception\n",
      "     |      builtins.BaseException\n",
      "     |      builtins.object\n",
      "     |\n",
      "     |  Methods defined here:\n",
      "     |\n",
      "     |  __init__(self, msg, pattern=None, pos=None) from re._constants.PatternError\n",
      "     |      Initialize self.  See help(type(self)) for accurate signature.\n",
      "     |\n",
      "     |  ----------------------------------------------------------------------\n",
      "     |  Data descriptors defined here:\n",
      "     |\n",
      "     |  __weakref__\n",
      "     |      list of weak references to the object\n",
      "     |\n",
      "     |  ----------------------------------------------------------------------\n",
      "     |  Static methods inherited from builtins.Exception:\n",
      "     |\n",
      "     |  __new__(*args, **kwargs) class method of builtins.Exception\n",
      "     |      Create and return a new object.  See help(type) for accurate signature.\n",
      "     |\n",
      "     |  ----------------------------------------------------------------------\n",
      "     |  Methods inherited from builtins.BaseException:\n",
      "     |\n",
      "     |  __getattribute__(self, name, /)\n",
      "     |      Return getattr(self, name).\n",
      "     |\n",
      "     |  __reduce__(self, /)\n",
      "     |      Helper for pickle.\n",
      "     |\n",
      "     |  __repr__(self, /)\n",
      "     |      Return repr(self).\n",
      "     |\n",
      "     |  __setstate__(self, object, /)\n",
      "     |\n",
      "     |  __str__(self, /)\n",
      "     |      Return str(self).\n",
      "     |\n",
      "     |  add_note(self, object, /)\n",
      "     |      Exception.add_note(note) --\n",
      "     |      add a note to the exception\n",
      "     |\n",
      "     |  with_traceback(self, object, /)\n",
      "     |      Exception.with_traceback(tb) --\n",
      "     |      set self.__traceback__ to tb and return self.\n",
      "     |\n",
      "     |  ----------------------------------------------------------------------\n",
      "     |  Data descriptors inherited from builtins.BaseException:\n",
      "     |\n",
      "     |  __cause__\n",
      "     |      exception cause\n",
      "     |\n",
      "     |  __context__\n",
      "     |      exception context\n",
      "     |\n",
      "     |  __dict__\n",
      "     |\n",
      "     |  __suppress_context__\n",
      "     |\n",
      "     |  __traceback__\n",
      "     |\n",
      "     |  args\n",
      "\n",
      "FUNCTIONS\n",
      "    compile(pattern, flags=0)\n",
      "        Compile a regular expression pattern, returning a Pattern object.\n",
      "\n",
      "    escape(pattern)\n",
      "        Escape special characters in a string.\n",
      "\n",
      "    findall(pattern, string, flags=0)\n",
      "        Return a list of all non-overlapping matches in the string.\n",
      "\n",
      "        If one or more capturing groups are present in the pattern, return\n",
      "        a list of groups; this will be a list of tuples if the pattern\n",
      "        has more than one group.\n",
      "\n",
      "        Empty matches are included in the result.\n",
      "\n",
      "    finditer(pattern, string, flags=0)\n",
      "        Return an iterator over all non-overlapping matches in the\n",
      "        string.  For each match, the iterator returns a Match object.\n",
      "\n",
      "        Empty matches are included in the result.\n",
      "\n",
      "    fullmatch(pattern, string, flags=0)\n",
      "        Try to apply the pattern to all of the string, returning\n",
      "        a Match object, or None if no match was found.\n",
      "\n",
      "    match(pattern, string, flags=0)\n",
      "        Try to apply the pattern at the start of the string, returning\n",
      "        a Match object, or None if no match was found.\n",
      "\n",
      "    purge()\n",
      "        Clear the regular expression caches\n",
      "\n",
      "    search(pattern, string, flags=0)\n",
      "        Scan through string looking for a match to the pattern, returning\n",
      "        a Match object, or None if no match was found.\n",
      "\n",
      "    split(pattern, string, maxsplit=0, flags=0)\n",
      "        Split the source string by the occurrences of the pattern,\n",
      "        returning a list containing the resulting substrings.  If\n",
      "        capturing parentheses are used in pattern, then the text of all\n",
      "        groups in the pattern are also returned as part of the resulting\n",
      "        list.  If maxsplit is nonzero, at most maxsplit splits occur,\n",
      "        and the remainder of the string is returned as the final element\n",
      "        of the list.\n",
      "\n",
      "    sub(pattern, repl, string, count=0, flags=0)\n",
      "        Return the string obtained by replacing the leftmost\n",
      "        non-overlapping occurrences of the pattern in string by the\n",
      "        replacement repl.  repl can be either a string or a callable;\n",
      "        if a string, backslash escapes in it are processed.  If it is\n",
      "        a callable, it's passed the Match object and must return\n",
      "        a replacement string to be used.\n",
      "\n",
      "    subn(pattern, repl, string, count=0, flags=0)\n",
      "        Return a 2-tuple containing (new_string, number).\n",
      "        new_string is the string obtained by replacing the leftmost\n",
      "        non-overlapping occurrences of the pattern in the source\n",
      "        string by the replacement repl.  number is the number of\n",
      "        substitutions that were made. repl can be either a string or a\n",
      "        callable; if a string, backslash escapes in it are processed.\n",
      "        If it is a callable, it's passed the Match object and must\n",
      "        return a replacement string to be used.\n",
      "\n",
      "DATA\n",
      "    A = re.ASCII\n",
      "    ASCII = re.ASCII\n",
      "    DOTALL = re.DOTALL\n",
      "    I = re.IGNORECASE\n",
      "    IGNORECASE = re.IGNORECASE\n",
      "    L = re.LOCALE\n",
      "    LOCALE = re.LOCALE\n",
      "    M = re.MULTILINE\n",
      "    MULTILINE = re.MULTILINE\n",
      "    NOFLAG = re.NOFLAG\n",
      "    S = re.DOTALL\n",
      "    U = re.UNICODE\n",
      "    UNICODE = re.UNICODE\n",
      "    VERBOSE = re.VERBOSE\n",
      "    X = re.VERBOSE\n",
      "    __all__ = ['match', 'fullmatch', 'search', 'sub', 'subn', 'split', 'fi...\n",
      "\n",
      "VERSION\n",
      "    2.2.1\n",
      "\n",
      "FILE\n",
      "    /opt/anaconda3/lib/python3.13/re/__init__.py\n",
      "\n",
      "\n"
     ]
    }
   ],
   "source": [
    "help(re)"
   ]
  },
  {
   "cell_type": "code",
   "execution_count": 32,
   "id": "c78de11f-9e07-4e76-8045-e18cbbff0893",
   "metadata": {},
   "outputs": [
    {
     "data": {
      "text/plain": [
       "<re.Match object; span=(3, 4), match='1'>"
      ]
     },
     "execution_count": 32,
     "metadata": {},
     "output_type": "execute_result"
    }
   ],
   "source": [
    "re.search(\"[0-9]\",\"foo123bar\")"
   ]
  },
  {
   "cell_type": "code",
   "execution_count": 33,
   "id": "324c9a21-5315-4755-bc49-3de7b15e02e6",
   "metadata": {},
   "outputs": [
    {
     "data": {
      "text/plain": [
       "<re.Match object; span=(3, 5), match='12'>"
      ]
     },
     "execution_count": 33,
     "metadata": {},
     "output_type": "execute_result"
    }
   ],
   "source": [
    "re.search(\"[0-9][0-9]\",\"foo123bar\")"
   ]
  },
  {
   "cell_type": "code",
   "execution_count": 34,
   "id": "4e9cda73-7494-4d93-b708-d93ee2922b4b",
   "metadata": {},
   "outputs": [
    {
     "data": {
      "text/plain": [
       "'*path'"
      ]
     },
     "execution_count": 34,
     "metadata": {},
     "output_type": "execute_result"
    }
   ],
   "source": [
    "#re.sub- substitue a valjue \n",
    "\n",
    "re.sub(\"sam\" , '*', 'sampath')"
   ]
  },
  {
   "cell_type": "markdown",
   "id": "65a92b06-21d0-481e-b0be-b519bf8751b0",
   "metadata": {},
   "source": [
    "## Object oriented Programming OOP with python"
   ]
  },
  {
   "cell_type": "markdown",
   "id": "6f5eec17-61c7-4ac4-9f01-37ee8364c3a8",
   "metadata": {},
   "source": [
    "what is OOP ?\n",
    "\n",
    " - which used object and classes for organizaing code\n",
    " - principle used are : encapsulation, inheritance, polymorphism and abstraction\n",
    "\n",
    "Benefits of OOP\n",
    "- modularity - organize code in reusable component\n",
    "- encapsulation - hide implementation details and expose only necessary info\n",
    "- abstraction - foucs on what object does rather than how it does\n",
    "\n",
    "classes \n",
    "\n",
    "- it is a blurprint for creating object\n",
    "- define properties or atrributes and methods\n",
    "\n",
    "object \n",
    "instance of class "
   ]
  },
  {
   "cell_type": "markdown",
   "id": "088b8fe0-f15f-4c13-be1f-67d321b94761",
   "metadata": {},
   "source": [
    "What is object ?"
   ]
  },
  {
   "cell_type": "code",
   "execution_count": 35,
   "id": "02add6f0-249f-4061-8bbf-02a12971f5d7",
   "metadata": {},
   "outputs": [
    {
     "data": {
      "text/plain": [
       "int"
      ]
     },
     "execution_count": 35,
     "metadata": {},
     "output_type": "execute_result"
    }
   ],
   "source": [
    "x=1\n",
    "type(x)"
   ]
  },
  {
   "cell_type": "code",
   "execution_count": 36,
   "id": "72648230-ff04-4c06-bf79-152f4bbb15d9",
   "metadata": {},
   "outputs": [
    {
     "name": "stdout",
     "output_type": "stream",
     "text": [
      "<class 'int'>\n"
     ]
    }
   ],
   "source": [
    "print(type(x))"
   ]
  },
  {
   "cell_type": "markdown",
   "id": "13697711-8edc-4ab2-886d-323dc4ca5d0f",
   "metadata": {},
   "source": [
    "# method\n",
    "\n",
    "string = \"hellpo\"\n",
    "\n",
    "string.upper()"
   ]
  },
  {
   "cell_type": "code",
   "execution_count": 37,
   "id": "0b25c9b4-126a-44c4-8fa8-8b078bab7ff3",
   "metadata": {},
   "outputs": [
    {
     "data": {
      "text/plain": [
       "'HELLPO'"
      ]
     },
     "execution_count": 37,
     "metadata": {},
     "output_type": "execute_result"
    }
   ],
   "source": [
    "string = \"hellpo\"\n",
    "\n",
    "string.upper()"
   ]
  },
  {
   "cell_type": "code",
   "execution_count": 47,
   "id": "1d8f93ca-d163-432b-b876-a84d9478bd22",
   "metadata": {},
   "outputs": [],
   "source": [
    "# create class\n",
    "\n",
    "class Dog: # use a upper case \n",
    "\n",
    "    def __init__(self):\n",
    "        pass\n",
    "    def meow(self, x):\n",
    "        return x+1\n",
    "    def bark(self):   # tihs is a method\n",
    "        print(\"bark\")\n",
    "d = Dog()"
   ]
  },
  {
   "cell_type": "code",
   "execution_count": 41,
   "id": "6b41ca65-05eb-498a-bc77-2d874714ad36",
   "metadata": {},
   "outputs": [
    {
     "name": "stdout",
     "output_type": "stream",
     "text": [
      "<class '__main__.Dog'>\n"
     ]
    }
   ],
   "source": [
    "print(type(d))"
   ]
  },
  {
   "cell_type": "code",
   "execution_count": 42,
   "id": "e347bd13-94f2-459c-99fb-a4c1efef5ef2",
   "metadata": {},
   "outputs": [
    {
     "name": "stdout",
     "output_type": "stream",
     "text": [
      "bark\n"
     ]
    }
   ],
   "source": [
    "# call the method\n",
    "d.bark()"
   ]
  },
  {
   "cell_type": "code",
   "execution_count": 48,
   "id": "d3dca301-56f6-4f6c-b239-e94b28e58ab9",
   "metadata": {},
   "outputs": [
    {
     "data": {
      "text/plain": [
       "6"
      ]
     },
     "execution_count": 48,
     "metadata": {},
     "output_type": "execute_result"
    }
   ],
   "source": [
    "d.meow(5)"
   ]
  },
  {
   "cell_type": "code",
   "execution_count": 50,
   "id": "057f1ee7-d2e8-4da6-af12-a513c4647a37",
   "metadata": {},
   "outputs": [
    {
     "name": "stdout",
     "output_type": "stream",
     "text": [
      "<class 'int'>\n",
      "<class 'list'>\n"
     ]
    }
   ],
   "source": [
    "# in python everything is an \n",
    "# here x and y are classes of integrs and list\n",
    "x= 50\n",
    "y = [1,2,3,4]\n",
    "\n",
    "print (type(x))\n",
    "print (type(y))"
   ]
  },
  {
   "cell_type": "markdown",
   "id": "0aa59900-da32-4b06-9491-69c718a29dcf",
   "metadata": {},
   "source": [
    "- to create a new classwe use class keyword\n",
    "- variables inside a class are called attribute, to access a attribute we use object_name.attribtue\n",
    "- Functon inside is called methods\n",
    "- object is an instance of the class"
   ]
  },
  {
   "cell_type": "code",
   "execution_count": 58,
   "id": "9cf83341-c9f6-46f7-bc99-17b25643bc5a",
   "metadata": {},
   "outputs": [],
   "source": [
    "class example:\n",
    "    name = \"john\" # attribute- class atritubte\n",
    "\n",
    "    # create a function\n",
    "    def fun(self): # method, wehnver we create a method self is the first paraments\n",
    "        print(\"happy fun\")"
   ]
  },
  {
   "cell_type": "code",
   "execution_count": 63,
   "id": "dc805215-2f71-46cc-a8ff-26730044bb39",
   "metadata": {},
   "outputs": [],
   "source": [
    "obj1 = example # instance of a class"
   ]
  },
  {
   "cell_type": "code",
   "execution_count": 53,
   "id": "9cb7280f-dbb5-4238-8b13-9af1f8be9d27",
   "metadata": {},
   "outputs": [
    {
     "data": {
      "text/plain": [
       "<__main__.example at 0x1049374d0>"
      ]
     },
     "execution_count": 53,
     "metadata": {},
     "output_type": "execute_result"
    }
   ],
   "source": [
    "obj1"
   ]
  },
  {
   "cell_type": "code",
   "execution_count": 55,
   "id": "8d6ac9c1-ee33-448d-a523-453fc8bee1e4",
   "metadata": {},
   "outputs": [
    {
     "data": {
      "text/plain": [
       "'john'"
      ]
     },
     "execution_count": 55,
     "metadata": {},
     "output_type": "execute_result"
    }
   ],
   "source": [
    "obj1.name"
   ]
  },
  {
   "cell_type": "code",
   "execution_count": 62,
   "id": "60de31cf-cdc4-4e41-b691-59cebe033205",
   "metadata": {},
   "outputs": [
    {
     "name": "stdout",
     "output_type": "stream",
     "text": [
      "happy fun\n"
     ]
    }
   ],
   "source": [
    "obj1.fun()"
   ]
  },
  {
   "cell_type": "code",
   "execution_count": 68,
   "id": "78b28bd7-69bb-40ad-a79b-6548b6ea781f",
   "metadata": {},
   "outputs": [],
   "source": [
    "# object attribute\n",
    "\n",
    "class example:\n",
    "    name = \"john\" # attribute- class atritubte\n",
    "\n",
    "    # create a function\n",
    "    def fun(self): # method, wehnver we create a method self is the first paraments\n",
    "        self.age = 20 # setting obj1.age, this is the object attribute\n",
    "        print(\"happy fun\")"
   ]
  },
  {
   "cell_type": "code",
   "execution_count": 69,
   "id": "5a7b24a2-b94f-4924-a3b2-9539faec678b",
   "metadata": {},
   "outputs": [],
   "source": [
    "obj1=example()"
   ]
  },
  {
   "cell_type": "code",
   "execution_count": 70,
   "id": "6ee36ce5-f7e9-4b58-8587-bea664fb5a57",
   "metadata": {},
   "outputs": [
    {
     "name": "stdout",
     "output_type": "stream",
     "text": [
      "happy fun\n"
     ]
    }
   ],
   "source": [
    "obj1.fun()"
   ]
  },
  {
   "cell_type": "code",
   "execution_count": 71,
   "id": "90c72343-b1c3-4fb5-a7f8-c61701ce2b69",
   "metadata": {},
   "outputs": [
    {
     "data": {
      "text/plain": [
       "20"
      ]
     },
     "execution_count": 71,
     "metadata": {},
     "output_type": "execute_result"
    }
   ],
   "source": [
    "obj1.age"
   ]
  },
  {
   "cell_type": "code",
   "execution_count": 72,
   "id": "709a8e85-1e78-43e5-ae55-c8462d9cf04b",
   "metadata": {},
   "outputs": [],
   "source": [
    "ob2 = example()"
   ]
  },
  {
   "cell_type": "code",
   "execution_count": 73,
   "id": "fd4889fc-bec5-41a5-8635-3c6aa25ce168",
   "metadata": {},
   "outputs": [
    {
     "data": {
      "text/plain": [
       "'john'"
      ]
     },
     "execution_count": 73,
     "metadata": {},
     "output_type": "execute_result"
    }
   ],
   "source": [
    "ob2.name"
   ]
  },
  {
   "cell_type": "code",
   "execution_count": 74,
   "id": "861affb3-467b-4b61-85e8-9aa2fecdaaf9",
   "metadata": {},
   "outputs": [
    {
     "name": "stdout",
     "output_type": "stream",
     "text": [
      "happy fun\n"
     ]
    }
   ],
   "source": [
    "ob2.fun()"
   ]
  },
  {
   "cell_type": "code",
   "execution_count": 75,
   "id": "9b716e86-129e-4c3b-803d-e7a4519b5c87",
   "metadata": {},
   "outputs": [
    {
     "data": {
      "text/plain": [
       "20"
      ]
     },
     "execution_count": 75,
     "metadata": {},
     "output_type": "execute_result"
    }
   ],
   "source": [
    "ob2.age"
   ]
  },
  {
   "cell_type": "code",
   "execution_count": 76,
   "id": "72dacb4a-2b9a-4d26-9997-f5ff67daac8e",
   "metadata": {},
   "outputs": [],
   "source": [
    "ob2.age = 30"
   ]
  },
  {
   "cell_type": "code",
   "execution_count": 78,
   "id": "f4afde80-47ae-4e25-b9fb-b0c3817385fd",
   "metadata": {},
   "outputs": [
    {
     "data": {
      "text/plain": [
       "(20, 30)"
      ]
     },
     "execution_count": 78,
     "metadata": {},
     "output_type": "execute_result"
    }
   ],
   "source": [
    "obj1.age, ob2.age"
   ]
  },
  {
   "cell_type": "markdown",
   "id": "8e07e9e0-e2d6-4d39-8b88-09785d74cd92",
   "metadata": {},
   "source": [
    "### Intialization"
   ]
  },
  {
   "cell_type": "markdown",
   "id": "1841b8ef-2f55-40ef-becc-a848a17ef8e9",
   "metadata": {},
   "source": [
    "if we want to assign class attributs during creation we make use of __init__() method"
   ]
  },
  {
   "cell_type": "code",
   "execution_count": 82,
   "id": "f5394574-54f7-4978-b6c2-af1f3bf577e8",
   "metadata": {},
   "outputs": [],
   "source": [
    "class example:\n",
    "    def __init__(self,name):\n",
    "        self.name = name\n",
    "    def hello(self):\n",
    "        print(f\"hello {self.name}\")"
   ]
  },
  {
   "cell_type": "code",
   "execution_count": 84,
   "id": "b6182b95-6058-411d-b355-9302ccb0095f",
   "metadata": {},
   "outputs": [],
   "source": [
    "x = example(\"sam\")"
   ]
  },
  {
   "cell_type": "code",
   "execution_count": 85,
   "id": "39b3dceb-3c07-4bcc-b291-19e93203392c",
   "metadata": {},
   "outputs": [
    {
     "name": "stdout",
     "output_type": "stream",
     "text": [
      "hello sam\n"
     ]
    }
   ],
   "source": [
    "x.hello()"
   ]
  },
  {
   "cell_type": "code",
   "execution_count": 86,
   "id": "b949399e-5836-44d1-9d53-2e8d1384fa54",
   "metadata": {},
   "outputs": [],
   "source": [
    "#Create a class as cake and store the initialized value of falvour and person name into attributes"
   ]
  },
  {
   "cell_type": "code",
   "execution_count": 87,
   "id": "70e4b767-134c-43ee-a83f-6d6e7d123abe",
   "metadata": {},
   "outputs": [],
   "source": [
    "class cake:\n",
    "    def __init__(self,flavour,name):\n",
    "        self.flavour = flavour\n",
    "        self.name = name"
   ]
  },
  {
   "cell_type": "code",
   "execution_count": 88,
   "id": "49fe0d9a-718b-4b97-bb61-83f1fe77875e",
   "metadata": {},
   "outputs": [],
   "source": [
    "c = cake(\"chocolate\", \"sam\")"
   ]
  },
  {
   "cell_type": "code",
   "execution_count": 89,
   "id": "787a91d4-c45c-44e0-b850-61c00ae2bae3",
   "metadata": {},
   "outputs": [
    {
     "data": {
      "text/plain": [
       "'chocolate'"
      ]
     },
     "execution_count": 89,
     "metadata": {},
     "output_type": "execute_result"
    }
   ],
   "source": [
    "c.flavour"
   ]
  },
  {
   "cell_type": "code",
   "execution_count": 90,
   "id": "5b2bc060-b0f5-4306-b297-c13811d07dfd",
   "metadata": {},
   "outputs": [
    {
     "data": {
      "text/plain": [
       "'sam'"
      ]
     },
     "execution_count": 90,
     "metadata": {},
     "output_type": "execute_result"
    }
   ],
   "source": [
    "c.name"
   ]
  },
  {
   "cell_type": "code",
   "execution_count": 91,
   "id": "7b4465ff-abb5-43c1-b191-1b7d99367357",
   "metadata": {},
   "outputs": [],
   "source": [
    "# create input as radius and has method to return area and cirumference"
   ]
  },
  {
   "cell_type": "code",
   "execution_count": 92,
   "id": "8cf95db2-4a89-4b12-9fe9-940cebc01ed1",
   "metadata": {},
   "outputs": [],
   "source": [
    "class value:\n",
    "    def __init__(self, radius):\n",
    "        self.radius = radius\n",
    "    def area(self):\n",
    "        return self.radius ** 2\n",
    "    def circumference(self):\n",
    "        return self.radius *2"
   ]
  },
  {
   "cell_type": "code",
   "execution_count": 93,
   "id": "06678258-61a3-44d1-9a6f-00cc3998ca03",
   "metadata": {},
   "outputs": [],
   "source": [
    "r = value(5)"
   ]
  },
  {
   "cell_type": "code",
   "execution_count": 94,
   "id": "111149b9-f858-4d05-b264-c9a3836de3dc",
   "metadata": {},
   "outputs": [
    {
     "data": {
      "text/plain": [
       "25"
      ]
     },
     "execution_count": 94,
     "metadata": {},
     "output_type": "execute_result"
    }
   ],
   "source": [
    "r.area()"
   ]
  },
  {
   "cell_type": "code",
   "execution_count": 95,
   "id": "6f9fc6ad-4253-4ef5-8d6f-27931dd3be30",
   "metadata": {},
   "outputs": [
    {
     "data": {
      "text/plain": [
       "10"
      ]
     },
     "execution_count": 95,
     "metadata": {},
     "output_type": "execute_result"
    }
   ],
   "source": [
    "r.circumference()"
   ]
  },
  {
   "cell_type": "markdown",
   "id": "a656cb36-18b0-4070-a609-12ad22315130",
   "metadata": {},
   "source": [
    "## object orentiented concepts\n",
    "\n",
    "# inhetances\n",
    "\n",
    "- can create a sublcasss from the main class\n",
    "- good way to reuse code"
   ]
  },
  {
   "cell_type": "code",
   "execution_count": 100,
   "id": "3cbfddf3-cee2-445d-b1a5-aa365b3bb964",
   "metadata": {},
   "outputs": [],
   "source": [
    "class car:\n",
    "    def wheels(self):\n",
    "        print(\"i am a wheel\")\n",
    "\n",
    "class suv(car):\n",
    "    def wheels(self):\n",
    "        pass"
   ]
  },
  {
   "cell_type": "code",
   "execution_count": 101,
   "id": "8cb2de10-1079-4f6e-917c-996193b0f69a",
   "metadata": {},
   "outputs": [],
   "source": [
    "c1 = car()\n",
    "c2 = suv()"
   ]
  },
  {
   "cell_type": "code",
   "execution_count": 104,
   "id": "92b428a9-250a-4b1e-ab07-dba9d4d019c7",
   "metadata": {},
   "outputs": [
    {
     "name": "stdout",
     "output_type": "stream",
     "text": [
      "<__main__.car object at 0x104d61d30>\n"
     ]
    }
   ],
   "source": [
    "print(c1)"
   ]
  },
  {
   "cell_type": "code",
   "execution_count": 103,
   "id": "fd639b8b-5ca1-456d-b2b7-64c11652c797",
   "metadata": {},
   "outputs": [
    {
     "data": {
      "text/plain": [
       "<__main__.suv at 0x104d61a90>"
      ]
     },
     "execution_count": 103,
     "metadata": {},
     "output_type": "execute_result"
    }
   ],
   "source": [
    "c2"
   ]
  },
  {
   "cell_type": "code",
   "execution_count": 1,
   "id": "2cca1f12-f899-460f-865a-35e267dc07d4",
   "metadata": {},
   "outputs": [],
   "source": [
    "## protected access modifier\n",
    "class student:\n",
    "    _name=None\n",
    "    _age=None  ## the underscore mean it is procted class attribute"
   ]
  }
 ],
 "metadata": {
  "kernelspec": {
   "display_name": "Python 3 (ipykernel)",
   "language": "python",
   "name": "python3"
  },
  "language_info": {
   "codemirror_mode": {
    "name": "ipython",
    "version": 3
   },
   "file_extension": ".py",
   "mimetype": "text/x-python",
   "name": "python",
   "nbconvert_exporter": "python",
   "pygments_lexer": "ipython3",
   "version": "3.13.5"
  }
 },
 "nbformat": 4,
 "nbformat_minor": 5
}
