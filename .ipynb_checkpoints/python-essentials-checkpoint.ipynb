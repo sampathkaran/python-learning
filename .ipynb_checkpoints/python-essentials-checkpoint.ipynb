{
 "cells": [
  {
   "cell_type": "code",
   "execution_count": 1,
   "id": "8df31693-7804-44ab-b3d7-3ea17c3d3739",
   "metadata": {},
   "outputs": [
    {
     "name": "stdout",
     "output_type": "stream",
     "text": [
      "Hello World\n"
     ]
    }
   ],
   "source": [
    "print (\"Hello World\")"
   ]
  },
  {
   "cell_type": "code",
   "execution_count": null,
   "id": "8e626dcc-99f5-467a-b4ac-ca4ebc106300",
   "metadata": {},
   "outputs": [],
   "source": [
    "# Shortcuts\n",
    "# Press esc to go into command mode\n",
    "# Press a to insert a new cell above the current cell\n",
    "# Press b to insert a new cell below the current \n",
    "# d+d to delete a cell\n",
    "# m -> to convert code cell to markdown cell\n",
    "# y -> convent the markdown cell back to code cell"
   ]
  },
  {
   "cell_type": "markdown",
   "id": "4bcf6532-ad42-4b4d-81f7-2bb4a2ab29f5",
   "metadata": {},
   "source": [
    "# Python Essentials\n",
    "\n",
    "- point1\n",
    "- point2"
   ]
  },
  {
   "cell_type": "markdown",
   "id": "07f46a28-88e8-4b83-a3f8-b6f7e41ad70f",
   "metadata": {},
   "source": [
    "## Variables in Python Programming"
   ]
  },
  {
   "cell_type": "code",
   "execution_count": 2,
   "id": "5943cf3d-d218-47ae-9a88-44a09d081c39",
   "metadata": {},
   "outputs": [],
   "source": [
    "x = 100"
   ]
  },
  {
   "cell_type": "code",
   "execution_count": 3,
   "id": "639ab3f5-4df7-48ad-90a1-70f37dc1cb88",
   "metadata": {},
   "outputs": [
    {
     "data": {
      "text/plain": [
       "100"
      ]
     },
     "execution_count": 3,
     "metadata": {},
     "output_type": "execute_result"
    }
   ],
   "source": [
    "x"
   ]
  },
  {
   "cell_type": "code",
   "execution_count": 4,
   "id": "aa8e9d39-fcab-48cd-83b8-b4b1767cbac8",
   "metadata": {},
   "outputs": [
    {
     "data": {
      "text/plain": [
       "int"
      ]
     },
     "execution_count": 4,
     "metadata": {},
     "output_type": "execute_result"
    }
   ],
   "source": [
    "type(x)"
   ]
  },
  {
   "cell_type": "code",
   "execution_count": 5,
   "id": "8ba76f36-6962-4bdd-b0de-204eb0905889",
   "metadata": {},
   "outputs": [
    {
     "name": "stdout",
     "output_type": "stream",
     "text": [
      "99\n",
      "10\n"
     ]
    }
   ],
   "source": [
    "# rules of varaible\n",
    "# it is case senstivie\n",
    "x =10\n",
    "X = 99\n",
    "print(X)\n",
    "print(x)"
   ]
  },
  {
   "cell_type": "code",
   "execution_count": 6,
   "id": "a640112f-828b-4ef3-98f5-337edb4b2302",
   "metadata": {},
   "outputs": [],
   "source": [
    "x_123 = 5"
   ]
  },
  {
   "cell_type": "code",
   "execution_count": 7,
   "id": "2cb1f9a4-496f-459f-8c72-cac78c237c9f",
   "metadata": {},
   "outputs": [
    {
     "data": {
      "text/plain": [
       "5"
      ]
     },
     "execution_count": 7,
     "metadata": {},
     "output_type": "execute_result"
    }
   ],
   "source": [
    "x_123"
   ]
  },
  {
   "cell_type": "code",
   "execution_count": 8,
   "id": "2a7d64c6-fb60-4e8d-90e8-a92325283019",
   "metadata": {},
   "outputs": [
    {
     "ename": "SyntaxError",
     "evalue": "invalid decimal literal (1067945070.py, line 1)",
     "output_type": "error",
     "traceback": [
      "\u001b[0;36m  Cell \u001b[0;32mIn[8], line 1\u001b[0;36m\u001b[0m\n\u001b[0;31m    1x = 200\u001b[0m\n\u001b[0m    ^\u001b[0m\n\u001b[0;31mSyntaxError\u001b[0m\u001b[0;31m:\u001b[0m invalid decimal literal\n"
     ]
    }
   ],
   "source": [
    "1x = 200"
   ]
  },
  {
   "cell_type": "code",
   "execution_count": 9,
   "id": "756b5709-4b6b-4147-9712-402669209f20",
   "metadata": {},
   "outputs": [
    {
     "name": "stdout",
     "output_type": "stream",
     "text": [
      "['False', 'None', 'True', 'and', 'as', 'assert', 'async', 'await', 'break', 'class', 'continue', 'def', 'del', 'elif', 'else', 'except', 'finally', 'for', 'from', 'global', 'if', 'import', 'in', 'is', 'lambda', 'nonlocal', 'not', 'or', 'pass', 'raise', 'return', 'try', 'while', 'with', 'yield']\n"
     ]
    }
   ],
   "source": [
    "# Keywords are the ones that have predefined meaning\n",
    "# Variable name should not contain keywords\n",
    "import keyword\n",
    "print(keyword.kwlist)"
   ]
  },
  {
   "cell_type": "code",
   "execution_count": 10,
   "id": "c8aea107-456d-4f11-97c5-85ecbecb2b8a",
   "metadata": {},
   "outputs": [
    {
     "ename": "SyntaxError",
     "evalue": "invalid syntax (4194484637.py, line 1)",
     "output_type": "error",
     "traceback": [
      "\u001b[0;36m  Cell \u001b[0;32mIn[10], line 1\u001b[0;36m\u001b[0m\n\u001b[0;31m    if = 99\u001b[0m\n\u001b[0m       ^\u001b[0m\n\u001b[0;31mSyntaxError\u001b[0m\u001b[0;31m:\u001b[0m invalid syntax\n"
     ]
    }
   ],
   "source": [
    "if = 99"
   ]
  },
  {
   "cell_type": "code",
   "execution_count": 11,
   "id": "a4e30e0c-ed03-4ca1-b618-07a2897eb3f1",
   "metadata": {},
   "outputs": [],
   "source": [
    "# DevOps\n",
    "db_host = \"localhost\"\n",
    "db_user = \"user1\"\n",
    "port = 8080"
   ]
  },
  {
   "cell_type": "code",
   "execution_count": 13,
   "id": "ace4c7f7-907c-40f6-b4e7-126825828ee3",
   "metadata": {},
   "outputs": [],
   "source": [
    "#MLOps AIOps\n",
    "\n",
    "learning_rate = 0.001\n",
    "batch_size = 8\n",
    "num_epochs = 10"
   ]
  },
  {
   "cell_type": "code",
   "execution_count": 14,
   "id": "c9de612c-e9ff-4f6e-a485-52ea22166851",
   "metadata": {},
   "outputs": [
    {
     "data": {
      "text/plain": [
       "str"
      ]
     },
     "execution_count": 14,
     "metadata": {},
     "output_type": "execute_result"
    }
   ],
   "source": [
    "type(db_host)"
   ]
  },
  {
   "cell_type": "code",
   "execution_count": 15,
   "id": "71495a6b-a484-48d6-88b4-fe243c92d605",
   "metadata": {},
   "outputs": [
    {
     "data": {
      "text/plain": [
       "float"
      ]
     },
     "execution_count": 15,
     "metadata": {},
     "output_type": "execute_result"
    }
   ],
   "source": [
    "type(learning_rate)"
   ]
  },
  {
   "cell_type": "code",
   "execution_count": 16,
   "id": "0a832725-6112-44b8-a0b2-f18262558115",
   "metadata": {},
   "outputs": [],
   "source": [
    "is_prod = True"
   ]
  },
  {
   "cell_type": "code",
   "execution_count": 17,
   "id": "57fb18d6-2585-4147-b178-cfb690b8d4b8",
   "metadata": {},
   "outputs": [
    {
     "data": {
      "text/plain": [
       "bool"
      ]
     },
     "execution_count": 17,
     "metadata": {},
     "output_type": "execute_result"
    }
   ],
   "source": [
    "type(is_prod)"
   ]
  },
  {
   "cell_type": "code",
   "execution_count": 18,
   "id": "04902bb0-b04c-463b-88b7-43a06f3fe8ff",
   "metadata": {},
   "outputs": [],
   "source": [
    "# Python List\n",
    "# consists of collection of elements enclosed in [] brackets\n",
    "# contains elements from any datatype\n",
    "l1 = [1, 0.04, \"hello\", True]"
   ]
  },
  {
   "cell_type": "code",
   "execution_count": 19,
   "id": "d17538b5-7ec2-4101-992b-1e33b38a22fd",
   "metadata": {},
   "outputs": [
    {
     "data": {
      "text/plain": [
       "[1, 0.04, 'hello', True]"
      ]
     },
     "execution_count": 19,
     "metadata": {},
     "output_type": "execute_result"
    }
   ],
   "source": [
    "l1"
   ]
  },
  {
   "cell_type": "code",
   "execution_count": 20,
   "id": "63685703-7d7f-4936-8e07-000a1f403ab0",
   "metadata": {},
   "outputs": [
    {
     "data": {
      "text/plain": [
       "list"
      ]
     },
     "execution_count": 20,
     "metadata": {},
     "output_type": "execute_result"
    }
   ],
   "source": [
    "type(l1)"
   ]
  },
  {
   "cell_type": "code",
   "execution_count": 21,
   "id": "6c57abec-2afb-407b-9c4c-8e834acb4965",
   "metadata": {},
   "outputs": [],
   "source": [
    "# Python Tuple\n",
    "#collection of items enclosed in () brackets\n",
    "# contains elements from any datatype\n",
    "\n",
    "l1 = (5.6, 67, \"hi\", False)"
   ]
  },
  {
   "cell_type": "code",
   "execution_count": 22,
   "id": "555d4de4-5101-4790-b2fd-2ad49082c9a2",
   "metadata": {},
   "outputs": [
    {
     "data": {
      "text/plain": [
       "(5.6, 67, 'hi', False)"
      ]
     },
     "execution_count": 22,
     "metadata": {},
     "output_type": "execute_result"
    }
   ],
   "source": [
    "l1"
   ]
  },
  {
   "cell_type": "code",
   "execution_count": 23,
   "id": "42c87359-1236-4265-83f6-1a02840e07c1",
   "metadata": {},
   "outputs": [
    {
     "data": {
      "text/plain": [
       "tuple"
      ]
     },
     "execution_count": 23,
     "metadata": {},
     "output_type": "execute_result"
    }
   ],
   "source": [
    "type(l1)"
   ]
  },
  {
   "cell_type": "code",
   "execution_count": 25,
   "id": "fc4c7ebd-b1e6-47c7-89bb-d302a6655902",
   "metadata": {},
   "outputs": [],
   "source": [
    "# python dict\n",
    "# consist of key value pairs\n",
    "\n",
    "dict = {\"name\": \"John smith\", \"age\": 29, \"Married\": False}"
   ]
  },
  {
   "cell_type": "code",
   "execution_count": 26,
   "id": "9985a5fc-70e8-4bb6-ae84-cf1cb9d43f37",
   "metadata": {},
   "outputs": [
    {
     "data": {
      "text/plain": [
       "dict"
      ]
     },
     "execution_count": 26,
     "metadata": {},
     "output_type": "execute_result"
    }
   ],
   "source": [
    "type(dict)"
   ]
  },
  {
   "cell_type": "markdown",
   "id": "3b3097a8-9c4e-402e-90b2-97c197ed3dd1",
   "metadata": {},
   "source": [
    "## Comments in Python"
   ]
  },
  {
   "cell_type": "code",
   "execution_count": 27,
   "id": "0034b68c-63d8-45a8-8665-5d1c63534f7a",
   "metadata": {},
   "outputs": [],
   "source": [
    "# starting with # is a single line comment\n",
    "# Multiline comments \"\"\"or '''"
   ]
  },
  {
   "cell_type": "code",
   "execution_count": 29,
   "id": "abae4c8c-61c3-4238-924f-e7efd0c3b68a",
   "metadata": {},
   "outputs": [],
   "source": [
    "x = 10 # assiging 10 to X"
   ]
  },
  {
   "cell_type": "code",
   "execution_count": 30,
   "id": "ffd940c8-9a23-4709-957d-0c00bc257e33",
   "metadata": {},
   "outputs": [
    {
     "data": {
      "text/plain": [
       "10"
      ]
     },
     "execution_count": 30,
     "metadata": {},
     "output_type": "execute_result"
    }
   ],
   "source": [
    "x"
   ]
  },
  {
   "cell_type": "code",
   "execution_count": 34,
   "id": "41412ec7-baeb-4dbb-b6fe-b1b0610aec90",
   "metadata": {},
   "outputs": [
    {
     "data": {
      "text/plain": [
       "' \\nHello World\\nI am a Rockstar\\n'"
      ]
     },
     "execution_count": 34,
     "metadata": {},
     "output_type": "execute_result"
    }
   ],
   "source": [
    "''' \n",
    "Hello World\n",
    "I am a Rockstar\n",
    "'''"
   ]
  },
  {
   "cell_type": "markdown",
   "id": "51ba1864-ea08-4938-8fb9-de4411a95766",
   "metadata": {},
   "source": [
    "## Operators in python"
   ]
  },
  {
   "cell_type": "markdown",
   "id": "a5c34421-3cbb-4b21-9e42-4ccb1e964f4e",
   "metadata": {},
   "source": [
    "- Artihmetic Operator\n",
    "\n",
    "  x = 5\n",
    "  additon = x+y\n",
    "  subtraction = x-y\n",
    "  mutiplication = x * y\n",
    "  division = x / y\n",
    "  modulus = x % y\n",
    "  exponentiation = x ** y ie 5 ** 2 => 25\n",
    "\n",
    "- Assignment Operator\n",
    "\n",
    "  assign value to variables\n",
    "  include = += -= *= /= %= //= \n",
    "\n",
    "  eg x =10  and x+= 5 is x = x+5 ie x = 10+5 , x =15\n",
    "\n",
    "- Comparison Operator\n",
    "\n",
    "  compare between 2 values\n",
    "  output wil be True or False base on comparison\n",
    "  include == != > < >= <=\n",
    "\n",
    "\n",
    "- Logical Operator\n",
    "\n",
    "  used to combine condtional statements\n",
    "  includes and, or, not"
   ]
  },
  {
   "cell_type": "code",
   "execution_count": 36,
   "id": "1be49e5f-369f-44b3-8cb5-1cb13344e806",
   "metadata": {},
   "outputs": [
    {
     "data": {
      "text/plain": [
       "15"
      ]
     },
     "execution_count": 36,
     "metadata": {},
     "output_type": "execute_result"
    }
   ],
   "source": [
    "# Arithmetic Operator\n",
    "a =10\n",
    "b =5\n",
    "\n",
    "addition = a+b\n",
    "addition"
   ]
  },
  {
   "cell_type": "code",
   "execution_count": 38,
   "id": "5dd85f5f-ef6b-413e-abc9-ae2fd65ca18b",
   "metadata": {},
   "outputs": [
    {
     "data": {
      "text/plain": [
       "0"
      ]
     },
     "execution_count": 38,
     "metadata": {},
     "output_type": "execute_result"
    }
   ],
   "source": [
    "modulus = a % b\n",
    "modulus"
   ]
  },
  {
   "cell_type": "code",
   "execution_count": 40,
   "id": "43195a70-05f0-4051-8b5f-5c72e3984e34",
   "metadata": {},
   "outputs": [
    {
     "data": {
      "text/plain": [
       "100000"
      ]
     },
     "execution_count": 40,
     "metadata": {},
     "output_type": "execute_result"
    }
   ],
   "source": [
    "exp = a ** b\n",
    "exp"
   ]
  },
  {
   "cell_type": "code",
   "execution_count": 42,
   "id": "41e2ae04-209e-443e-90a6-4acaf0a3b949",
   "metadata": {},
   "outputs": [
    {
     "data": {
      "text/plain": [
       "(2.0, float)"
      ]
     },
     "execution_count": 42,
     "metadata": {},
     "output_type": "execute_result"
    }
   ],
   "source": [
    "div = a/b\n",
    "div, type(div) # here it is float"
   ]
  },
  {
   "cell_type": "code",
   "execution_count": 43,
   "id": "9cd3f957-0db0-4096-a60a-c7874345be61",
   "metadata": {},
   "outputs": [
    {
     "data": {
      "text/plain": [
       "(2, int)"
      ]
     },
     "execution_count": 43,
     "metadata": {},
     "output_type": "execute_result"
    }
   ],
   "source": [
    "# to get the divsion with integer value use floor divsion\n",
    "f = a // b\n",
    "f, type(f)"
   ]
  },
  {
   "cell_type": "code",
   "execution_count": 44,
   "id": "0587c802-75a0-485c-982e-208f1fe7e661",
   "metadata": {},
   "outputs": [],
   "source": [
    "# assignment Operators"
   ]
  },
  {
   "cell_type": "code",
   "execution_count": 45,
   "id": "8744695f-d7c2-4487-8934-7d09994c15dc",
   "metadata": {},
   "outputs": [],
   "source": [
    "x = 5"
   ]
  },
  {
   "cell_type": "code",
   "execution_count": 46,
   "id": "85688f31-9e64-415a-81d3-f6668921c82b",
   "metadata": {},
   "outputs": [
    {
     "data": {
      "text/plain": [
       "5"
      ]
     },
     "execution_count": 46,
     "metadata": {},
     "output_type": "execute_result"
    }
   ],
   "source": [
    "x"
   ]
  },
  {
   "cell_type": "code",
   "execution_count": 47,
   "id": "3ca5dde7-4d15-46fb-af84-13ed6f4155e1",
   "metadata": {},
   "outputs": [],
   "source": [
    "x += 1"
   ]
  },
  {
   "cell_type": "code",
   "execution_count": 49,
   "id": "3853939f-a098-4bae-98c4-e223c6552124",
   "metadata": {},
   "outputs": [
    {
     "data": {
      "text/plain": [
       "6"
      ]
     },
     "execution_count": 49,
     "metadata": {},
     "output_type": "execute_result"
    }
   ],
   "source": [
    "x"
   ]
  },
  {
   "cell_type": "code",
   "execution_count": 50,
   "id": "5c1af2cd-ef48-420b-959d-abad41b03a02",
   "metadata": {},
   "outputs": [],
   "source": [
    "x -= 3"
   ]
  },
  {
   "cell_type": "code",
   "execution_count": 51,
   "id": "984509b6-5f06-4132-9a1e-044d2fa999e6",
   "metadata": {},
   "outputs": [
    {
     "data": {
      "text/plain": [
       "3"
      ]
     },
     "execution_count": 51,
     "metadata": {},
     "output_type": "execute_result"
    }
   ],
   "source": [
    "x"
   ]
  },
  {
   "cell_type": "code",
   "execution_count": 52,
   "id": "b5145daa-452a-43f8-a29d-9e75651141cb",
   "metadata": {},
   "outputs": [],
   "source": [
    "# Comparison Operators"
   ]
  },
  {
   "cell_type": "code",
   "execution_count": 53,
   "id": "b6574d67-dd23-4e0b-9fde-bea8bfaefa3d",
   "metadata": {},
   "outputs": [
    {
     "data": {
      "text/plain": [
       "False"
      ]
     },
     "execution_count": 53,
     "metadata": {},
     "output_type": "execute_result"
    }
   ],
   "source": [
    "a = 10\n",
    "b = 5\n",
    "\n",
    "a == b"
   ]
  },
  {
   "cell_type": "code",
   "execution_count": 54,
   "id": "96654854-7b0e-44a6-93d1-5da005738e7a",
   "metadata": {},
   "outputs": [
    {
     "data": {
      "text/plain": [
       "True"
      ]
     },
     "execution_count": 54,
     "metadata": {},
     "output_type": "execute_result"
    }
   ],
   "source": [
    "a!=b"
   ]
  },
  {
   "cell_type": "code",
   "execution_count": 55,
   "id": "ef109ea9-3997-42d0-9bbd-8eb38fff87aa",
   "metadata": {},
   "outputs": [
    {
     "data": {
      "text/plain": [
       "True"
      ]
     },
     "execution_count": 55,
     "metadata": {},
     "output_type": "execute_result"
    }
   ],
   "source": [
    "a > b"
   ]
  },
  {
   "cell_type": "code",
   "execution_count": 56,
   "id": "cc4f4f9c-ca6c-44d9-8482-251723c3ef09",
   "metadata": {},
   "outputs": [
    {
     "data": {
      "text/plain": [
       "False"
      ]
     },
     "execution_count": 56,
     "metadata": {},
     "output_type": "execute_result"
    }
   ],
   "source": [
    "a < b"
   ]
  },
  {
   "cell_type": "code",
   "execution_count": null,
   "id": "cb501033-95a6-4aad-885a-cd297e11bedd",
   "metadata": {},
   "outputs": [],
   "source": []
  }
 ],
 "metadata": {
  "kernelspec": {
   "display_name": "Python 3 (ipykernel)",
   "language": "python",
   "name": "python3"
  },
  "language_info": {
   "codemirror_mode": {
    "name": "ipython",
    "version": 3
   },
   "file_extension": ".py",
   "mimetype": "text/x-python",
   "name": "python",
   "nbconvert_exporter": "python",
   "pygments_lexer": "ipython3",
   "version": "3.13.5"
  }
 },
 "nbformat": 4,
 "nbformat_minor": 5
}
