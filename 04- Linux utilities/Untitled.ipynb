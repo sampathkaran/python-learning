{
 "cells": [
  {
   "cell_type": "markdown",
   "id": "f7d7a718-e793-4c0a-a739-27ab5d2fb355",
   "metadata": {},
   "source": [
    "## Fabric Package\n",
    "- used to commincate with remote servers\n",
    "- designed for streamlining the deployment and system administraton task\n",
    "- works by exeuting over ssh connection\n",
    "- contains tasks and fabfile\n",
    "- "
   ]
  }
 ],
 "metadata": {
  "kernelspec": {
   "display_name": "Python 3 (ipykernel)",
   "language": "python",
   "name": "python3"
  },
  "language_info": {
   "codemirror_mode": {
    "name": "ipython",
    "version": 3
   },
   "file_extension": ".py",
   "mimetype": "text/x-python",
   "name": "python",
   "nbconvert_exporter": "python",
   "pygments_lexer": "ipython3",
   "version": "3.13.5"
  }
 },
 "nbformat": 4,
 "nbformat_minor": 5
}
