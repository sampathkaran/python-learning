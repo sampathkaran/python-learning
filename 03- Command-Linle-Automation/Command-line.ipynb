{
 "cells": [
  {
   "cell_type": "markdown",
   "id": "90b343c8-cae7-40cc-84f4-077ca2922279",
   "metadata": {},
   "source": [
    "SYS module"
   ]
  },
  {
   "cell_type": "code",
   "execution_count": 1,
   "id": "ec2bfa3d-033c-4172-b605-97f08d15f2ac",
   "metadata": {},
   "outputs": [],
   "source": [
    "import sys"
   ]
  },
  {
   "cell_type": "code",
   "execution_count": 2,
   "id": "d12ff1fb-36ef-4915-bebe-6d22c521c81e",
   "metadata": {},
   "outputs": [
    {
     "data": {
      "text/plain": [
       "'little'"
      ]
     },
     "execution_count": 2,
     "metadata": {},
     "output_type": "execute_result"
    }
   ],
   "source": [
    "sys.byteorder ## see the byte order of current architecture"
   ]
  },
  {
   "cell_type": "code",
   "execution_count": 5,
   "id": "b7e13d24-78a5-4a0d-821c-fa3d0dd1cc8b",
   "metadata": {},
   "outputs": [
    {
     "data": {
      "text/plain": [
       "88"
      ]
     },
     "execution_count": 5,
     "metadata": {},
     "output_type": "execute_result"
    }
   ],
   "source": [
    "x =[1,23,4,5]\n",
    "sys.getsizeof(x) # in bytes"
   ]
  },
  {
   "cell_type": "code",
   "execution_count": 7,
   "id": "0d4ed789-dc79-43e8-a2a6-f1cd017b3034",
   "metadata": {},
   "outputs": [
    {
     "data": {
      "text/plain": [
       "'darwin'"
      ]
     },
     "execution_count": 7,
     "metadata": {},
     "output_type": "execute_result"
    }
   ],
   "source": [
    "sys.platform"
   ]
  },
  {
   "cell_type": "markdown",
   "id": "b15dd030-282f-4ddd-b774-691e82c34be0",
   "metadata": {},
   "source": [
    "OS module"
   ]
  },
  {
   "cell_type": "code",
   "execution_count": 9,
   "id": "f8e3c228-eb15-4b7f-871d-d7fb77b6eed4",
   "metadata": {},
   "outputs": [
    {
     "data": {
      "text/plain": [
       "'/Users/sampathk/study/python-learning/03- Command-Linle-Automation'"
      ]
     },
     "execution_count": 9,
     "metadata": {},
     "output_type": "execute_result"
    }
   ],
   "source": [
    "import os\n",
    "os.getcwd() # usually used to work with directories"
   ]
  },
  {
   "cell_type": "markdown",
   "id": "8f2a7640-8687-4371-9bb3-57d8e8689723",
   "metadata": {},
   "source": [
    "Command Line Arguments\n",
    "\n",
    "sys.argv\n",
    "\n",
    "- argv we can process the aguments from command line\n",
    "\n",
    "##### 1st arugment - script name\n",
    "#### 2nd is argument"
   ]
  },
  {
   "cell_type": "markdown",
   "id": "bf587ff9-fd20-42c2-b17a-597ec573a3a2",
   "metadata": {},
   "source": [
    "## Argparse"
   ]
  },
  {
   "cell_type": "markdown",
   "id": "e020b543-992b-45af-b6ef-e24104039579",
   "metadata": {},
   "source": [
    "## Functon Decorator"
   ]
  },
  {
   "cell_type": "markdown",
   "id": "1db639ae-ee57-48c2-945e-c7d417dee6bd",
   "metadata": {},
   "source": [
    "- deocrator are function that will add functionality to exisitng function\n",
    "- it will not modify the existing function\n",
    "- Decorator are wat to modify the behaviour of functon without changing the souce code of the function.\n",
    "- it will wrap the original functon\n",
    "```\n",
    "   @my_decorator\n",
    "   def my_function(..):\n",
    "      .\n",
    "      .\n",
    "   my_function = my_decorator(my_function)\n",
    "```"
   ]
  },
  {
   "cell_type": "code",
   "execution_count": 1,
   "id": "796d0803-0d2e-42a8-9dd4-35bcb459b652",
   "metadata": {},
   "outputs": [],
   "source": [
    "def greet(func):\n",
    "    def wrapper (*args, **kwargs):\n",
    "        print(\"welcome\")\n",
    "\n",
    "@greet\n",
    "def is_name(name):\n",
    "    print (f\"your name is {name}\")\n",
    "    "
   ]
  },
  {
   "cell_type": "code",
   "execution_count": 2,
   "id": "00552907-eae5-468d-90f1-677b21378d03",
   "metadata": {},
   "outputs": [
    {
     "ename": "TypeError",
     "evalue": "'NoneType' object is not callable",
     "output_type": "error",
     "traceback": [
      "\u001b[0;31m---------------------------------------------------------------------------\u001b[0m",
      "\u001b[0;31mTypeError\u001b[0m                                 Traceback (most recent call last)",
      "Cell \u001b[0;32mIn[2], line 1\u001b[0m\n\u001b[0;32m----> 1\u001b[0m is_name(\u001b[38;5;124m\"\u001b[39m\u001b[38;5;124msam\u001b[39m\u001b[38;5;124m\"\u001b[39m)\n",
      "\u001b[0;31mTypeError\u001b[0m: 'NoneType' object is not callable"
     ]
    }
   ],
   "source": [
    "is_name(\"sam\")"
   ]
  },
  {
   "cell_type": "code",
   "execution_count": null,
   "id": "bee7943a-e9a1-415d-a896-9b668f2456da",
   "metadata": {},
   "outputs": [],
   "source": []
  }
 ],
 "metadata": {
  "kernelspec": {
   "display_name": "Python 3 (ipykernel)",
   "language": "python",
   "name": "python3"
  },
  "language_info": {
   "codemirror_mode": {
    "name": "ipython",
    "version": 3
   },
   "file_extension": ".py",
   "mimetype": "text/x-python",
   "name": "python",
   "nbconvert_exporter": "python",
   "pygments_lexer": "ipython3",
   "version": "3.13.5"
  }
 },
 "nbformat": 4,
 "nbformat_minor": 5
}
