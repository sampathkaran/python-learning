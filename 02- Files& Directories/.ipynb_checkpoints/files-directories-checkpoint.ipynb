{
 "cells": [
  {
   "cell_type": "markdown",
   "id": "690f3006-a025-4c30-b59d-08c25b10fe82",
   "metadata": {},
   "source": [
    "## Python File Automation\n",
    "- work with files and filesystem\n",
    "- we use open() to open a file\n",
    "\n",
    "``` python \n",
    "    open(\"filename\", \"mode\")\n",
    "```\n",
    "\n",
    "mode = r-read, w- write, b- binary mode\n",
    "\n",
    "- close file using close()\n",
    "- read the file read()\n",
    "\n",
    "eg \n",
    "\n",
    "f = open(\"example.txt\", r)\n",
    "content = f.read()\n",
    "print(content)\n",
    "f.close()\n",
    "\n",
    "### directory\n",
    "- os module provides functions for interacting with operating system\n",
    "- os.mkdir() create directory\n",
    "- os.rmdir() remove directory\n",
    "\n",
    "import os\n",
    "os.mkdir(\"new dir\")\n",
    "os.chdir(\"new dir\")"
   ]
  },
  {
   "cell_type": "code",
   "execution_count": 1,
   "id": "e8f5c67c-e729-4d88-8885-fa41e0b0f435",
   "metadata": {},
   "outputs": [],
   "source": [
    "# working with files always start with open()"
   ]
  },
  {
   "cell_type": "code",
   "execution_count": 3,
   "id": "4e742abd-c7d4-40fd-bd82-989ae2d12cfc",
   "metadata": {},
   "outputs": [],
   "source": [
    "f = open(\"sam.txt\", \"wt\") # where t is text mode where it is default & if the file does not exist it will create it"
   ]
  },
  {
   "cell_type": "code",
   "execution_count": 4,
   "id": "c5a7cf27-397c-4dc5-b61b-d9c4d6de4249",
   "metadata": {},
   "outputs": [],
   "source": [
    "f.close()"
   ]
  },
  {
   "cell_type": "code",
   "execution_count": 5,
   "id": "06ef684e-c69e-4034-a558-5c31ee1ce949",
   "metadata": {},
   "outputs": [],
   "source": [
    "# write the data to the file use the print()"
   ]
  },
  {
   "cell_type": "code",
   "execution_count": 6,
   "id": "44ffb5ca-3ddb-477b-83ef-03248895ae1d",
   "metadata": {},
   "outputs": [],
   "source": [
    "f = open(\"sam.txt\", \"wt\")\n",
    "print(\"welcome to home\", file=f)\n",
    "f.close()"
   ]
  },
  {
   "cell_type": "code",
   "execution_count": 7,
   "id": "3be2041d-48d5-4fc1-8eae-2465d9614f5f",
   "metadata": {},
   "outputs": [],
   "source": [
    "# if you write again it will overwritten\n",
    "f = open(\"sam.txt\", \"wt\")\n",
    "print(\"sammy\", file=f)\n",
    "f.close()"
   ]
  },
  {
   "cell_type": "code",
   "execution_count": 9,
   "id": "6fca5a02-cda2-43eb-8ba0-b04601d26ff7",
   "metadata": {},
   "outputs": [],
   "source": [
    "# how to append the data ?\n",
    "f = open(\"sam.txt\", \"at\") # where a is append\n",
    "print(\"\\nthisis rocky\", file=f)\n",
    "f.close()"
   ]
  },
  {
   "cell_type": "code",
   "execution_count": 10,
   "id": "2d2e9f81-3969-4c32-b15c-e2d16e2f7404",
   "metadata": {},
   "outputs": [
    {
     "ename": "FileExistsError",
     "evalue": "[Errno 17] File exists: 'sam.txt'",
     "output_type": "error",
     "traceback": [
      "\u001b[0;31m---------------------------------------------------------------------------\u001b[0m",
      "\u001b[0;31mFileExistsError\u001b[0m                           Traceback (most recent call last)",
      "Cell \u001b[0;32mIn[10], line 2\u001b[0m\n\u001b[1;32m      1\u001b[0m \u001b[38;5;66;03m# how to append the data ?\u001b[39;00m\n\u001b[0;32m----> 2\u001b[0m f \u001b[38;5;241m=\u001b[39m \u001b[38;5;28mopen\u001b[39m(\u001b[38;5;124m\"\u001b[39m\u001b[38;5;124msam.txt\u001b[39m\u001b[38;5;124m\"\u001b[39m, \u001b[38;5;124m\"\u001b[39m\u001b[38;5;124mxt\u001b[39m\u001b[38;5;124m\"\u001b[39m) \u001b[38;5;66;03m# where a is append\u001b[39;00m\n\u001b[1;32m      3\u001b[0m \u001b[38;5;28mprint\u001b[39m(\u001b[38;5;124m\"\u001b[39m\u001b[38;5;130;01m\\n\u001b[39;00m\u001b[38;5;124mthisis rocky\u001b[39m\u001b[38;5;124m\"\u001b[39m, file\u001b[38;5;241m=\u001b[39mf)\n\u001b[1;32m      4\u001b[0m f\u001b[38;5;241m.\u001b[39mclose()\n",
      "File \u001b[0;32m/opt/anaconda3/lib/python3.13/site-packages/IPython/core/interactiveshell.py:324\u001b[0m, in \u001b[0;36m_modified_open\u001b[0;34m(file, *args, **kwargs)\u001b[0m\n\u001b[1;32m    317\u001b[0m \u001b[38;5;28;01mif\u001b[39;00m file \u001b[38;5;129;01min\u001b[39;00m {\u001b[38;5;241m0\u001b[39m, \u001b[38;5;241m1\u001b[39m, \u001b[38;5;241m2\u001b[39m}:\n\u001b[1;32m    318\u001b[0m     \u001b[38;5;28;01mraise\u001b[39;00m \u001b[38;5;167;01mValueError\u001b[39;00m(\n\u001b[1;32m    319\u001b[0m         \u001b[38;5;124mf\u001b[39m\u001b[38;5;124m\"\u001b[39m\u001b[38;5;124mIPython won\u001b[39m\u001b[38;5;124m'\u001b[39m\u001b[38;5;124mt let you open fd=\u001b[39m\u001b[38;5;132;01m{\u001b[39;00mfile\u001b[38;5;132;01m}\u001b[39;00m\u001b[38;5;124m by default \u001b[39m\u001b[38;5;124m\"\u001b[39m\n\u001b[1;32m    320\u001b[0m         \u001b[38;5;124m\"\u001b[39m\u001b[38;5;124mas it is likely to crash IPython. If you know what you are doing, \u001b[39m\u001b[38;5;124m\"\u001b[39m\n\u001b[1;32m    321\u001b[0m         \u001b[38;5;124m\"\u001b[39m\u001b[38;5;124myou can use builtins\u001b[39m\u001b[38;5;124m'\u001b[39m\u001b[38;5;124m open.\u001b[39m\u001b[38;5;124m\"\u001b[39m\n\u001b[1;32m    322\u001b[0m     )\n\u001b[0;32m--> 324\u001b[0m \u001b[38;5;28;01mreturn\u001b[39;00m io_open(file, \u001b[38;5;241m*\u001b[39margs, \u001b[38;5;241m*\u001b[39m\u001b[38;5;241m*\u001b[39mkwargs)\n",
      "\u001b[0;31mFileExistsError\u001b[0m: [Errno 17] File exists: 'sam.txt'"
     ]
    }
   ],
   "source": [
    "# how to append the data ?\n",
    "f = open(\"sam.txt\", \"xt\") # where x will write only if the file doesn't exist\n",
    "print(\"\\nthisis rocky\", file=f)\n",
    "f.close()"
   ]
  },
  {
   "cell_type": "code",
   "execution_count": 11,
   "id": "b8c34253-8834-4c3c-86ab-e3207af90251",
   "metadata": {},
   "outputs": [],
   "source": [
    "# how to append the data ?\n",
    "f = open(\"example_x.txt\", \"xt\") # where x will write only if the file doesn't exist\n",
    "print(\"\\nthisis rocky\", file=f)\n",
    "f.close()"
   ]
  },
  {
   "cell_type": "code",
   "execution_count": 12,
   "id": "d26def25-f43b-4bbd-a209-ec9b50e44c07",
   "metadata": {},
   "outputs": [],
   "source": [
    "# we can write the data using write()"
   ]
  },
  {
   "cell_type": "code",
   "execution_count": 13,
   "id": "6c957689-05e3-4ac3-bf94-3cb6e8246f6b",
   "metadata": {},
   "outputs": [],
   "source": [
    "text = \"\"\"A cold wind swept through the empty park, rustling the leaves like whispers in the dark. \n",
    "Somewhere nearby, a dog barked once and then fell silent. \n",
    "She tightened her coat and kept walking, pretending not to feel the weight of the memory\"\"\""
   ]
  },
  {
   "cell_type": "code",
   "execution_count": 15,
   "id": "d74d1967-111f-48e9-b6d8-b38dc29b4510",
   "metadata": {},
   "outputs": [],
   "source": [
    "f = open(\"random.txt\", \"wt\")\n",
    "f.write(text)         \n",
    "f.close()"
   ]
  },
  {
   "cell_type": "code",
   "execution_count": 16,
   "id": "b5eeb190-2eb6-49db-9b11-ed7bd1ffd854",
   "metadata": {},
   "outputs": [],
   "source": [
    "# reading the data we use read(), readine() or readlines()"
   ]
  },
  {
   "cell_type": "code",
   "execution_count": 18,
   "id": "eea28425-a6ef-433b-845a-dc7d88070f58",
   "metadata": {},
   "outputs": [
    {
     "data": {
      "text/plain": [
       "'A cold wind swept through the empty park, rustling the leaves like whispers in the dark. Somewhere nearby, a dog barked once and then fell silent. She tightened her coat and kept walking, pretending not to feel the weight of the memory'"
      ]
     },
     "execution_count": 18,
     "metadata": {},
     "output_type": "execute_result"
    }
   ],
   "source": [
    "x = open(\"random.txt\", \"rt\")\n",
    "context = x.read()\n",
    "x.close()\n",
    "context"
   ]
  },
  {
   "cell_type": "code",
   "execution_count": 21,
   "id": "ad534889-7f25-43ff-81d9-a5cfaf20b5c5",
   "metadata": {},
   "outputs": [],
   "source": [
    "x = open(\"random.txt\", \"rt\")\n",
    "line = x.readline()\n",
    "x.close()"
   ]
  },
  {
   "cell_type": "code",
   "execution_count": 22,
   "id": "f3e991d7-6b79-4cbb-bf84-b9011e1286fa",
   "metadata": {},
   "outputs": [
    {
     "data": {
      "text/plain": [
       "'A cold wind swept through the empty park, rustling the leaves like whispers in the dark. Somewhere nearby, a dog barked once and then fell silent. She tightened her coat and kept walking, pretending not to feel the weight of the memory'"
      ]
     },
     "execution_count": 22,
     "metadata": {},
     "output_type": "execute_result"
    }
   ],
   "source": [
    "line"
   ]
  },
  {
   "cell_type": "code",
   "execution_count": 23,
   "id": "7d1852ce-9e1f-441b-8709-68fc2b77427d",
   "metadata": {},
   "outputs": [],
   "source": [
    "# work with binary file"
   ]
  },
  {
   "cell_type": "code",
   "execution_count": 24,
   "id": "5a8fb98a-3fb3-42fb-8189-89e56de46cda",
   "metadata": {},
   "outputs": [],
   "source": [
    "# generate sample binary data\n",
    "bdata = bytes(range(0,256))"
   ]
  },
  {
   "cell_type": "code",
   "execution_count": 25,
   "id": "71900eb9-fc0e-4452-a69e-46eab6b77c11",
   "metadata": {},
   "outputs": [
    {
     "data": {
      "text/plain": [
       "b'\\x00\\x01\\x02\\x03\\x04\\x05\\x06\\x07\\x08\\t\\n\\x0b\\x0c\\r\\x0e\\x0f\\x10\\x11\\x12\\x13\\x14\\x15\\x16\\x17\\x18\\x19\\x1a\\x1b\\x1c\\x1d\\x1e\\x1f !\"#$%&\\'()*+,-./0123456789:;<=>?@ABCDEFGHIJKLMNOPQRSTUVWXYZ[\\\\]^_`abcdefghijklmnopqrstuvwxyz{|}~\\x7f\\x80\\x81\\x82\\x83\\x84\\x85\\x86\\x87\\x88\\x89\\x8a\\x8b\\x8c\\x8d\\x8e\\x8f\\x90\\x91\\x92\\x93\\x94\\x95\\x96\\x97\\x98\\x99\\x9a\\x9b\\x9c\\x9d\\x9e\\x9f\\xa0\\xa1\\xa2\\xa3\\xa4\\xa5\\xa6\\xa7\\xa8\\xa9\\xaa\\xab\\xac\\xad\\xae\\xaf\\xb0\\xb1\\xb2\\xb3\\xb4\\xb5\\xb6\\xb7\\xb8\\xb9\\xba\\xbb\\xbc\\xbd\\xbe\\xbf\\xc0\\xc1\\xc2\\xc3\\xc4\\xc5\\xc6\\xc7\\xc8\\xc9\\xca\\xcb\\xcc\\xcd\\xce\\xcf\\xd0\\xd1\\xd2\\xd3\\xd4\\xd5\\xd6\\xd7\\xd8\\xd9\\xda\\xdb\\xdc\\xdd\\xde\\xdf\\xe0\\xe1\\xe2\\xe3\\xe4\\xe5\\xe6\\xe7\\xe8\\xe9\\xea\\xeb\\xec\\xed\\xee\\xef\\xf0\\xf1\\xf2\\xf3\\xf4\\xf5\\xf6\\xf7\\xf8\\xf9\\xfa\\xfb\\xfc\\xfd\\xfe\\xff'"
      ]
     },
     "execution_count": 25,
     "metadata": {},
     "output_type": "execute_result"
    }
   ],
   "source": [
    "bdata"
   ]
  },
  {
   "cell_type": "code",
   "execution_count": 26,
   "id": "6a839f42-3a8e-4a18-885d-864266c72945",
   "metadata": {},
   "outputs": [
    {
     "data": {
      "text/plain": [
       "256"
      ]
     },
     "execution_count": 26,
     "metadata": {},
     "output_type": "execute_result"
    }
   ],
   "source": [
    "len(bdata)"
   ]
  },
  {
   "cell_type": "code",
   "execution_count": 28,
   "id": "780dda66-6f43-4601-b12e-c2501d220670",
   "metadata": {},
   "outputs": [
    {
     "data": {
      "text/plain": [
       "bytes"
      ]
     },
     "execution_count": 28,
     "metadata": {},
     "output_type": "execute_result"
    }
   ],
   "source": [
    "type(bdata)"
   ]
  },
  {
   "cell_type": "code",
   "execution_count": 30,
   "id": "ada6b66e-f375-485c-91ad-3cc064015a6e",
   "metadata": {},
   "outputs": [],
   "source": [
    "f = open(\"binary.txt\", \"wb\")\n",
    "f.write(bdata)\n",
    "f.close()"
   ]
  },
  {
   "cell_type": "code",
   "execution_count": 31,
   "id": "1f600a51-b850-4150-b9f1-e728a8dc9312",
   "metadata": {},
   "outputs": [],
   "source": [
    "# close files with keyword"
   ]
  },
  {
   "cell_type": "code",
   "execution_count": 34,
   "id": "3f65dff4-fb47-4cb9-aa02-cde1bda2eb82",
   "metadata": {},
   "outputs": [
    {
     "name": "stdout",
     "output_type": "stream",
     "text": [
      "b'\\x00\\x01\\x02\\x03\\x04\\x05\\x06\\x07\\x08\\t\\n\\x0b\\x0c\\r\\x0e\\x0f\\x10\\x11\\x12\\x13\\x14\\x15\\x16\\x17\\x18\\x19\\x1a\\x1b\\x1c\\x1d\\x1e\\x1f !\"#$%&\\'()*+,-./0123456789:;<=>?@ABCDEFGHIJKLMNOPQRSTUVWXYZ[\\\\]^_`abcdefghijklmnopqrstuvwxyz{|}~\\x7f\\x80\\x81\\x82\\x83\\x84\\x85\\x86\\x87\\x88\\x89\\x8a\\x8b\\x8c\\x8d\\x8e\\x8f\\x90\\x91\\x92\\x93\\x94\\x95\\x96\\x97\\x98\\x99\\x9a\\x9b\\x9c\\x9d\\x9e\\x9f\\xa0\\xa1\\xa2\\xa3\\xa4\\xa5\\xa6\\xa7\\xa8\\xa9\\xaa\\xab\\xac\\xad\\xae\\xaf\\xb0\\xb1\\xb2\\xb3\\xb4\\xb5\\xb6\\xb7\\xb8\\xb9\\xba\\xbb\\xbc\\xbd\\xbe\\xbf\\xc0\\xc1\\xc2\\xc3\\xc4\\xc5\\xc6\\xc7\\xc8\\xc9\\xca\\xcb\\xcc\\xcd\\xce\\xcf\\xd0\\xd1\\xd2\\xd3\\xd4\\xd5\\xd6\\xd7\\xd8\\xd9\\xda\\xdb\\xdc\\xdd\\xde\\xdf\\xe0\\xe1\\xe2\\xe3\\xe4\\xe5\\xe6\\xe7\\xe8\\xe9\\xea\\xeb\\xec\\xed\\xee\\xef\\xf0\\xf1\\xf2\\xf3\\xf4\\xf5\\xf6\\xf7\\xf8\\xf9\\xfa\\xfb\\xfc\\xfd\\xfe\\xff'\n"
     ]
    }
   ],
   "source": [
    "with open(\"binary.txt\", \"rb\") as x:\n",
    "   print(x.read())\n"
   ]
  },
  {
   "cell_type": "code",
   "execution_count": 35,
   "id": "5e1245b5-9464-4b3f-8b5d-51a2a767675e",
   "metadata": {},
   "outputs": [],
   "source": [
    "# apart from text files we use binary for other file formats like jped, pdf etc"
   ]
  },
  {
   "cell_type": "markdown",
   "id": "35c733c2-ac77-4309-8983-a47026d8e743",
   "metadata": {},
   "source": [
    "## work with other file formats\n",
    "\n",
    "- direnv tool to automatically setup env variables\n",
    "- .envrc file to set env varaibles -this file will be used by direnv tool"
   ]
  },
  {
   "cell_type": "code",
   "execution_count": 38,
   "id": "a966784b-ebfc-400f-b7bd-2116b90e1512",
   "metadata": {},
   "outputs": [],
   "source": [
    "text = ''' \n",
    "export DATABASE_URL = \"dummy URL\"\n",
    "export API_KEY = \"your key\"\n",
    "export PORT = \"3000\"\n",
    "'''"
   ]
  },
  {
   "cell_type": "code",
   "execution_count": 39,
   "id": "5df33f56-2a3e-40fa-8037-c38607c0ea49",
   "metadata": {},
   "outputs": [
    {
     "data": {
      "text/plain": [
       "' \\nexport DATABASE_URL = \"dummy URL\"\\nexport API_KEY = \"your key\"\\nexport PORT = \"3000\"\\n'"
      ]
     },
     "execution_count": 39,
     "metadata": {},
     "output_type": "execute_result"
    }
   ],
   "source": [
    "text"
   ]
  },
  {
   "cell_type": "code",
   "execution_count": 41,
   "id": "34966855-2cf0-4d62-9294-116ff412ac61",
   "metadata": {},
   "outputs": [],
   "source": [
    "# write the text to .envrc file\n",
    "\n",
    "with open(\".envrc\", \"wt\") as file:\n",
    "    file.write(text)"
   ]
  },
  {
   "cell_type": "code",
   "execution_count": 42,
   "id": "f5e5374e-c326-4e0a-9e55-9e050c4b8215",
   "metadata": {},
   "outputs": [],
   "source": [
    "# read the AWS json file\n",
    "\n",
    "with open(\"policy.json\", \"rt\") as f:\n",
    "    policy= f.readlines()"
   ]
  },
  {
   "cell_type": "code",
   "execution_count": 43,
   "id": "28ad17ad-4b5e-487d-9df1-02ae0a3f9272",
   "metadata": {},
   "outputs": [
    {
     "data": {
      "text/plain": [
       "['{\\n',\n",
       " '  \"Version\": \"2012-10-17\",\\n',\n",
       " '  \"Statement\": [\\n',\n",
       " '    {\\n',\n",
       " '      \"Effect\": \"Allow\",\\n',\n",
       " '      \"Action\": [\\n',\n",
       " '        \"s3:GetObject\",\\n',\n",
       " '        \"s3:ListBucket\"\\n',\n",
       " '      ],\\n',\n",
       " '      \"Resource\": [\\n',\n",
       " '        \"arn:aws:s3:::your-bucket-name\",\\n',\n",
       " '        \"arn:aws:s3:::your-bucket-name/*\"\\n',\n",
       " '      ]\\n',\n",
       " '    }\\n',\n",
       " '  ]\\n',\n",
       " '}\\n']"
      ]
     },
     "execution_count": 43,
     "metadata": {},
     "output_type": "execute_result"
    }
   ],
   "source": [
    "policy"
   ]
  },
  {
   "cell_type": "code",
   "execution_count": 44,
   "id": "97e9dda5-de2e-46e2-8394-26b8c4d1507c",
   "metadata": {},
   "outputs": [],
   "source": [
    "# the output is list and not user friendly, so we use a module called json"
   ]
  },
  {
   "cell_type": "code",
   "execution_count": 45,
   "id": "6e19315f-fc8e-4bc3-8f46-902392de2788",
   "metadata": {},
   "outputs": [],
   "source": [
    "import json\n",
    "\n",
    "with open(\"policy.json\", \"rt\") as f:\n",
    "    policy= json.load(f)"
   ]
  },
  {
   "cell_type": "code",
   "execution_count": 46,
   "id": "2b1d2639-fbd2-4f4a-922b-32fb0ba5ac18",
   "metadata": {},
   "outputs": [
    {
     "data": {
      "text/plain": [
       "{'Version': '2012-10-17',\n",
       " 'Statement': [{'Effect': 'Allow',\n",
       "   'Action': ['s3:GetObject', 's3:ListBucket'],\n",
       "   'Resource': ['arn:aws:s3:::your-bucket-name',\n",
       "    'arn:aws:s3:::your-bucket-name/*']}]}"
      ]
     },
     "execution_count": 46,
     "metadata": {},
     "output_type": "execute_result"
    }
   ],
   "source": [
    "policy"
   ]
  },
  {
   "cell_type": "code",
   "execution_count": 47,
   "id": "419d781d-8103-421a-97b5-aca11dfeb203",
   "metadata": {},
   "outputs": [],
   "source": [
    "import pprint ## pretty print"
   ]
  },
  {
   "cell_type": "code",
   "execution_count": 48,
   "id": "4ed94b63-9785-49f0-a720-8dc4349ff7ae",
   "metadata": {},
   "outputs": [
    {
     "name": "stdout",
     "output_type": "stream",
     "text": [
      "{'Statement': [{'Action': ['s3:GetObject', 's3:ListBucket'],\n",
      "                'Effect': 'Allow',\n",
      "                'Resource': ['arn:aws:s3:::your-bucket-name',\n",
      "                             'arn:aws:s3:::your-bucket-name/*']}],\n",
      " 'Version': '2012-10-17'}\n"
     ]
    }
   ],
   "source": [
    "pprint.pprint(policy)"
   ]
  },
  {
   "cell_type": "code",
   "execution_count": 49,
   "id": "6d1259ae-8ffc-415e-9189-3eec3dfea395",
   "metadata": {},
   "outputs": [],
   "source": [
    "# yaml file - it is similar to python"
   ]
  },
  {
   "cell_type": "code",
   "execution_count": 50,
   "id": "29b21769-cd5b-4920-8eae-c0215f49397a",
   "metadata": {},
   "outputs": [],
   "source": [
    "# we the library pyyaml for parsing yaml"
   ]
  },
  {
   "cell_type": "code",
   "execution_count": 51,
   "id": "40730da2-49aa-4b75-976e-2ebfc4d57d5f",
   "metadata": {},
   "outputs": [
    {
     "name": "stdout",
     "output_type": "stream",
     "text": [
      "Requirement already satisfied: PyYaml in /opt/anaconda3/lib/python3.13/site-packages (6.0.2)\n"
     ]
    }
   ],
   "source": [
    "! pip install PyYaml"
   ]
  },
  {
   "cell_type": "code",
   "execution_count": 55,
   "id": "a11ab371-3f3c-4450-8252-97aab4658495",
   "metadata": {},
   "outputs": [],
   "source": [
    "import yaml\n",
    "\n",
    "with open(\"webservers.yaml\", \"rt\") as f:\n",
    "    server= yaml.safe_load(f)  # it will load the data python friendyl using python list and dict"
   ]
  },
  {
   "cell_type": "code",
   "execution_count": 56,
   "id": "e9956c66-0bb6-4a60-90df-96db9fee2724",
   "metadata": {},
   "outputs": [
    {
     "data": {
      "text/plain": [
       "[{'name': 'Install and start Apache web server',\n",
       "  'hosts': 'webservers',\n",
       "  'become': True,\n",
       "  'tasks': [{'name': 'Install Apache package',\n",
       "    'ansible.builtin.yum': {'name': 'httpd', 'state': 'present'}},\n",
       "   {'name': 'Ensure Apache is running and enabled',\n",
       "    'ansible.builtin.service': {'name': 'httpd',\n",
       "     'state': 'started',\n",
       "     'enabled': True}}]}]"
      ]
     },
     "execution_count": 56,
     "metadata": {},
     "output_type": "execute_result"
    }
   ],
   "source": [
    "server"
   ]
  },
  {
   "cell_type": "code",
   "execution_count": 57,
   "id": "2de15d76-2a0d-4927-99d2-d407c3ca5513",
   "metadata": {},
   "outputs": [
    {
     "name": "stdout",
     "output_type": "stream",
     "text": [
      "[{'become': True,\n",
      "  'hosts': 'webservers',\n",
      "  'name': 'Install and start Apache web server',\n",
      "  'tasks': [{'ansible.builtin.yum': {'name': 'httpd', 'state': 'present'},\n",
      "             'name': 'Install Apache package'},\n",
      "            {'ansible.builtin.service': {'enabled': True,\n",
      "                                         'name': 'httpd',\n",
      "                                         'state': 'started'},\n",
      "             'name': 'Ensure Apache is running and enabled'}]}]\n"
     ]
    }
   ],
   "source": [
    "pprint.pprint(server)"
   ]
  },
  {
   "cell_type": "code",
   "execution_count": 60,
   "id": "1a3d787b-8551-4d1b-8745-07d75be272ca",
   "metadata": {},
   "outputs": [],
   "source": [
    "# save the data\n",
    "with open(\"webservers2.yaml\", \"wt\") as f:\n",
    "    yaml.dump(server, f)"
   ]
  },
  {
   "cell_type": "markdown",
   "id": "799bd0e9-f937-4b7a-a973-4c84f5ed1c9d",
   "metadata": {},
   "source": [
    "# Text encryption in python\n",
    "- hashlib "
   ]
  },
  {
   "cell_type": "code",
   "execution_count": 61,
   "id": "f66ff74d-97f1-4be5-8d78-11376d06772f",
   "metadata": {},
   "outputs": [],
   "source": [
    "import hashlib"
   ]
  },
  {
   "cell_type": "code",
   "execution_count": 62,
   "id": "9d644af9-c06c-4b16-80a0-72b1f597ad7a",
   "metadata": {},
   "outputs": [],
   "source": [
    "# choose the algorithm such as md5, sha1, sha256"
   ]
  },
  {
   "cell_type": "code",
   "execution_count": 64,
   "id": "82e84129-2d9c-4854-98e9-a77162cb8495",
   "metadata": {},
   "outputs": [],
   "source": [
    "data = \"This is a password\" .encode()"
   ]
  },
  {
   "cell_type": "code",
   "execution_count": 65,
   "id": "b8a6d71f-4f15-4562-95bc-7a3774cf20c8",
   "metadata": {},
   "outputs": [
    {
     "data": {
      "text/plain": [
       "b'This is a password'"
      ]
     },
     "execution_count": 65,
     "metadata": {},
     "output_type": "execute_result"
    }
   ],
   "source": [
    "data"
   ]
  },
  {
   "cell_type": "code",
   "execution_count": 66,
   "id": "3c3b91e6-7ce3-463d-b595-fce2e62c5dec",
   "metadata": {},
   "outputs": [],
   "source": [
    "x = hashlib.sha256(data)"
   ]
  },
  {
   "cell_type": "code",
   "execution_count": 67,
   "id": "160ab490-0385-448b-a608-7d698f17515d",
   "metadata": {},
   "outputs": [
    {
     "data": {
      "text/plain": [
       "<sha256 _hashlib.HASH object @ 0x112328390>"
      ]
     },
     "execution_count": 67,
     "metadata": {},
     "output_type": "execute_result"
    }
   ],
   "source": [
    "x"
   ]
  },
  {
   "cell_type": "code",
   "execution_count": 68,
   "id": "b43a1638-41c6-4422-b310-6d0f2348bf4f",
   "metadata": {},
   "outputs": [],
   "source": [
    "# cannot directly decode back to original data"
   ]
  },
  {
   "cell_type": "code",
   "execution_count": 69,
   "id": "f29250ab-7e16-4773-bdfc-793de03873ce",
   "metadata": {},
   "outputs": [],
   "source": [
    "# cryptography"
   ]
  },
  {
   "cell_type": "code",
   "execution_count": 70,
   "id": "ef62386f-98a7-4844-94f5-e188f8d73216",
   "metadata": {},
   "outputs": [
    {
     "name": "stdout",
     "output_type": "stream",
     "text": [
      "Requirement already satisfied: cryptography in /opt/anaconda3/lib/python3.13/site-packages (44.0.1)\n",
      "Requirement already satisfied: cffi>=1.12 in /opt/anaconda3/lib/python3.13/site-packages (from cryptography) (1.17.1)\n",
      "Requirement already satisfied: pycparser in /opt/anaconda3/lib/python3.13/site-packages (from cffi>=1.12->cryptography) (2.21)\n"
     ]
    }
   ],
   "source": [
    "!pip install cryptography"
   ]
  },
  {
   "cell_type": "code",
   "execution_count": 71,
   "id": "e9630bb4-1d8a-42d9-87f2-1c0dace7d6c4",
   "metadata": {},
   "outputs": [],
   "source": [
    "# hazmat\n",
    "# recepies - it is an api\n",
    "# use case symmetric Encryption - encode and decode with same key\n",
    "# AES algo"
   ]
  },
  {
   "cell_type": "markdown",
   "id": "0ac92ea9-f028-4c1b-9cd5-f40920013d09",
   "metadata": {},
   "source": [
    "## Work with the directories"
   ]
  },
  {
   "cell_type": "code",
   "execution_count": 73,
   "id": "f10e76ff-96d9-44c3-96c5-5863d4b097b9",
   "metadata": {},
   "outputs": [],
   "source": [
    "import os"
   ]
  },
  {
   "cell_type": "code",
   "execution_count": 74,
   "id": "7cd27d8c-ee9a-44fd-8bad-4e5918c797fa",
   "metadata": {},
   "outputs": [
    {
     "data": {
      "text/plain": [
       "'/Users/sampathk/study/python-learning'"
      ]
     },
     "execution_count": 74,
     "metadata": {},
     "output_type": "execute_result"
    }
   ],
   "source": [
    "# current working directory\n",
    "os.getcwd()"
   ]
  },
  {
   "cell_type": "code",
   "execution_count": 75,
   "id": "42037c4a-cfe2-4114-8b82-92ca6dd7acba",
   "metadata": {},
   "outputs": [],
   "source": [
    "#os.chdir(r\"path\") # where r is raw string"
   ]
  },
  {
   "cell_type": "code",
   "execution_count": null,
   "id": "fb9fd239-c595-428c-a4dd-74befb160bce",
   "metadata": {},
   "outputs": [],
   "source": []
  }
 ],
 "metadata": {
  "kernelspec": {
   "display_name": "Python 3 (ipykernel)",
   "language": "python",
   "name": "python3"
  },
  "language_info": {
   "codemirror_mode": {
    "name": "ipython",
    "version": 3
   },
   "file_extension": ".py",
   "mimetype": "text/x-python",
   "name": "python",
   "nbconvert_exporter": "python",
   "pygments_lexer": "ipython3",
   "version": "3.13.5"
  }
 },
 "nbformat": 4,
 "nbformat_minor": 5
}
